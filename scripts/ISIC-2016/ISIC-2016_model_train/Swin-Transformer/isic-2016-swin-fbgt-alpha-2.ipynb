{
 "cells": [
  {
   "cell_type": "markdown",
   "metadata": {},
   "source": [
    "## Import Libraries"
   ]
  },
  {
   "cell_type": "code",
   "execution_count": 1,
   "metadata": {
    "execution": {
     "iopub.execute_input": "2023-02-18T17:52:02.970188Z",
     "iopub.status.busy": "2023-02-18T17:52:02.969726Z",
     "iopub.status.idle": "2023-02-18T17:52:03.060350Z",
     "shell.execute_reply": "2023-02-18T17:52:03.059034Z",
     "shell.execute_reply.started": "2023-02-18T17:52:02.970152Z"
    }
   },
   "outputs": [],
   "source": [
    "# general libraries\n",
    "import os\n",
    "import git\n",
    "import numpy as np\n",
    "import pandas as pd\n",
    "import seaborn as sns\n",
    "\n",
    "# hugging face libraries\n",
    "import evaluate\n",
    "from datasets import load_dataset\n",
    "from transformers import (\n",
    "    AutoFeatureExtractor,\n",
    "    AutoModelForImageClassification, \n",
    "    TrainingArguments, \n",
    "    Trainer\n",
    ")\n",
    "\n",
    "# pytorch libraries\n",
    "import torch\n",
    "from torchvision.transforms import (\n",
    "    Compose, \n",
    "    Normalize,\n",
    "    Resize,\n",
    "    ToTensor\n",
    ")\n",
    "\n",
    "# scikit-learn libraries\n",
    "from sklearn.metrics import (\n",
    "    roc_curve, \n",
    "    auc,\n",
    "    roc_auc_score,\n",
    "    precision_score,\n",
    "    recall_score,\n",
    "    f1_score,\n",
    "    accuracy_score,\n",
    "    classification_report,\n",
    "    confusion_matrix,\n",
    "    RocCurveDisplay\n",
    ")\n",
    "\n",
    "# plotting libraries\n",
    "from  matplotlib import pyplot as plt\n",
    "import matplotlib.ticker as mticker\n",
    "%matplotlib inline"
   ]
  },
  {
   "cell_type": "markdown",
   "metadata": {},
   "source": [
    "## Load Dataset"
   ]
  },
  {
   "cell_type": "code",
   "execution_count": 2,
   "metadata": {
    "execution": {
     "iopub.execute_input": "2023-02-18T17:52:03.063357Z",
     "iopub.status.busy": "2023-02-18T17:52:03.062901Z",
     "iopub.status.idle": "2023-02-18T17:52:26.512801Z",
     "shell.execute_reply": "2023-02-18T17:52:26.511394Z",
     "shell.execute_reply.started": "2023-02-18T17:52:03.063315Z"
    }
   },
   "outputs": [
    {
     "data": {
      "application/vnd.jupyter.widget-view+json": {
       "model_id": "295196bdee194aac9302162f2a3ffba2",
       "version_major": 2,
       "version_minor": 0
      },
      "text/plain": [
       "Resolving data files:   0%|          | 0/4000 [00:00<?, ?it/s]"
      ]
     },
     "metadata": {},
     "output_type": "display_data"
    },
    {
     "name": "stdout",
     "output_type": "stream",
     "text": [
      "Downloading and preparing dataset imagefolder/isic-2016-model-train-fbgt-alpha-2 to C:/Users/Mominul Islam/.cache/huggingface/datasets/imagefolder/isic-2016-model-train-fbgt-alpha-2-4b7fa3b69315813a/0.0.0/37fbb85cc714a338bea574ac6c7d0b5be5aff46c1862c1989b20e0771199e93f...\n"
     ]
    },
    {
     "data": {
      "application/vnd.jupyter.widget-view+json": {
       "model_id": "64173ca5f53b4996b12c6ae84c256c71",
       "version_major": 2,
       "version_minor": 0
      },
      "text/plain": [
       "Downloading data files:   0%|          | 0/4000 [00:00<?, ?it/s]"
      ]
     },
     "metadata": {},
     "output_type": "display_data"
    },
    {
     "data": {
      "application/vnd.jupyter.widget-view+json": {
       "model_id": "f0ac31e35aec42c48f1ba25e712e8ad6",
       "version_major": 2,
       "version_minor": 0
      },
      "text/plain": [
       "Downloading data files: 0it [00:00, ?it/s]"
      ]
     },
     "metadata": {},
     "output_type": "display_data"
    },
    {
     "data": {
      "application/vnd.jupyter.widget-view+json": {
       "model_id": "37e8161393094f0984845afe5cfa1415",
       "version_major": 2,
       "version_minor": 0
      },
      "text/plain": [
       "Extracting data files: 0it [00:00, ?it/s]"
      ]
     },
     "metadata": {},
     "output_type": "display_data"
    },
    {
     "data": {
      "application/vnd.jupyter.widget-view+json": {
       "model_id": "",
       "version_major": 2,
       "version_minor": 0
      },
      "text/plain": [
       "Generating train split: 0 examples [00:00, ? examples/s]"
      ]
     },
     "metadata": {},
     "output_type": "display_data"
    },
    {
     "name": "stdout",
     "output_type": "stream",
     "text": [
      "Dataset imagefolder downloaded and prepared to C:/Users/Mominul Islam/.cache/huggingface/datasets/imagefolder/isic-2016-model-train-fbgt-alpha-2-4b7fa3b69315813a/0.0.0/37fbb85cc714a338bea574ac6c7d0b5be5aff46c1862c1989b20e0771199e93f. Subsequent calls will reuse this data.\n"
     ]
    },
    {
     "data": {
      "application/vnd.jupyter.widget-view+json": {
       "model_id": "c2d32a87716a413e843ef30d4c06d96a",
       "version_major": 2,
       "version_minor": 0
      },
      "text/plain": [
       "  0%|          | 0/1 [00:00<?, ?it/s]"
      ]
     },
     "metadata": {},
     "output_type": "display_data"
    },
    {
     "data": {
      "application/vnd.jupyter.widget-view+json": {
       "model_id": "458709269c9c478f9d3d1c3c2c334248",
       "version_major": 2,
       "version_minor": 0
      },
      "text/plain": [
       "Resolving data files:   0%|          | 0/379 [00:00<?, ?it/s]"
      ]
     },
     "metadata": {},
     "output_type": "display_data"
    },
    {
     "name": "stderr",
     "output_type": "stream",
     "text": [
      "Found cached dataset imagefolder (C:/Users/Mominul Islam/.cache/huggingface/datasets/imagefolder/test-7b44c5f507d9e6ed/0.0.0/37fbb85cc714a338bea574ac6c7d0b5be5aff46c1862c1989b20e0771199e93f)\n"
     ]
    },
    {
     "data": {
      "application/vnd.jupyter.widget-view+json": {
       "model_id": "668fb15185b84929a4e1004859560f98",
       "version_major": 2,
       "version_minor": 0
      },
      "text/plain": [
       "  0%|          | 0/1 [00:00<?, ?it/s]"
      ]
     },
     "metadata": {},
     "output_type": "display_data"
    }
   ],
   "source": [
    "dataset_dir = os.path.abspath('../../../../datasets/ISIC-2016')\n",
    "\n",
    "train_dir = os.path.join(dataset_dir, 'dataset-processed/dataset-models/isic-2016-model-train-fbgt-alpha-2')\n",
    "test_dir = os.path.join(dataset_dir, 'split/test')\n",
    "\n",
    "train_ds = load_dataset(train_dir)\n",
    "val_ds = load_dataset(test_dir)"
   ]
  },
  {
   "cell_type": "code",
   "execution_count": 3,
   "metadata": {
    "execution": {
     "iopub.execute_input": "2023-02-18T17:52:26.514872Z",
     "iopub.status.busy": "2023-02-18T17:52:26.514468Z",
     "iopub.status.idle": "2023-02-18T17:52:26.522560Z",
     "shell.execute_reply": "2023-02-18T17:52:26.521259Z",
     "shell.execute_reply.started": "2023-02-18T17:52:26.514835Z"
    }
   },
   "outputs": [
    {
     "name": "stdout",
     "output_type": "stream",
     "text": [
      "train_ds:  DatasetDict({\n",
      "    train: Dataset({\n",
      "        features: ['image', 'label'],\n",
      "        num_rows: 4000\n",
      "    })\n",
      "})\n",
      "val_ds:  DatasetDict({\n",
      "    train: Dataset({\n",
      "        features: ['image', 'label'],\n",
      "        num_rows: 379\n",
      "    })\n",
      "})\n"
     ]
    }
   ],
   "source": [
    "# loaded dataset structure\n",
    "print('train_ds: ', train_ds)\n",
    "print('val_ds: ', val_ds)"
   ]
  },
  {
   "cell_type": "code",
   "execution_count": 4,
   "metadata": {
    "execution": {
     "iopub.execute_input": "2023-02-18T17:52:26.526391Z",
     "iopub.status.busy": "2023-02-18T17:52:26.525980Z",
     "iopub.status.idle": "2023-02-18T17:52:26.538339Z",
     "shell.execute_reply": "2023-02-18T17:52:26.536393Z",
     "shell.execute_reply.started": "2023-02-18T17:52:26.526354Z"
    }
   },
   "outputs": [
    {
     "name": "stdout",
     "output_type": "stream",
     "text": [
      "Training Samples:  4000\n",
      "Validation Samples:  379\n"
     ]
    }
   ],
   "source": [
    "# num of training and validation samples\n",
    "print('Training Samples: ', train_ds['train'].num_rows)\n",
    "print('Validation Samples: ', val_ds['train'].num_rows)"
   ]
  },
  {
   "cell_type": "code",
   "execution_count": 5,
   "metadata": {
    "execution": {
     "iopub.execute_input": "2023-02-18T17:52:26.540537Z",
     "iopub.status.busy": "2023-02-18T17:52:26.540156Z",
     "iopub.status.idle": "2023-02-18T17:52:26.553329Z",
     "shell.execute_reply": "2023-02-18T17:52:26.552129Z",
     "shell.execute_reply.started": "2023-02-18T17:52:26.540502Z"
    }
   },
   "outputs": [
    {
     "data": {
      "text/plain": [
       "ClassLabel(names=['benign', 'malignant'], id=None)"
      ]
     },
     "execution_count": 5,
     "metadata": {},
     "output_type": "execute_result"
    }
   ],
   "source": [
    "# num of features\n",
    "train_ds['train'].features['label']"
   ]
  },
  {
   "cell_type": "code",
   "execution_count": 6,
   "metadata": {
    "execution": {
     "iopub.execute_input": "2023-02-18T17:52:26.555682Z",
     "iopub.status.busy": "2023-02-18T17:52:26.555195Z",
     "iopub.status.idle": "2023-02-18T17:52:26.613524Z",
     "shell.execute_reply": "2023-02-18T17:52:26.612359Z",
     "shell.execute_reply.started": "2023-02-18T17:52:26.555611Z"
    }
   },
   "outputs": [
    {
     "data": {
      "image/png": "[encoded data removed]",
      "text/plain": [
       "<PIL.JpegImagePlugin.JpegImageFile image mode=RGB size=256x256>"
      ]
     },
     "execution_count": 6,
     "metadata": {},
     "output_type": "execute_result"
    }
   ],
   "source": [
    "# show image\n",
    "train_ds['train'][42]['image']"
   ]
  },
  {
   "cell_type": "code",
   "execution_count": 7,
   "metadata": {
    "execution": {
     "iopub.execute_input": "2023-02-18T17:52:26.615126Z",
     "iopub.status.busy": "2023-02-18T17:52:26.614831Z",
     "iopub.status.idle": "2023-02-18T17:52:26.625173Z",
     "shell.execute_reply": "2023-02-18T17:52:26.623892Z",
     "shell.execute_reply.started": "2023-02-18T17:52:26.615099Z"
    }
   },
   "outputs": [
    {
     "data": {
      "text/plain": [
       "0"
      ]
     },
     "execution_count": 7,
     "metadata": {},
     "output_type": "execute_result"
    }
   ],
   "source": [
    "# show label\n",
    "train_ds['train'][42]['label']"
   ]
  },
  {
   "cell_type": "code",
   "execution_count": 8,
   "metadata": {
    "execution": {
     "iopub.execute_input": "2023-02-18T17:52:26.627435Z",
     "iopub.status.busy": "2023-02-18T17:52:26.627100Z",
     "iopub.status.idle": "2023-02-18T17:52:26.632657Z",
     "shell.execute_reply": "2023-02-18T17:52:26.631923Z",
     "shell.execute_reply.started": "2023-02-18T17:52:26.627406Z"
    }
   },
   "outputs": [],
   "source": [
    "# convert labels\n",
    "labels = train_ds['train'].features['label'].names\n",
    "label2id, id2label = dict(), dict()\n",
    "\n",
    "for i, label in enumerate(labels):\n",
    "    label2id[label] = i\n",
    "    id2label[i] = label"
   ]
  },
  {
   "cell_type": "code",
   "execution_count": 9,
   "metadata": {
    "execution": {
     "iopub.execute_input": "2023-02-18T17:52:26.634057Z",
     "iopub.status.busy": "2023-02-18T17:52:26.633815Z",
     "iopub.status.idle": "2023-02-18T17:52:26.647801Z",
     "shell.execute_reply": "2023-02-18T17:52:26.646700Z",
     "shell.execute_reply.started": "2023-02-18T17:52:26.634033Z"
    }
   },
   "outputs": [
    {
     "data": {
      "text/plain": [
       "{'benign': 0, 'malignant': 1}"
      ]
     },
     "execution_count": 9,
     "metadata": {},
     "output_type": "execute_result"
    }
   ],
   "source": [
    "label2id"
   ]
  },
  {
   "cell_type": "code",
   "execution_count": 10,
   "metadata": {
    "execution": {
     "iopub.execute_input": "2023-02-18T17:52:26.654060Z",
     "iopub.status.busy": "2023-02-18T17:52:26.653705Z",
     "iopub.status.idle": "2023-02-18T17:52:26.660804Z",
     "shell.execute_reply": "2023-02-18T17:52:26.659559Z",
     "shell.execute_reply.started": "2023-02-18T17:52:26.654031Z"
    }
   },
   "outputs": [
    {
     "data": {
      "text/plain": [
       "{0: 'benign', 1: 'malignant'}"
      ]
     },
     "execution_count": 10,
     "metadata": {},
     "output_type": "execute_result"
    }
   ],
   "source": [
    "id2label"
   ]
  },
  {
   "cell_type": "markdown",
   "metadata": {},
   "source": [
    "### Swin Transformer"
   ]
  },
  {
   "cell_type": "code",
   "execution_count": 11,
   "metadata": {},
   "outputs": [
    {
     "name": "stdout",
     "output_type": "stream",
     "text": [
      "Folder already exist!\n"
     ]
    }
   ],
   "source": [
    "# download pre-trained model \n",
    "path = os.path.abspath('../../../../repository/Swin-Transformer')\n",
    "\n",
    "if os.path.exists(path):\n",
    "    print(\"Folder already exist!\")\n",
    "else:\n",
    "    os.makedirs(path)\n",
    "    print(\"Folder successfully created!\")\n",
    "    git.Git(path).clone('https://huggingface.co/microsoft/swin-tiny-patch4-window7-224')\n",
    "    print(\"Repository successfully cloned!\")"
   ]
  },
  {
   "cell_type": "code",
   "execution_count": 12,
   "metadata": {
    "execution": {
     "iopub.execute_input": "2023-02-18T17:52:26.673219Z",
     "iopub.status.busy": "2023-02-18T17:52:26.672456Z",
     "iopub.status.idle": "2023-02-18T17:52:26.698942Z",
     "shell.execute_reply": "2023-02-18T17:52:26.697833Z",
     "shell.execute_reply.started": "2023-02-18T17:52:26.673191Z"
    }
   },
   "outputs": [
    {
     "name": "stderr",
     "output_type": "stream",
     "text": [
      "C:\\Anaconda\\anaconda3\\envs\\csf-model\\lib\\site-packages\\transformers\\models\\vit\\feature_extraction_vit.py:28: FutureWarning: The class ViTFeatureExtractor is deprecated and will be removed in version 5 of Transformers. Please use ViTImageProcessor instead.\n",
      "  warnings.warn(\n",
      "Some weights of SwinForImageClassification were not initialized from the model checkpoint at D:\\Research\\Archive\\cossif\\repository\\Swin-Transformer\\swin-tiny-patch4-window7-224 and are newly initialized because the shapes did not match:\n",
      "- classifier.weight: found shape torch.Size([1000, 768]) in the checkpoint and torch.Size([2, 768]) in the model instantiated\n",
      "- classifier.bias: found shape torch.Size([1000]) in the checkpoint and torch.Size([2]) in the model instantiated\n",
      "You should probably TRAIN this model on a down-stream task to be able to use it for predictions and inference.\n"
     ]
    }
   ],
   "source": [
    "# load pre-trained model \n",
    "model_checkpoint = os.path.abspath('../../../../repository/Swin-Transformer/swin-tiny-patch4-window7-224')\n",
    "\n",
    "# feature extractor\n",
    "feature_extractor = AutoFeatureExtractor.from_pretrained(model_checkpoint)\n",
    "\n",
    "# Swin Transformer model\n",
    "model = AutoModelForImageClassification.from_pretrained(\n",
    "    model_checkpoint, \n",
    "    label2id=label2id,\n",
    "    id2label=id2label,\n",
    "    ignore_mismatched_sizes=True\n",
    ")"
   ]
  },
  {
   "cell_type": "code",
   "execution_count": 13,
   "metadata": {},
   "outputs": [
    {
     "name": "stdout",
     "output_type": "stream",
     "text": [
      "Number of trainable parameters for Swin Transformer model:  27.520892 million\n"
     ]
    }
   ],
   "source": [
    "# number of trainable parameters\n",
    "trainable_parameters = sum(p.numel() for p in model.parameters() if p.requires_grad)\n",
    "print('Number of trainable parameters for Swin Transformer model: ', '{0:.6f}'.format(trainable_parameters/1000000), 'million')"
   ]
  },
  {
   "cell_type": "code",
   "execution_count": 14,
   "metadata": {},
   "outputs": [
    {
     "data": {
      "text/plain": [
       "SwinForImageClassification(\n",
       "  (swin): SwinModel(\n",
       "    (embeddings): SwinEmbeddings(\n",
       "      (patch_embeddings): SwinPatchEmbeddings(\n",
       "        (projection): Conv2d(3, 96, kernel_size=(4, 4), stride=(4, 4))\n",
       "      )\n",
       "      (norm): LayerNorm((96,), eps=1e-05, elementwise_affine=True)\n",
       "      (dropout): Dropout(p=0.0, inplace=False)\n",
       "    )\n",
       "    (encoder): SwinEncoder(\n",
       "      (layers): ModuleList(\n",
       "        (0): SwinStage(\n",
       "          (blocks): ModuleList(\n",
       "            (0-1): 2 x SwinLayer(\n",
       "              (layernorm_before): LayerNorm((96,), eps=1e-05, elementwise_affine=True)\n",
       "              (attention): SwinAttention(\n",
       "                (self): SwinSelfAttention(\n",
       "                  (query): Linear(in_features=96, out_features=96, bias=True)\n",
       "                  (key): Linear(in_features=96, out_features=96, bias=True)\n",
       "                  (value): Linear(in_features=96, out_features=96, bias=True)\n",
       "                  (dropout): Dropout(p=0.0, inplace=False)\n",
       "                )\n",
       "                (output): SwinSelfOutput(\n",
       "                  (dense): Linear(in_features=96, out_features=96, bias=True)\n",
       "                  (dropout): Dropout(p=0.0, inplace=False)\n",
       "                )\n",
       "              )\n",
       "              (drop_path): SwinDropPath(p=0.1)\n",
       "              (layernorm_after): LayerNorm((96,), eps=1e-05, elementwise_affine=True)\n",
       "              (intermediate): SwinIntermediate(\n",
       "                (dense): Linear(in_features=96, out_features=384, bias=True)\n",
       "                (intermediate_act_fn): GELUActivation()\n",
       "              )\n",
       "              (output): SwinOutput(\n",
       "                (dense): Linear(in_features=384, out_features=96, bias=True)\n",
       "                (dropout): Dropout(p=0.0, inplace=False)\n",
       "              )\n",
       "            )\n",
       "          )\n",
       "          (downsample): SwinPatchMerging(\n",
       "            (reduction): Linear(in_features=384, out_features=192, bias=False)\n",
       "            (norm): LayerNorm((384,), eps=1e-05, elementwise_affine=True)\n",
       "          )\n",
       "        )\n",
       "        (1): SwinStage(\n",
       "          (blocks): ModuleList(\n",
       "            (0-1): 2 x SwinLayer(\n",
       "              (layernorm_before): LayerNorm((192,), eps=1e-05, elementwise_affine=True)\n",
       "              (attention): SwinAttention(\n",
       "                (self): SwinSelfAttention(\n",
       "                  (query): Linear(in_features=192, out_features=192, bias=True)\n",
       "                  (key): Linear(in_features=192, out_features=192, bias=True)\n",
       "                  (value): Linear(in_features=192, out_features=192, bias=True)\n",
       "                  (dropout): Dropout(p=0.0, inplace=False)\n",
       "                )\n",
       "                (output): SwinSelfOutput(\n",
       "                  (dense): Linear(in_features=192, out_features=192, bias=True)\n",
       "                  (dropout): Dropout(p=0.0, inplace=False)\n",
       "                )\n",
       "              )\n",
       "              (drop_path): SwinDropPath(p=0.1)\n",
       "              (layernorm_after): LayerNorm((192,), eps=1e-05, elementwise_affine=True)\n",
       "              (intermediate): SwinIntermediate(\n",
       "                (dense): Linear(in_features=192, out_features=768, bias=True)\n",
       "                (intermediate_act_fn): GELUActivation()\n",
       "              )\n",
       "              (output): SwinOutput(\n",
       "                (dense): Linear(in_features=768, out_features=192, bias=True)\n",
       "                (dropout): Dropout(p=0.0, inplace=False)\n",
       "              )\n",
       "            )\n",
       "          )\n",
       "          (downsample): SwinPatchMerging(\n",
       "            (reduction): Linear(in_features=768, out_features=384, bias=False)\n",
       "            (norm): LayerNorm((768,), eps=1e-05, elementwise_affine=True)\n",
       "          )\n",
       "        )\n",
       "        (2): SwinStage(\n",
       "          (blocks): ModuleList(\n",
       "            (0-5): 6 x SwinLayer(\n",
       "              (layernorm_before): LayerNorm((384,), eps=1e-05, elementwise_affine=True)\n",
       "              (attention): SwinAttention(\n",
       "                (self): SwinSelfAttention(\n",
       "                  (query): Linear(in_features=384, out_features=384, bias=True)\n",
       "                  (key): Linear(in_features=384, out_features=384, bias=True)\n",
       "                  (value): Linear(in_features=384, out_features=384, bias=True)\n",
       "                  (dropout): Dropout(p=0.0, inplace=False)\n",
       "                )\n",
       "                (output): SwinSelfOutput(\n",
       "                  (dense): Linear(in_features=384, out_features=384, bias=True)\n",
       "                  (dropout): Dropout(p=0.0, inplace=False)\n",
       "                )\n",
       "              )\n",
       "              (drop_path): SwinDropPath(p=0.1)\n",
       "              (layernorm_after): LayerNorm((384,), eps=1e-05, elementwise_affine=True)\n",
       "              (intermediate): SwinIntermediate(\n",
       "                (dense): Linear(in_features=384, out_features=1536, bias=True)\n",
       "                (intermediate_act_fn): GELUActivation()\n",
       "              )\n",
       "              (output): SwinOutput(\n",
       "                (dense): Linear(in_features=1536, out_features=384, bias=True)\n",
       "                (dropout): Dropout(p=0.0, inplace=False)\n",
       "              )\n",
       "            )\n",
       "          )\n",
       "          (downsample): SwinPatchMerging(\n",
       "            (reduction): Linear(in_features=1536, out_features=768, bias=False)\n",
       "            (norm): LayerNorm((1536,), eps=1e-05, elementwise_affine=True)\n",
       "          )\n",
       "        )\n",
       "        (3): SwinStage(\n",
       "          (blocks): ModuleList(\n",
       "            (0-1): 2 x SwinLayer(\n",
       "              (layernorm_before): LayerNorm((768,), eps=1e-05, elementwise_affine=True)\n",
       "              (attention): SwinAttention(\n",
       "                (self): SwinSelfAttention(\n",
       "                  (query): Linear(in_features=768, out_features=768, bias=True)\n",
       "                  (key): Linear(in_features=768, out_features=768, bias=True)\n",
       "                  (value): Linear(in_features=768, out_features=768, bias=True)\n",
       "                  (dropout): Dropout(p=0.0, inplace=False)\n",
       "                )\n",
       "                (output): SwinSelfOutput(\n",
       "                  (dense): Linear(in_features=768, out_features=768, bias=True)\n",
       "                  (dropout): Dropout(p=0.0, inplace=False)\n",
       "                )\n",
       "              )\n",
       "              (drop_path): SwinDropPath(p=0.1)\n",
       "              (layernorm_after): LayerNorm((768,), eps=1e-05, elementwise_affine=True)\n",
       "              (intermediate): SwinIntermediate(\n",
       "                (dense): Linear(in_features=768, out_features=3072, bias=True)\n",
       "                (intermediate_act_fn): GELUActivation()\n",
       "              )\n",
       "              (output): SwinOutput(\n",
       "                (dense): Linear(in_features=3072, out_features=768, bias=True)\n",
       "                (dropout): Dropout(p=0.0, inplace=False)\n",
       "              )\n",
       "            )\n",
       "          )\n",
       "        )\n",
       "      )\n",
       "    )\n",
       "    (layernorm): LayerNorm((768,), eps=1e-05, elementwise_affine=True)\n",
       "    (pooler): AdaptiveAvgPool1d(output_size=1)\n",
       "  )\n",
       "  (classifier): Linear(in_features=768, out_features=2, bias=True)\n",
       ")"
      ]
     },
     "execution_count": 14,
     "metadata": {},
     "output_type": "execute_result"
    }
   ],
   "source": [
    "# summary of the model\n",
    "model"
   ]
  },
  {
   "cell_type": "code",
   "execution_count": 15,
   "metadata": {},
   "outputs": [],
   "source": [
    "normalize = Normalize(\n",
    "    mean=feature_extractor.image_mean, \n",
    "    std=feature_extractor.image_std\n",
    ")\n",
    "\n",
    "train_transform = Compose([\n",
    "    Resize(feature_extractor.size['height']),\n",
    "    ToTensor(),\n",
    "    normalize,\n",
    "])\n",
    "\n",
    "val_transform = Compose([\n",
    "    Resize(feature_extractor.size['height']),\n",
    "    ToTensor(),\n",
    "    normalize,\n",
    "])\n",
    "\n",
    "def preprocess_train(example_batch):\n",
    "    example_batch[\"pixel_values\"] = [train_transform(image.convert(\"RGB\")) for image in example_batch[\"image\"]]\n",
    "    return example_batch\n",
    "\n",
    "def preprocess_val(example_batch):\n",
    "    example_batch[\"pixel_values\"] = [val_transform(image.convert(\"RGB\")) for image in example_batch[\"image\"]]\n",
    "    return example_batch"
   ]
  },
  {
   "cell_type": "code",
   "execution_count": 16,
   "metadata": {
    "execution": {
     "iopub.execute_input": "2023-02-18T17:52:26.709785Z",
     "iopub.status.busy": "2023-02-18T17:52:26.709393Z",
     "iopub.status.idle": "2023-02-18T17:52:26.717891Z",
     "shell.execute_reply": "2023-02-18T17:52:26.716975Z",
     "shell.execute_reply.started": "2023-02-18T17:52:26.709759Z"
    }
   },
   "outputs": [],
   "source": [
    "train_set = train_ds['train']\n",
    "val_set = val_ds['train']\n",
    "\n",
    "train_set.set_transform(preprocess_train)\n",
    "val_set.set_transform(preprocess_val)"
   ]
  },
  {
   "cell_type": "code",
   "execution_count": 17,
   "metadata": {},
   "outputs": [],
   "source": [
    "model_dir = os.path.abspath('../../../../models/ISIC-2016/Swin-Transformer/isic-2016-swin-fbgt-alpha-2')"
   ]
  },
  {
   "cell_type": "code",
   "execution_count": 18,
   "metadata": {
    "execution": {
     "iopub.execute_input": "2023-02-18T17:52:26.719421Z",
     "iopub.status.busy": "2023-02-18T17:52:26.718983Z",
     "iopub.status.idle": "2023-02-18T17:52:26.732766Z",
     "shell.execute_reply": "2023-02-18T17:52:26.731262Z",
     "shell.execute_reply.started": "2023-02-18T17:52:26.719397Z"
    }
   },
   "outputs": [],
   "source": [
    "batch_size = 24\n",
    "lr=5e-5\n",
    "epochs=5\n",
    "\n",
    "args = TrainingArguments(\n",
    "    output_dir=os.path.join(model_dir, 'saved_model'),\n",
    "    remove_unused_columns=False,\n",
    "    evaluation_strategy = 'steps',\n",
    "    eval_steps=10,\n",
    "    save_strategy = 'steps',\n",
    "    save_steps=10,\n",
    "    learning_rate=lr,\n",
    "    per_device_train_batch_size=batch_size,\n",
    "    per_device_eval_batch_size=batch_size,\n",
    "    gradient_accumulation_steps=4,\n",
    "    num_train_epochs=epochs,\n",
    "    optim='adamw_torch',\n",
    "    warmup_ratio=0.1,\n",
    "    logging_steps=10,\n",
    "    load_best_model_at_end=True,\n",
    "    metric_for_best_model='recall',\n",
    "    save_total_limit=1,\n",
    "    push_to_hub=False,\n",
    "    report_to='none'\n",
    ")"
   ]
  },
  {
   "cell_type": "code",
   "execution_count": 19,
   "metadata": {
    "execution": {
     "iopub.execute_input": "2023-02-18T17:52:26.734816Z",
     "iopub.status.busy": "2023-02-18T17:52:26.734320Z",
     "iopub.status.idle": "2023-02-18T17:52:27.698792Z",
     "shell.execute_reply": "2023-02-18T17:52:27.697763Z",
     "shell.execute_reply.started": "2023-02-18T17:52:26.734771Z"
    }
   },
   "outputs": [],
   "source": [
    "def compute_metrics(eval_pred):\n",
    "    logits, y_true_flat = eval_pred\n",
    "    y_pred_flat = np.argmax(logits, axis=1)\n",
    "    \n",
    "    TN, FP, FN, TP = confusion_matrix(y_true_flat, y_pred_flat).ravel()\n",
    "    sensitivity = TP/(TP+FN)\n",
    "    specificity = TN/(TN+FP)\n",
    "    \n",
    "    precision = float('{0:.6f}'.format(precision_score(y_true_flat, y_pred_flat, average='macro')))\n",
    "    recall = float('{0:.6f}'.format(recall_score(y_true_flat, y_pred_flat, average='macro')))\n",
    "    f1 = float('{0:.6f}'.format(f1_score(y_true_flat, y_pred_flat, average='macro')))\n",
    "    accuracy = float('{0:.6f}'.format(accuracy_score(y_true_flat, y_pred_flat)))\n",
    "\n",
    "    return {'precision': precision, \n",
    "            'recall': recall, \n",
    "            'f1': f1, \n",
    "            'sensitivity': sensitivity, \n",
    "            'specificity': specificity,\n",
    "            'accuracy': accuracy,\n",
    "            'TN': TN,\n",
    "            'FP': FP,\n",
    "            'FN': FN,\n",
    "            'TP': TP\n",
    "           }\n",
    "\n",
    "def collate_fn(examples):\n",
    "    pixel_values = torch.stack([example[\"pixel_values\"] for example in examples])\n",
    "    labels = torch.tensor([example[\"label\"] for example in examples])\n",
    "    return {\"pixel_values\": pixel_values, \"labels\": labels}"
   ]
  },
  {
   "cell_type": "markdown",
   "metadata": {},
   "source": [
    "## Train"
   ]
  },
  {
   "cell_type": "code",
   "execution_count": 20,
   "metadata": {
    "execution": {
     "iopub.execute_input": "2023-02-18T17:31:01.099137Z",
     "iopub.status.busy": "2023-02-18T17:31:01.098690Z",
     "iopub.status.idle": "2023-02-18T17:31:05.366409Z",
     "shell.execute_reply": "2023-02-18T17:31:05.365366Z",
     "shell.execute_reply.started": "2023-02-18T17:31:01.099096Z"
    }
   },
   "outputs": [],
   "source": [
    "trainer = Trainer(\n",
    "    model=model,\n",
    "    args=args,\n",
    "    train_dataset=train_set,\n",
    "    eval_dataset=val_set,\n",
    "    tokenizer=feature_extractor,\n",
    "    compute_metrics=compute_metrics,\n",
    "    data_collator=collate_fn\n",
    ")"
   ]
  },
  {
   "cell_type": "code",
   "execution_count": 21,
   "metadata": {
    "execution": {
     "iopub.execute_input": "2023-02-18T17:31:05.369304Z",
     "iopub.status.busy": "2023-02-18T17:31:05.367747Z",
     "iopub.status.idle": "2023-02-18T17:45:41.465769Z",
     "shell.execute_reply": "2023-02-18T17:45:41.464796Z",
     "shell.execute_reply.started": "2023-02-18T17:31:05.369265Z"
    },
    "scrolled": true
   },
   "outputs": [],
   "source": [
    "# # train model\n",
    "# trainer.train()\n",
    "\n",
    "# # save best model\n",
    "# save_path = os.path.join(model_dir, 'saved_model')\n",
    "# trainer.save_model(save_path)\n",
    "\n",
    "# # save training log\n",
    "# df = pd.DataFrame(trainer.state.log_history)\n",
    "# df.to_csv(os.path.join(model_dir, 'training_log.csv'))"
   ]
  },
  {
   "cell_type": "markdown",
   "metadata": {},
   "source": [
    "## Read CSV"
   ]
  },
  {
   "cell_type": "code",
   "execution_count": 22,
   "metadata": {},
   "outputs": [
    {
     "data": {
      "text/html": [
       "<div>\n",
       "<style scoped>\n",
       "    .dataframe tbody tr th:only-of-type {\n",
       "        vertical-align: middle;\n",
       "    }\n",
       "\n",
       "    .dataframe tbody tr th {\n",
       "        vertical-align: top;\n",
       "    }\n",
       "\n",
       "    .dataframe thead th {\n",
       "        text-align: right;\n",
       "    }\n",
       "</style>\n",
       "<table border=\"1\" class=\"dataframe\">\n",
       "  <thead>\n",
       "    <tr style=\"text-align: right;\">\n",
       "      <th></th>\n",
       "      <th>Precision (macro)</th>\n",
       "      <th>Recall (macro)</th>\n",
       "      <th>F1-Score (macro)</th>\n",
       "      <th>Sensitivity</th>\n",
       "      <th>Specificity</th>\n",
       "      <th>Accuracy</th>\n",
       "      <th>TN</th>\n",
       "      <th>FP</th>\n",
       "      <th>FN</th>\n",
       "      <th>TP</th>\n",
       "    </tr>\n",
       "  </thead>\n",
       "  <tbody>\n",
       "    <tr>\n",
       "      <th>1</th>\n",
       "      <td>0.546826</td>\n",
       "      <td>0.573377</td>\n",
       "      <td>0.488759</td>\n",
       "      <td>0.653333</td>\n",
       "      <td>0.493421</td>\n",
       "      <td>0.525066</td>\n",
       "      <td>150</td>\n",
       "      <td>154</td>\n",
       "      <td>26</td>\n",
       "      <td>49</td>\n",
       "    </tr>\n",
       "    <tr>\n",
       "      <th>3</th>\n",
       "      <td>0.584739</td>\n",
       "      <td>0.630855</td>\n",
       "      <td>0.565142</td>\n",
       "      <td>0.640000</td>\n",
       "      <td>0.621711</td>\n",
       "      <td>0.625330</td>\n",
       "      <td>189</td>\n",
       "      <td>115</td>\n",
       "      <td>27</td>\n",
       "      <td>48</td>\n",
       "    </tr>\n",
       "    <tr>\n",
       "      <th>5</th>\n",
       "      <td>0.637535</td>\n",
       "      <td>0.654474</td>\n",
       "      <td>0.644388</td>\n",
       "      <td>0.480000</td>\n",
       "      <td>0.828947</td>\n",
       "      <td>0.759894</td>\n",
       "      <td>252</td>\n",
       "      <td>52</td>\n",
       "      <td>39</td>\n",
       "      <td>36</td>\n",
       "    </tr>\n",
       "    <tr>\n",
       "      <th>7</th>\n",
       "      <td>0.635297</td>\n",
       "      <td>0.669715</td>\n",
       "      <td>0.645285</td>\n",
       "      <td>0.546667</td>\n",
       "      <td>0.792763</td>\n",
       "      <td>0.744063</td>\n",
       "      <td>241</td>\n",
       "      <td>63</td>\n",
       "      <td>34</td>\n",
       "      <td>41</td>\n",
       "    </tr>\n",
       "    <tr>\n",
       "      <th>9</th>\n",
       "      <td>0.632383</td>\n",
       "      <td>0.691886</td>\n",
       "      <td>0.635504</td>\n",
       "      <td>0.666667</td>\n",
       "      <td>0.717105</td>\n",
       "      <td>0.707124</td>\n",
       "      <td>218</td>\n",
       "      <td>86</td>\n",
       "      <td>25</td>\n",
       "      <td>50</td>\n",
       "    </tr>\n",
       "    <tr>\n",
       "      <th>11</th>\n",
       "      <td>0.709525</td>\n",
       "      <td>0.680614</td>\n",
       "      <td>0.692620</td>\n",
       "      <td>0.453333</td>\n",
       "      <td>0.907895</td>\n",
       "      <td>0.817942</td>\n",
       "      <td>276</td>\n",
       "      <td>28</td>\n",
       "      <td>41</td>\n",
       "      <td>34</td>\n",
       "    </tr>\n",
       "    <tr>\n",
       "      <th>13</th>\n",
       "      <td>0.778576</td>\n",
       "      <td>0.683640</td>\n",
       "      <td>0.712879</td>\n",
       "      <td>0.413333</td>\n",
       "      <td>0.953947</td>\n",
       "      <td>0.846966</td>\n",
       "      <td>290</td>\n",
       "      <td>14</td>\n",
       "      <td>44</td>\n",
       "      <td>31</td>\n",
       "    </tr>\n",
       "    <tr>\n",
       "      <th>15</th>\n",
       "      <td>0.771937</td>\n",
       "      <td>0.665285</td>\n",
       "      <td>0.694650</td>\n",
       "      <td>0.373333</td>\n",
       "      <td>0.957237</td>\n",
       "      <td>0.841689</td>\n",
       "      <td>291</td>\n",
       "      <td>13</td>\n",
       "      <td>47</td>\n",
       "      <td>28</td>\n",
       "    </tr>\n",
       "    <tr>\n",
       "      <th>17</th>\n",
       "      <td>0.779028</td>\n",
       "      <td>0.643553</td>\n",
       "      <td>0.673188</td>\n",
       "      <td>0.320000</td>\n",
       "      <td>0.967105</td>\n",
       "      <td>0.839050</td>\n",
       "      <td>294</td>\n",
       "      <td>10</td>\n",
       "      <td>51</td>\n",
       "      <td>24</td>\n",
       "    </tr>\n",
       "    <tr>\n",
       "      <th>19</th>\n",
       "      <td>0.669978</td>\n",
       "      <td>0.701140</td>\n",
       "      <td>0.681513</td>\n",
       "      <td>0.573333</td>\n",
       "      <td>0.828947</td>\n",
       "      <td>0.778364</td>\n",
       "      <td>252</td>\n",
       "      <td>52</td>\n",
       "      <td>32</td>\n",
       "      <td>43</td>\n",
       "    </tr>\n",
       "  </tbody>\n",
       "</table>\n",
       "</div>"
      ],
      "text/plain": [
       "    Precision (macro)  Recall (macro)  F1-Score (macro)  Sensitivity  \\\n",
       "1            0.546826        0.573377          0.488759     0.653333   \n",
       "3            0.584739        0.630855          0.565142     0.640000   \n",
       "5            0.637535        0.654474          0.644388     0.480000   \n",
       "7            0.635297        0.669715          0.645285     0.546667   \n",
       "9            0.632383        0.691886          0.635504     0.666667   \n",
       "11           0.709525        0.680614          0.692620     0.453333   \n",
       "13           0.778576        0.683640          0.712879     0.413333   \n",
       "15           0.771937        0.665285          0.694650     0.373333   \n",
       "17           0.779028        0.643553          0.673188     0.320000   \n",
       "19           0.669978        0.701140          0.681513     0.573333   \n",
       "\n",
       "    Specificity  Accuracy   TN   FP  FN  TP  \n",
       "1      0.493421  0.525066  150  154  26  49  \n",
       "3      0.621711  0.625330  189  115  27  48  \n",
       "5      0.828947  0.759894  252   52  39  36  \n",
       "7      0.792763  0.744063  241   63  34  41  \n",
       "9      0.717105  0.707124  218   86  25  50  \n",
       "11     0.907895  0.817942  276   28  41  34  \n",
       "13     0.953947  0.846966  290   14  44  31  \n",
       "15     0.957237  0.841689  291   13  47  28  \n",
       "17     0.967105  0.839050  294   10  51  24  \n",
       "19     0.828947  0.778364  252   52  32  43  "
      ]
     },
     "execution_count": 22,
     "metadata": {},
     "output_type": "execute_result"
    }
   ],
   "source": [
    "# read training log\n",
    "df = pd.read_csv(os.path.join(model_dir, 'training_log.csv'))\n",
    "df = df[['eval_precision', \n",
    "         'eval_recall', \n",
    "         'eval_f1', \n",
    "         'eval_sensitivity', \n",
    "         'eval_specificity',\n",
    "         'eval_accuracy',\n",
    "         'eval_TN', \n",
    "         'eval_FP', \n",
    "         'eval_FN', \n",
    "         'eval_TP'\n",
    "        ]].dropna()\n",
    "\n",
    "# rename columns\n",
    "df.rename(columns={'eval_precision':'Precision (macro)', \n",
    "                   'eval_recall':'Recall (macro)', \n",
    "                   'eval_f1':'F1-Score (macro)', \n",
    "                   'eval_sensitivity':'Sensitivity', \n",
    "                   'eval_specificity':'Specificity', \n",
    "                   'eval_accuracy':'Accuracy', \n",
    "                   'eval_TN':'TN', \n",
    "                   'eval_FP':'FP', \n",
    "                   'eval_FN':'FN',\n",
    "                   'eval_TP':'TP'\n",
    "                  }, inplace = True)\n",
    "\n",
    "# convert float to int\n",
    "df['TN'] = df['TN'].astype(int)\n",
    "df['FP'] = df['FP'].astype(int)\n",
    "df['FN'] = df['FN'].astype(int)\n",
    "df['TP'] = df['TP'].astype(int)\n",
    "\n",
    "df.head(10)"
   ]
  },
  {
   "cell_type": "code",
   "execution_count": 23,
   "metadata": {},
   "outputs": [
    {
     "data": {
      "text/html": [
       "<div>\n",
       "<style scoped>\n",
       "    .dataframe tbody tr th:only-of-type {\n",
       "        vertical-align: middle;\n",
       "    }\n",
       "\n",
       "    .dataframe tbody tr th {\n",
       "        vertical-align: top;\n",
       "    }\n",
       "\n",
       "    .dataframe thead th {\n",
       "        text-align: right;\n",
       "    }\n",
       "</style>\n",
       "<table border=\"1\" class=\"dataframe\">\n",
       "  <thead>\n",
       "    <tr style=\"text-align: right;\">\n",
       "      <th></th>\n",
       "      <th>Precision (macro)</th>\n",
       "      <th>Recall (macro)</th>\n",
       "      <th>F1-Score (macro)</th>\n",
       "      <th>Sensitivity</th>\n",
       "      <th>Specificity</th>\n",
       "      <th>Accuracy</th>\n",
       "      <th>TN</th>\n",
       "      <th>FP</th>\n",
       "      <th>FN</th>\n",
       "      <th>TP</th>\n",
       "    </tr>\n",
       "  </thead>\n",
       "  <tbody>\n",
       "    <tr>\n",
       "      <th>69</th>\n",
       "      <td>0.774639</td>\n",
       "      <td>0.748838</td>\n",
       "      <td>0.760394</td>\n",
       "      <td>0.573333</td>\n",
       "      <td>0.924342</td>\n",
       "      <td>0.854881</td>\n",
       "      <td>281</td>\n",
       "      <td>23</td>\n",
       "      <td>32</td>\n",
       "      <td>43</td>\n",
       "    </tr>\n",
       "    <tr>\n",
       "      <th>65</th>\n",
       "      <td>0.765466</td>\n",
       "      <td>0.740526</td>\n",
       "      <td>0.751681</td>\n",
       "      <td>0.560000</td>\n",
       "      <td>0.921053</td>\n",
       "      <td>0.849604</td>\n",
       "      <td>280</td>\n",
       "      <td>24</td>\n",
       "      <td>33</td>\n",
       "      <td>42</td>\n",
       "    </tr>\n",
       "    <tr>\n",
       "      <th>21</th>\n",
       "      <td>0.696855</td>\n",
       "      <td>0.737763</td>\n",
       "      <td>0.711645</td>\n",
       "      <td>0.640000</td>\n",
       "      <td>0.835526</td>\n",
       "      <td>0.796834</td>\n",
       "      <td>254</td>\n",
       "      <td>50</td>\n",
       "      <td>27</td>\n",
       "      <td>48</td>\n",
       "    </tr>\n",
       "    <tr>\n",
       "      <th>29</th>\n",
       "      <td>0.723161</td>\n",
       "      <td>0.734123</td>\n",
       "      <td>0.728315</td>\n",
       "      <td>0.586667</td>\n",
       "      <td>0.881579</td>\n",
       "      <td>0.823219</td>\n",
       "      <td>268</td>\n",
       "      <td>36</td>\n",
       "      <td>31</td>\n",
       "      <td>44</td>\n",
       "    </tr>\n",
       "    <tr>\n",
       "      <th>83</th>\n",
       "      <td>0.778474</td>\n",
       "      <td>0.733772</td>\n",
       "      <td>0.752155</td>\n",
       "      <td>0.533333</td>\n",
       "      <td>0.934211</td>\n",
       "      <td>0.854881</td>\n",
       "      <td>284</td>\n",
       "      <td>20</td>\n",
       "      <td>35</td>\n",
       "      <td>40</td>\n",
       "    </tr>\n",
       "    <tr>\n",
       "      <th>81</th>\n",
       "      <td>0.792487</td>\n",
       "      <td>0.732039</td>\n",
       "      <td>0.755445</td>\n",
       "      <td>0.520000</td>\n",
       "      <td>0.944079</td>\n",
       "      <td>0.860158</td>\n",
       "      <td>287</td>\n",
       "      <td>17</td>\n",
       "      <td>36</td>\n",
       "      <td>39</td>\n",
       "    </tr>\n",
       "    <tr>\n",
       "      <th>31</th>\n",
       "      <td>0.662324</td>\n",
       "      <td>0.723224</td>\n",
       "      <td>0.674213</td>\n",
       "      <td>0.680000</td>\n",
       "      <td>0.766447</td>\n",
       "      <td>0.749340</td>\n",
       "      <td>233</td>\n",
       "      <td>71</td>\n",
       "      <td>24</td>\n",
       "      <td>51</td>\n",
       "    </tr>\n",
       "    <tr>\n",
       "      <th>49</th>\n",
       "      <td>0.758673</td>\n",
       "      <td>0.717149</td>\n",
       "      <td>0.734130</td>\n",
       "      <td>0.506667</td>\n",
       "      <td>0.927632</td>\n",
       "      <td>0.844327</td>\n",
       "      <td>282</td>\n",
       "      <td>22</td>\n",
       "      <td>37</td>\n",
       "      <td>38</td>\n",
       "    </tr>\n",
       "    <tr>\n",
       "      <th>33</th>\n",
       "      <td>0.748092</td>\n",
       "      <td>0.713860</td>\n",
       "      <td>0.728258</td>\n",
       "      <td>0.506667</td>\n",
       "      <td>0.921053</td>\n",
       "      <td>0.839050</td>\n",
       "      <td>280</td>\n",
       "      <td>24</td>\n",
       "      <td>37</td>\n",
       "      <td>38</td>\n",
       "    </tr>\n",
       "    <tr>\n",
       "      <th>51</th>\n",
       "      <td>0.759775</td>\n",
       "      <td>0.712127</td>\n",
       "      <td>0.730995</td>\n",
       "      <td>0.493333</td>\n",
       "      <td>0.930921</td>\n",
       "      <td>0.844327</td>\n",
       "      <td>283</td>\n",
       "      <td>21</td>\n",
       "      <td>38</td>\n",
       "      <td>37</td>\n",
       "    </tr>\n",
       "  </tbody>\n",
       "</table>\n",
       "</div>"
      ],
      "text/plain": [
       "    Precision (macro)  Recall (macro)  F1-Score (macro)  Sensitivity  \\\n",
       "69           0.774639        0.748838          0.760394     0.573333   \n",
       "65           0.765466        0.740526          0.751681     0.560000   \n",
       "21           0.696855        0.737763          0.711645     0.640000   \n",
       "29           0.723161        0.734123          0.728315     0.586667   \n",
       "83           0.778474        0.733772          0.752155     0.533333   \n",
       "81           0.792487        0.732039          0.755445     0.520000   \n",
       "31           0.662324        0.723224          0.674213     0.680000   \n",
       "49           0.758673        0.717149          0.734130     0.506667   \n",
       "33           0.748092        0.713860          0.728258     0.506667   \n",
       "51           0.759775        0.712127          0.730995     0.493333   \n",
       "\n",
       "    Specificity  Accuracy   TN  FP  FN  TP  \n",
       "69     0.924342  0.854881  281  23  32  43  \n",
       "65     0.921053  0.849604  280  24  33  42  \n",
       "21     0.835526  0.796834  254  50  27  48  \n",
       "29     0.881579  0.823219  268  36  31  44  \n",
       "83     0.934211  0.854881  284  20  35  40  \n",
       "81     0.944079  0.860158  287  17  36  39  \n",
       "31     0.766447  0.749340  233  71  24  51  \n",
       "49     0.927632  0.844327  282  22  37  38  \n",
       "33     0.921053  0.839050  280  24  37  38  \n",
       "51     0.930921  0.844327  283  21  38  37  "
      ]
     },
     "execution_count": 23,
     "metadata": {},
     "output_type": "execute_result"
    }
   ],
   "source": [
    "# sort training log\n",
    "df_sort = df.sort_values('Recall (macro)', ascending=False)\n",
    "df_sort.head(10)"
   ]
  },
  {
   "cell_type": "markdown",
   "metadata": {},
   "source": [
    "## Performance Index"
   ]
  },
  {
   "cell_type": "code",
   "execution_count": 24,
   "metadata": {},
   "outputs": [
    {
     "data": {
      "image/png": "[encoded data removed]",
      "text/plain": [
       "<Figure size 600x400 with 1 Axes>"
      ]
     },
     "metadata": {},
     "output_type": "display_data"
    }
   ],
   "source": [
    "fig, ax = plt.subplots(figsize=(6, 4))\n",
    "\n",
    "x = df['Recall (macro)'].index.values.tolist()\n",
    "y = df['Recall (macro)'].values.tolist()\n",
    "\n",
    "# plot AUC \n",
    "plt.plot(x, y, lw=2)\n",
    "\n",
    "# Find the index and coordinates of the highest point\n",
    "idx = np.argmax(y)\n",
    "x_max = x[idx]\n",
    "y_max = y[idx]\n",
    "\n",
    "xlim, ylim = plt.xlim(), plt.ylim()\n",
    "plt.plot([x[idx], x[idx], xlim[0]], [xlim[0], y[idx], y[idx]], linestyle=\"--\")\n",
    "plt.xlim(xlim)\n",
    "plt.ylim(ylim)\n",
    "\n",
    "plt.annotate(\n",
    "    'Recall (macro) {0:.4f}'.format(max(y)), \n",
    "    xy=(x_max, y_max), \n",
    "    xytext=(x_max + 4, y_max - 0.02),  \n",
    "    bbox=dict(boxstyle=\"round4\", fc=\"w\"),\n",
    "    arrowprops=dict(arrowstyle=\"-|>\", connectionstyle=\"arc3, rad=-0.2\", fc=\"w\")\n",
    ")\n",
    "\n",
    "plt.title('Swin Transformer+PRE-FL+α2=0.85')\n",
    "plt.legend(['Recall (macro)', 'X and Y'], loc='lower right')\n",
    "plt.xlabel('Steps')\n",
    "plt.ylabel('Recall (macro)')\n",
    "plt.show()"
   ]
  },
  {
   "cell_type": "markdown",
   "metadata": {},
   "source": [
    "## Test"
   ]
  },
  {
   "cell_type": "code",
   "execution_count": 25,
   "metadata": {
    "execution": {
     "iopub.execute_input": "2023-02-18T17:52:55.331618Z",
     "iopub.status.busy": "2023-02-18T17:52:55.331236Z",
     "iopub.status.idle": "2023-02-18T17:52:55.336027Z",
     "shell.execute_reply": "2023-02-18T17:52:55.334940Z",
     "shell.execute_reply.started": "2023-02-18T17:52:55.331585Z"
    }
   },
   "outputs": [],
   "source": [
    "save_path = os.path.join(model_dir, 'saved_model')\n",
    "load_model = save_path"
   ]
  },
  {
   "cell_type": "code",
   "execution_count": 26,
   "metadata": {
    "execution": {
     "iopub.execute_input": "2023-02-18T17:52:55.607205Z",
     "iopub.status.busy": "2023-02-18T17:52:55.606833Z",
     "iopub.status.idle": "2023-02-18T17:52:56.710729Z",
     "shell.execute_reply": "2023-02-18T17:52:56.709641Z",
     "shell.execute_reply.started": "2023-02-18T17:52:55.607177Z"
    },
    "scrolled": true
   },
   "outputs": [],
   "source": [
    "trained_model = AutoModelForImageClassification.from_pretrained(\n",
    "    load_model, \n",
    "    label2id=label2id,\n",
    "    id2label=id2label,\n",
    "    ignore_mismatched_sizes = True, \n",
    ")"
   ]
  },
  {
   "cell_type": "code",
   "execution_count": 27,
   "metadata": {
    "execution": {
     "iopub.execute_input": "2023-02-18T17:52:56.712930Z",
     "iopub.status.busy": "2023-02-18T17:52:56.712658Z",
     "iopub.status.idle": "2023-02-18T17:52:56.732218Z",
     "shell.execute_reply": "2023-02-18T17:52:56.730680Z",
     "shell.execute_reply.started": "2023-02-18T17:52:56.712906Z"
    }
   },
   "outputs": [],
   "source": [
    "tester = Trainer(\n",
    "    model=trained_model,\n",
    "    args=args,\n",
    "    train_dataset=train_set,\n",
    "    eval_dataset=val_set,\n",
    "    tokenizer=feature_extractor,\n",
    "    compute_metrics=compute_metrics,\n",
    "    data_collator=collate_fn\n",
    ")"
   ]
  },
  {
   "cell_type": "code",
   "execution_count": 28,
   "metadata": {
    "execution": {
     "iopub.execute_input": "2023-02-18T17:52:56.734026Z",
     "iopub.status.busy": "2023-02-18T17:52:56.733671Z",
     "iopub.status.idle": "2023-02-18T17:54:46.092622Z",
     "shell.execute_reply": "2023-02-18T17:54:46.091536Z",
     "shell.execute_reply.started": "2023-02-18T17:52:56.733992Z"
    },
    "scrolled": true
   },
   "outputs": [
    {
     "data": {
      "text/html": [],
      "text/plain": [
       "<IPython.core.display.HTML object>"
      ]
     },
     "metadata": {},
     "output_type": "display_data"
    },
    {
     "data": {
      "text/plain": [
       "{'eval_loss': 0.7157538533210754,\n",
       " 'eval_precision': 0.774639,\n",
       " 'eval_recall': 0.748838,\n",
       " 'eval_f1': 0.760394,\n",
       " 'eval_sensitivity': 0.5733333333333334,\n",
       " 'eval_specificity': 0.9243421052631579,\n",
       " 'eval_accuracy': 0.854881,\n",
       " 'eval_TN': 281,\n",
       " 'eval_FP': 23,\n",
       " 'eval_FN': 32,\n",
       " 'eval_TP': 43,\n",
       " 'eval_runtime': 10.5203,\n",
       " 'eval_samples_per_second': 36.025,\n",
       " 'eval_steps_per_second': 1.521}"
      ]
     },
     "execution_count": 28,
     "metadata": {},
     "output_type": "execute_result"
    }
   ],
   "source": [
    "tester.evaluate()"
   ]
  },
  {
   "cell_type": "code",
   "execution_count": 29,
   "metadata": {
    "execution": {
     "iopub.execute_input": "2023-02-18T17:54:46.097375Z",
     "iopub.status.busy": "2023-02-18T17:54:46.096976Z",
     "iopub.status.idle": "2023-02-18T17:56:19.837885Z",
     "shell.execute_reply": "2023-02-18T17:56:19.836861Z",
     "shell.execute_reply.started": "2023-02-18T17:54:46.097343Z"
    }
   },
   "outputs": [],
   "source": [
    "predictions = tester.predict(test_dataset=val_set).predictions"
   ]
  },
  {
   "cell_type": "code",
   "execution_count": 30,
   "metadata": {},
   "outputs": [],
   "source": [
    "def to_categorical(y, num_classes):\n",
    "    \"\"\" 1-hot encoding \"\"\"\n",
    "    return np.eye(num_classes, dtype='uint8')[y]\n",
    "\n",
    "def test_set(val_set):\n",
    "    y = []\n",
    "    for i in range(val_set.num_rows):\n",
    "        y.append(val_set[i]['label'])\n",
    "    return np.array(y)"
   ]
  },
  {
   "cell_type": "code",
   "execution_count": 31,
   "metadata": {},
   "outputs": [],
   "source": [
    "############## true ##############\n",
    "# y_true_flat\n",
    "y_true_flat = test_set(val_set)\n",
    "\n",
    "# y_true\n",
    "y_true = to_categorical(y_true_flat, 2)\n",
    "\n",
    "############## predicted ##############\n",
    "# y_pred_flat\n",
    "y_pred_flat = np.argmax(predictions, axis=-1)\n",
    "\n",
    "# y_pred\n",
    "y_pred = predictions"
   ]
  },
  {
   "cell_type": "code",
   "execution_count": 32,
   "metadata": {},
   "outputs": [
    {
     "name": "stdout",
     "output_type": "stream",
     "text": [
      "Positive Class AUC:  83.13%\n",
      "Negative Class AUC:  83.66%\n",
      "Average AUC:  83.40%\n"
     ]
    }
   ],
   "source": [
    "############## ROC AUC ##############\n",
    "neg_cls = 0 # benign\n",
    "pos_cls = 1 # malignant\n",
    "\n",
    "print(\"Positive Class AUC: \", '{0:.2f}%'.format(roc_auc_score(y_true[:, pos_cls], y_pred[:, pos_cls])*100))\n",
    "print(\"Negative Class AUC: \", '{0:.2f}%'.format(roc_auc_score(y_true[:, neg_cls], y_pred[:, neg_cls])*100))\n",
    "print(\"Average AUC: \", '{0:.2f}%'.format(roc_auc_score(y_true, y_pred)*100))"
   ]
  },
  {
   "cell_type": "code",
   "execution_count": 33,
   "metadata": {},
   "outputs": [
    {
     "data": {
      "image/png": "[encoded data removed]",
      "text/plain": [
       "<Figure size 500x400 with 1 Axes>"
      ]
     },
     "metadata": {},
     "output_type": "display_data"
    }
   ],
   "source": [
    "# Set Seaborn style\n",
    "sns.set_style(\"white\")\n",
    "\n",
    "fig, ax = plt.subplots(figsize=(5, 4))\n",
    "\n",
    "# Compute the ROC curve and AUC for each class\n",
    "fpr_malignant, tpr_malignant, _ = roc_curve(y_true[:, pos_cls], y_pred[:, pos_cls])\n",
    "auc_malignant = auc(fpr_malignant, tpr_malignant)\n",
    "\n",
    "fpr_benign, tpr_benign, _ = roc_curve(y_true[:, neg_cls], y_pred[:, neg_cls])\n",
    "auc_benign = auc(fpr_benign, tpr_benign)\n",
    "\n",
    "# Plot the ROC curves\n",
    "ax.plot(fpr_malignant, tpr_malignant, color=\"orange\", label=f\"Malignant (AUC = {auc_malignant:.2%})\")\n",
    "ax.plot(fpr_benign, tpr_benign, color=\"purple\", label=f\"Benign (AUC = {auc_benign:.2%})\")\n",
    "\n",
    "# Customize the ticks and labels on the axes\n",
    "ax.xaxis.set_major_formatter(mticker.PercentFormatter(xmax=1, decimals=1))\n",
    "ax.yaxis.set_major_formatter(mticker.PercentFormatter(xmax=1, decimals=1))\n",
    "\n",
    "# Add the diagonal line, labels, title, and legend\n",
    "plt.plot([0, 1], [0, 1], \"k--\")\n",
    "plt.xlabel(\"False Positive Rate\", fontsize='12')\n",
    "plt.ylabel(\"True Positive Rate\", fontsize='12')\n",
    "plt.title(\"Swin Transformer+PRE-FL+α2=0.85\", fontsize='12')\n",
    "plt.legend(fontsize='11')\n",
    "plt.show()"
   ]
  },
  {
   "cell_type": "code",
   "execution_count": 34,
   "metadata": {
    "execution": {
     "iopub.execute_input": "2023-02-18T17:56:21.260546Z",
     "iopub.status.busy": "2023-02-18T17:56:21.260260Z",
     "iopub.status.idle": "2023-02-18T17:56:21.279824Z",
     "shell.execute_reply": "2023-02-18T17:56:21.278707Z",
     "shell.execute_reply.started": "2023-02-18T17:56:21.260521Z"
    }
   },
   "outputs": [
    {
     "name": "stdout",
     "output_type": "stream",
     "text": [
      "\n",
      "Classification Report:\n",
      "              precision    recall  f1-score   support\n",
      "\n",
      "      benign       0.90      0.92      0.91       304\n",
      "   malignant       0.65      0.57      0.61        75\n",
      "\n",
      "    accuracy                           0.85       379\n",
      "   macro avg       0.77      0.75      0.76       379\n",
      "weighted avg       0.85      0.85      0.85       379\n",
      "\n"
     ]
    }
   ],
   "source": [
    "############## Classification Report ##############\n",
    "targetnames = ['benign', 'malignant']\n",
    "\n",
    "report = classification_report(y_true_flat, y_pred_flat, target_names=targetnames)\n",
    "\n",
    "print(\"\\nClassification Report:\")\n",
    "print(report)"
   ]
  },
  {
   "cell_type": "code",
   "execution_count": 35,
   "metadata": {},
   "outputs": [
    {
     "data": {
      "text/html": [
       "<style type=\"text/css\">\n",
       "</style>\n",
       "<table id=\"T_df220\">\n",
       "  <thead>\n",
       "    <tr>\n",
       "      <th id=\"T_df220_level0_col0\" class=\"col_heading level0 col0\" >Precision (%)</th>\n",
       "      <th id=\"T_df220_level0_col1\" class=\"col_heading level0 col1\" >Recall (%)</th>\n",
       "      <th id=\"T_df220_level0_col2\" class=\"col_heading level0 col2\" >F1-Score (%)</th>\n",
       "      <th id=\"T_df220_level0_col3\" class=\"col_heading level0 col3\" >Accuracy (%)</th>\n",
       "      <th id=\"T_df220_level0_col4\" class=\"col_heading level0 col4\" >Sensitivity (%)</th>\n",
       "      <th id=\"T_df220_level0_col5\" class=\"col_heading level0 col5\" >Specificity (%)</th>\n",
       "      <th id=\"T_df220_level0_col6\" class=\"col_heading level0 col6\" >TN</th>\n",
       "      <th id=\"T_df220_level0_col7\" class=\"col_heading level0 col7\" >FP</th>\n",
       "      <th id=\"T_df220_level0_col8\" class=\"col_heading level0 col8\" >FN</th>\n",
       "      <th id=\"T_df220_level0_col9\" class=\"col_heading level0 col9\" >TP</th>\n",
       "    </tr>\n",
       "  </thead>\n",
       "  <tbody>\n",
       "    <tr>\n",
       "      <td id=\"T_df220_row0_col0\" class=\"data row0 col0\" >65.15</td>\n",
       "      <td id=\"T_df220_row0_col1\" class=\"data row0 col1\" >57.33</td>\n",
       "      <td id=\"T_df220_row0_col2\" class=\"data row0 col2\" >60.99</td>\n",
       "      <td id=\"T_df220_row0_col3\" class=\"data row0 col3\" >85.49</td>\n",
       "      <td id=\"T_df220_row0_col4\" class=\"data row0 col4\" >57.33</td>\n",
       "      <td id=\"T_df220_row0_col5\" class=\"data row0 col5\" >92.43</td>\n",
       "      <td id=\"T_df220_row0_col6\" class=\"data row0 col6\" >281</td>\n",
       "      <td id=\"T_df220_row0_col7\" class=\"data row0 col7\" >23</td>\n",
       "      <td id=\"T_df220_row0_col8\" class=\"data row0 col8\" >32</td>\n",
       "      <td id=\"T_df220_row0_col9\" class=\"data row0 col9\" >43</td>\n",
       "    </tr>\n",
       "  </tbody>\n",
       "</table>\n"
      ],
      "text/plain": [
       "<pandas.io.formats.style.Styler at 0x21ca76a6200>"
      ]
     },
     "execution_count": 35,
     "metadata": {},
     "output_type": "execute_result"
    }
   ],
   "source": [
    "TN, FP, FN, TP = confusion_matrix(y_true_flat, y_pred_flat).ravel()\n",
    "\n",
    "sensitivity = '{0:.2f}'.format(TP/(TP+FN)*100)\n",
    "specificity = '{0:.2f}'.format(TN/(TN+FP)*100)\n",
    "    \n",
    "precision = '{0:.2f}'.format(precision_score(y_true_flat, y_pred_flat)*100)\n",
    "recall = '{0:.2f}'.format(recall_score(y_true_flat, y_pred_flat)*100)\n",
    "f1 = '{0:.2f}'.format(f1_score(y_true_flat, y_pred_flat)*100)\n",
    "accuracy = '{0:.2f}'.format(accuracy_score(y_true_flat, y_pred_flat)*100)\n",
    "\n",
    "matrix_log = [[precision, recall, f1, accuracy, sensitivity, specificity, TN, FP, FN, TP]]\n",
    "df_result = pd.DataFrame(\n",
    "    matrix_log, \n",
    "    columns=[\n",
    "        'Precision (%)',\n",
    "        'Recall (%)', \n",
    "        'F1-Score (%)',\n",
    "        'Accuracy (%)', \n",
    "        'Sensitivity (%)', \n",
    "        'Specificity (%)',\n",
    "        'TN',\n",
    "        'FP', \n",
    "        'FN', \n",
    "        'TP'\n",
    "    ])\n",
    "\n",
    "df_result = df_result.style.hide(axis='index')\n",
    "df_result"
   ]
  },
  {
   "cell_type": "code",
   "execution_count": 36,
   "metadata": {
    "scrolled": false
   },
   "outputs": [
    {
     "data": {
      "image/png": "[encoded data removed]",
      "text/plain": [
       "<Figure size 640x480 with 2 Axes>"
      ]
     },
     "metadata": {},
     "output_type": "display_data"
    }
   ],
   "source": [
    "cnf_matrix = confusion_matrix(y_true_flat, y_pred_flat)\n",
    "\n",
    "group_names = ['TN','FP','FN','TP']\n",
    "group_counts = [\"{0:0.0f}\".format(value) for value in cnf_matrix.flatten()]\n",
    "group_percentages = [\"{0:.2%}\".format(value) for value in cnf_matrix.flatten()/np.sum(cnf_matrix)]\n",
    "\n",
    "labels = [f\"{v1}\\n{v2}\\n{v3}\" for v1, v2, v3 in zip(group_names, group_counts, group_percentages)]\n",
    "\n",
    "matrix_labels = np.asarray(labels).reshape(2,2)\n",
    "axis_labels = ['benign', 'malignant'] \n",
    "\n",
    "ax = sns.heatmap(\n",
    "    cnf_matrix, \n",
    "    annot=matrix_labels, \n",
    "    fmt='',  \n",
    "    cmap='Blues', \n",
    "    linewidths=0.1, \n",
    "    linecolor=(67/255, 107/255, 163/255),\n",
    "    xticklabels=axis_labels, \n",
    "    yticklabels=axis_labels\n",
    ")\n",
    "\n",
    "sns_figure = ax.set(xlabel='Predicted label', ylabel='True label', title='Swin Transformer+PRE-FL+α2=0.85')"
   ]
  }
 ],
 "metadata": {
  "kernelspec": {
   "display_name": "Python (csf-model)",
   "language": "python",
   "name": "csf-model"
  },
  "language_info": {
   "codemirror_mode": {
    "name": "ipython",
    "version": 3
   },
   "file_extension": ".py",
   "mimetype": "text/x-python",
   "name": "python",
   "nbconvert_exporter": "python",
   "pygments_lexer": "ipython3",
   "version": "3.10.9"
  }
 },
 "nbformat": 4,
 "nbformat_minor": 4
}
