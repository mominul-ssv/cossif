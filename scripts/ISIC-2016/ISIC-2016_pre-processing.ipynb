{
 "cells": [
  {
   "cell_type": "markdown",
   "id": "4fab2c77",
   "metadata": {},
   "source": [
    "## Import Libraries"
   ]
  },
  {
   "cell_type": "code",
   "execution_count": 1,
   "id": "6p9Z6EGImV63",
   "metadata": {
    "executionInfo": {
     "elapsed": 428,
     "status": "ok",
     "timestamp": 1661659194389,
     "user": {
      "displayName": "Mominul Islam",
      "userId": "13734864529048252160"
     },
     "user_tz": -360
    },
    "id": "6p9Z6EGImV63"
   },
   "outputs": [],
   "source": [
    "import os\n",
    "import cv2\n",
    "import pandas as pd\n",
    "from tqdm import tqdm"
   ]
  },
  {
   "cell_type": "markdown",
   "id": "cd2c2f7e",
   "metadata": {},
   "source": [
    "## Create Folders for Train Test Split"
   ]
  },
  {
   "cell_type": "code",
   "execution_count": 2,
   "id": "8f98c97a",
   "metadata": {},
   "outputs": [
    {
     "name": "stdout",
     "output_type": "stream",
     "text": [
      "Folders successfully created!\n"
     ]
    }
   ],
   "source": [
    "dataset_dir = os.path.abspath('../../datasets/ISIC-2016/split')\n",
    "\n",
    "if os.path.exists(dataset_dir):\n",
    "    print(\"Folders already exist!\")\n",
    "else:\n",
    "    os.makedirs(dataset_dir)\n",
    "    \n",
    "    train_dir = os.path.join(dataset_dir, 'train')\n",
    "    test_dir = os.path.join(dataset_dir, 'test')\n",
    "    \n",
    "    os.makedirs(train_dir)\n",
    "    os.makedirs(test_dir)\n",
    "    \n",
    "    targetnames = ['benign', 'malignant']\n",
    "    for i in targetnames:\n",
    "        os.makedirs(os.path.join(train_dir, i))\n",
    "        os.makedirs(os.path.join(test_dir, i))\n",
    "\n",
    "    print(\"Folders successfully created!\")"
   ]
  },
  {
   "cell_type": "markdown",
   "id": "7ffadb7c",
   "metadata": {},
   "source": [
    "## Download Path"
   ]
  },
  {
   "cell_type": "code",
   "execution_count": 3,
   "id": "1b6d4c93",
   "metadata": {},
   "outputs": [],
   "source": [
    "downloads = os.path.abspath('../../datasets/ISIC-2016/downloads')"
   ]
  },
  {
   "cell_type": "markdown",
   "id": "7df8bab1",
   "metadata": {},
   "source": [
    "## Train"
   ]
  },
  {
   "cell_type": "code",
   "execution_count": 4,
   "id": "21900dbf",
   "metadata": {
    "executionInfo": {
     "elapsed": 1193,
     "status": "ok",
     "timestamp": 1661659843673,
     "user": {
      "displayName": "Mominul Islam",
      "userId": "13734864529048252160"
     },
     "user_tz": -360
    },
    "id": "21900dbf"
   },
   "outputs": [],
   "source": [
    "train_dir = os.path.join(downloads, \"ISBI2016_ISIC_Part3_Training_Data\")\n",
    "train_gt = os.path.join(downloads, \"ISBI2016_ISIC_Part3_Training_GroundTruth.csv\")"
   ]
  },
  {
   "cell_type": "code",
   "execution_count": 5,
   "id": "3f75c70c",
   "metadata": {},
   "outputs": [],
   "source": [
    "train_meta = pd.read_csv(train_gt, sep=\",\", names=[\"filename\", \"class\"])"
   ]
  },
  {
   "cell_type": "code",
   "execution_count": 6,
   "id": "a3dfbbf4",
   "metadata": {
    "executionInfo": {
     "elapsed": 458,
     "status": "ok",
     "timestamp": 1661659851104,
     "user": {
      "displayName": "Mominul Islam",
      "userId": "13734864529048252160"
     },
     "user_tz": -360
    },
    "id": "a3dfbbf4"
   },
   "outputs": [],
   "source": [
    "train_filenames = train_meta[\"filename\"].values\n",
    "train_gt = train_meta[\"class\"].values"
   ]
  },
  {
   "cell_type": "code",
   "execution_count": 7,
   "id": "c4d17b6d",
   "metadata": {
    "colab": {
     "base_uri": "https://localhost:8080/",
     "height": 424
    },
    "executionInfo": {
     "elapsed": 424,
     "status": "ok",
     "timestamp": 1661659853872,
     "user": {
      "displayName": "Mominul Islam",
      "userId": "13734864529048252160"
     },
     "user_tz": -360
    },
    "id": "c4d17b6d",
    "outputId": "066e8f80-7fd1-4945-982d-8f46e4ea64f5"
   },
   "outputs": [
    {
     "data": {
      "text/html": [
       "<div>\n",
       "<style scoped>\n",
       "    .dataframe tbody tr th:only-of-type {\n",
       "        vertical-align: middle;\n",
       "    }\n",
       "\n",
       "    .dataframe tbody tr th {\n",
       "        vertical-align: top;\n",
       "    }\n",
       "\n",
       "    .dataframe thead th {\n",
       "        text-align: right;\n",
       "    }\n",
       "</style>\n",
       "<table border=\"1\" class=\"dataframe\">\n",
       "  <thead>\n",
       "    <tr style=\"text-align: right;\">\n",
       "      <th></th>\n",
       "      <th>filename</th>\n",
       "      <th>class</th>\n",
       "    </tr>\n",
       "  </thead>\n",
       "  <tbody>\n",
       "    <tr>\n",
       "      <th>0</th>\n",
       "      <td>ISIC_0000000</td>\n",
       "      <td>benign</td>\n",
       "    </tr>\n",
       "    <tr>\n",
       "      <th>1</th>\n",
       "      <td>ISIC_0000001</td>\n",
       "      <td>benign</td>\n",
       "    </tr>\n",
       "    <tr>\n",
       "      <th>2</th>\n",
       "      <td>ISIC_0000002</td>\n",
       "      <td>malignant</td>\n",
       "    </tr>\n",
       "    <tr>\n",
       "      <th>3</th>\n",
       "      <td>ISIC_0000004</td>\n",
       "      <td>malignant</td>\n",
       "    </tr>\n",
       "    <tr>\n",
       "      <th>4</th>\n",
       "      <td>ISIC_0000006</td>\n",
       "      <td>benign</td>\n",
       "    </tr>\n",
       "    <tr>\n",
       "      <th>...</th>\n",
       "      <td>...</td>\n",
       "      <td>...</td>\n",
       "    </tr>\n",
       "    <tr>\n",
       "      <th>895</th>\n",
       "      <td>ISIC_0011393</td>\n",
       "      <td>benign</td>\n",
       "    </tr>\n",
       "    <tr>\n",
       "      <th>896</th>\n",
       "      <td>ISIC_0011397</td>\n",
       "      <td>benign</td>\n",
       "    </tr>\n",
       "    <tr>\n",
       "      <th>897</th>\n",
       "      <td>ISIC_0011398</td>\n",
       "      <td>benign</td>\n",
       "    </tr>\n",
       "    <tr>\n",
       "      <th>898</th>\n",
       "      <td>ISIC_0011400</td>\n",
       "      <td>benign</td>\n",
       "    </tr>\n",
       "    <tr>\n",
       "      <th>899</th>\n",
       "      <td>ISIC_0011402</td>\n",
       "      <td>benign</td>\n",
       "    </tr>\n",
       "  </tbody>\n",
       "</table>\n",
       "<p>900 rows × 2 columns</p>\n",
       "</div>"
      ],
      "text/plain": [
       "         filename      class\n",
       "0    ISIC_0000000     benign\n",
       "1    ISIC_0000001     benign\n",
       "2    ISIC_0000002  malignant\n",
       "3    ISIC_0000004  malignant\n",
       "4    ISIC_0000006     benign\n",
       "..            ...        ...\n",
       "895  ISIC_0011393     benign\n",
       "896  ISIC_0011397     benign\n",
       "897  ISIC_0011398     benign\n",
       "898  ISIC_0011400     benign\n",
       "899  ISIC_0011402     benign\n",
       "\n",
       "[900 rows x 2 columns]"
      ]
     },
     "execution_count": 7,
     "metadata": {},
     "output_type": "execute_result"
    }
   ],
   "source": [
    "train_meta"
   ]
  },
  {
   "cell_type": "code",
   "execution_count": 8,
   "id": "f7f01373",
   "metadata": {
    "colab": {
     "base_uri": "https://localhost:8080/"
    },
    "executionInfo": {
     "elapsed": 548973,
     "status": "ok",
     "timestamp": 1661660410738,
     "user": {
      "displayName": "Mominul Islam",
      "userId": "13734864529048252160"
     },
     "user_tz": -360
    },
    "id": "f7f01373",
    "outputId": "0ad956ae-5c41-4d48-d1eb-1d9abe680138"
   },
   "outputs": [
    {
     "name": "stderr",
     "output_type": "stream",
     "text": [
      "900it [00:24, 37.42it/s] "
     ]
    },
    {
     "name": "stdout",
     "output_type": "stream",
     "text": [
      "Done!\n"
     ]
    },
    {
     "name": "stderr",
     "output_type": "stream",
     "text": [
      "\n"
     ]
    }
   ],
   "source": [
    "for filename, gt in tqdm(zip(train_filenames[:], train_gt[:])):\n",
    "    \n",
    "    filename_jpg = filename + '.jpg'\n",
    "    path = os.path.join(train_dir, filename_jpg)\n",
    "    \n",
    "    img = cv2.imread(path)\n",
    "    img = cv2.resize(img, (286, 286))\n",
    "    img = img[0:256, 0:256]\n",
    "    \n",
    "    if gt == \"benign\":\n",
    "        cv2.imwrite(os.path.join(os.path.abspath('../../datasets/ISIC-2016/split/train/benign'), filename_jpg), img)\n",
    "        img = None\n",
    "            \n",
    "    elif gt == \"malignant\":\n",
    "        cv2.imwrite(os.path.join(os.path.abspath('../../datasets/ISIC-2016/split/train/malignant'), filename_jpg), img)\n",
    "        img = None\n",
    "    \n",
    "print(\"Done!\")"
   ]
  },
  {
   "cell_type": "markdown",
   "id": "0892ee39",
   "metadata": {},
   "source": [
    "## Test"
   ]
  },
  {
   "cell_type": "code",
   "execution_count": 9,
   "id": "231a5b0c",
   "metadata": {},
   "outputs": [],
   "source": [
    "test_dir = os.path.join(downloads, \"ISBI2016_ISIC_Part3_Test_Data\")\n",
    "test_gt = os.path.join(downloads, \"ISBI2016_ISIC_Part3_Test_GroundTruth.csv\")"
   ]
  },
  {
   "cell_type": "code",
   "execution_count": 10,
   "id": "a7cb04dc",
   "metadata": {},
   "outputs": [],
   "source": [
    "test_meta = pd.read_csv(test_gt, sep=\",\", names=[\"filename\", \"class\"])"
   ]
  },
  {
   "cell_type": "code",
   "execution_count": 11,
   "id": "6abf8862",
   "metadata": {
    "executionInfo": {
     "elapsed": 12,
     "status": "ok",
     "timestamp": 1661660411447,
     "user": {
      "displayName": "Mominul Islam",
      "userId": "13734864529048252160"
     },
     "user_tz": -360
    },
    "id": "6abf8862"
   },
   "outputs": [],
   "source": [
    "test_filenames = test_meta[\"filename\"].values\n",
    "test_gt = test_meta[\"class\"].values"
   ]
  },
  {
   "cell_type": "code",
   "execution_count": 12,
   "id": "217cc64d",
   "metadata": {
    "colab": {
     "base_uri": "https://localhost:8080/",
     "height": 424
    },
    "executionInfo": {
     "elapsed": 13,
     "status": "ok",
     "timestamp": 1661660411448,
     "user": {
      "displayName": "Mominul Islam",
      "userId": "13734864529048252160"
     },
     "user_tz": -360
    },
    "id": "217cc64d",
    "outputId": "0e85a28d-b921-4946-a792-78cffa8a422f"
   },
   "outputs": [
    {
     "data": {
      "text/html": [
       "<div>\n",
       "<style scoped>\n",
       "    .dataframe tbody tr th:only-of-type {\n",
       "        vertical-align: middle;\n",
       "    }\n",
       "\n",
       "    .dataframe tbody tr th {\n",
       "        vertical-align: top;\n",
       "    }\n",
       "\n",
       "    .dataframe thead th {\n",
       "        text-align: right;\n",
       "    }\n",
       "</style>\n",
       "<table border=\"1\" class=\"dataframe\">\n",
       "  <thead>\n",
       "    <tr style=\"text-align: right;\">\n",
       "      <th></th>\n",
       "      <th>filename</th>\n",
       "      <th>class</th>\n",
       "    </tr>\n",
       "  </thead>\n",
       "  <tbody>\n",
       "    <tr>\n",
       "      <th>0</th>\n",
       "      <td>ISIC_0000003</td>\n",
       "      <td>0.0</td>\n",
       "    </tr>\n",
       "    <tr>\n",
       "      <th>1</th>\n",
       "      <td>ISIC_0000012</td>\n",
       "      <td>0.0</td>\n",
       "    </tr>\n",
       "    <tr>\n",
       "      <th>2</th>\n",
       "      <td>ISIC_0000013</td>\n",
       "      <td>1.0</td>\n",
       "    </tr>\n",
       "    <tr>\n",
       "      <th>3</th>\n",
       "      <td>ISIC_0000014</td>\n",
       "      <td>0.0</td>\n",
       "    </tr>\n",
       "    <tr>\n",
       "      <th>4</th>\n",
       "      <td>ISIC_0000015</td>\n",
       "      <td>0.0</td>\n",
       "    </tr>\n",
       "    <tr>\n",
       "      <th>...</th>\n",
       "      <td>...</td>\n",
       "      <td>...</td>\n",
       "    </tr>\n",
       "    <tr>\n",
       "      <th>374</th>\n",
       "      <td>ISIC_0011367</td>\n",
       "      <td>0.0</td>\n",
       "    </tr>\n",
       "    <tr>\n",
       "      <th>375</th>\n",
       "      <td>ISIC_0011374</td>\n",
       "      <td>1.0</td>\n",
       "    </tr>\n",
       "    <tr>\n",
       "      <th>376</th>\n",
       "      <td>ISIC_0011384</td>\n",
       "      <td>0.0</td>\n",
       "    </tr>\n",
       "    <tr>\n",
       "      <th>377</th>\n",
       "      <td>ISIC_0011386</td>\n",
       "      <td>0.0</td>\n",
       "    </tr>\n",
       "    <tr>\n",
       "      <th>378</th>\n",
       "      <td>ISIC_0011392</td>\n",
       "      <td>0.0</td>\n",
       "    </tr>\n",
       "  </tbody>\n",
       "</table>\n",
       "<p>379 rows × 2 columns</p>\n",
       "</div>"
      ],
      "text/plain": [
       "         filename  class\n",
       "0    ISIC_0000003    0.0\n",
       "1    ISIC_0000012    0.0\n",
       "2    ISIC_0000013    1.0\n",
       "3    ISIC_0000014    0.0\n",
       "4    ISIC_0000015    0.0\n",
       "..            ...    ...\n",
       "374  ISIC_0011367    0.0\n",
       "375  ISIC_0011374    1.0\n",
       "376  ISIC_0011384    0.0\n",
       "377  ISIC_0011386    0.0\n",
       "378  ISIC_0011392    0.0\n",
       "\n",
       "[379 rows x 2 columns]"
      ]
     },
     "execution_count": 12,
     "metadata": {},
     "output_type": "execute_result"
    }
   ],
   "source": [
    "test_meta"
   ]
  },
  {
   "cell_type": "code",
   "execution_count": 13,
   "id": "a0c811bb",
   "metadata": {
    "colab": {
     "base_uri": "https://localhost:8080/"
    },
    "executionInfo": {
     "elapsed": 220099,
     "status": "ok",
     "timestamp": 1661660631536,
     "user": {
      "displayName": "Mominul Islam",
      "userId": "13734864529048252160"
     },
     "user_tz": -360
    },
    "id": "a0c811bb",
    "outputId": "cd4fdd25-ad5b-4ce1-b06a-2d6f32bb0390",
    "scrolled": true
   },
   "outputs": [
    {
     "name": "stderr",
     "output_type": "stream",
     "text": [
      "379it [00:09, 40.94it/s] "
     ]
    },
    {
     "name": "stdout",
     "output_type": "stream",
     "text": [
      "Done!\n"
     ]
    },
    {
     "name": "stderr",
     "output_type": "stream",
     "text": [
      "\n"
     ]
    }
   ],
   "source": [
    "for filename, gt in tqdm(zip(test_filenames[:], test_gt[:])):\n",
    "    \n",
    "    filename_jpg = filename + '.jpg'\n",
    "    path = os.path.join(test_dir, filename_jpg)\n",
    "    \n",
    "    img = cv2.imread(path)\n",
    "    img = cv2.resize(img, (256, 256))\n",
    "    \n",
    "    if gt == 0:\n",
    "        cv2.imwrite(os.path.join(os.path.abspath('../../datasets/ISIC-2016/split/test/benign'), filename_jpg), img)\n",
    "        img = None\n",
    "            \n",
    "    elif gt == 1:\n",
    "        cv2.imwrite(os.path.join(os.path.abspath('../../datasets/ISIC-2016/split/test/malignant'), filename_jpg), img)\n",
    "        img = None\n",
    "    \n",
    "print(\"Done!\")"
   ]
  }
 ],
 "metadata": {
  "colab": {
   "collapsed_sections": [],
   "name": "dataset_preprocessing.ipynb",
   "provenance": []
  },
  "gpuClass": "standard",
  "kernelspec": {
   "display_name": "Python (csf-ovs)",
   "language": "python",
   "name": "csf-ovs"
  },
  "language_info": {
   "codemirror_mode": {
    "name": "ipython",
    "version": 3
   },
   "file_extension": ".py",
   "mimetype": "text/x-python",
   "name": "python",
   "nbconvert_exporter": "python",
   "pygments_lexer": "ipython3",
   "version": "3.7.16"
  },
  "vscode": {
   "interpreter": {
    "hash": "0146b650d56ee8a583b11ba58916aa78d347dbdd43b156c29d5a90906f18e1f0"
   }
  }
 },
 "nbformat": 4,
 "nbformat_minor": 5
}
