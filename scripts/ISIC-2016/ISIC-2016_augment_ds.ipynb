{
 "cells": [
  {
   "cell_type": "code",
   "execution_count": 1,
   "id": "26a98d1d",
   "metadata": {},
   "outputs": [],
   "source": [
    "import os\n",
    "import shutil\n",
    "from tqdm import tqdm"
   ]
  },
  {
   "cell_type": "code",
   "execution_count": 2,
   "id": "a24903a5",
   "metadata": {},
   "outputs": [],
   "source": [
    "import sys\n",
    "sys.path.append('../')\n",
    "\n",
    "from copy_files import copy_files"
   ]
  },
  {
   "cell_type": "markdown",
   "id": "d1de2331",
   "metadata": {},
   "source": [
    "## Create Dataset: Train & Test (Model)"
   ]
  },
  {
   "cell_type": "markdown",
   "id": "ec788be5",
   "metadata": {},
   "source": [
    "### No-Filtering"
   ]
  },
  {
   "cell_type": "code",
   "execution_count": 3,
   "id": "ccb9bf67",
   "metadata": {},
   "outputs": [
    {
     "name": "stderr",
     "output_type": "stream",
     "text": [
      "100%|\u001b[35m█████████████████████████████████████████████████████████████████████████████\u001b[0m| 2/2 [00:01<00:00,  1.22it/s]\u001b[0m"
     ]
    },
    {
     "name": "stdout",
     "output_type": "stream",
     "text": [
      "Done!\n"
     ]
    },
    {
     "name": "stderr",
     "output_type": "stream",
     "text": [
      "\n"
     ]
    }
   ],
   "source": [
    "# root directory\n",
    "root_dir = os.path.abspath('../../datasets/ISIC-2016/')\n",
    "\n",
    "# creating temp folder\n",
    "temp_dir = os.path.join(root_dir, 'dataset-processed/dataset-models/temp')\n",
    "\n",
    "if os.path.exists(temp_dir):\n",
    "    shutil.rmtree(temp_dir)\n",
    "os.makedirs(temp_dir)\n",
    "\n",
    "classes = ['benign', 'malignant']\n",
    "\n",
    "# creating class folders\n",
    "for i in classes:\n",
    "    os.makedirs(os.path.join(temp_dir, i))\n",
    "\n",
    "# copying files \n",
    "for i in tqdm(classes, colour='magenta'):\n",
    "    destination = os.path.join(root_dir, 'dataset-processed/dataset-models/temp', i)\n",
    "    if i=='nv':\n",
    "        source_1 = os.path.join(root_dir, 'split/train', i)\n",
    "        copy_files(source_1, destination)\n",
    "    else:\n",
    "        source_2 = os.path.join(root_dir, 'image-data-generator', i)\n",
    "        source_3 = os.path.join(root_dir, 'stylegan2-ada/oversampling/No-Filtering/oversample', i)\n",
    "        copy_files(source_2, destination)\n",
    "        copy_files(source_3, destination)\n",
    "\n",
    "# rename temp directory\n",
    "output_dir = os.path.join(root_dir, 'dataset-processed/dataset-models')\n",
    "os.rename(temp_dir, os.path.join(output_dir, 'isic-2016-model-train-no-filtering'))\n",
    "print('Done!')"
   ]
  },
  {
   "cell_type": "code",
   "execution_count": 4,
   "id": "b56f8b1f",
   "metadata": {},
   "outputs": [],
   "source": [
    "def dataset_process(filtered_dir, file_name):\n",
    "    # root directory\n",
    "    root_dir = os.path.abspath('../../datasets/ISIC-2016/')\n",
    "\n",
    "    # creating temp folder\n",
    "    temp_dir = os.path.join(root_dir, 'dataset-processed/dataset-models/temp')\n",
    "\n",
    "    if os.path.exists(temp_dir):\n",
    "        shutil.rmtree(temp_dir)\n",
    "    os.makedirs(temp_dir)\n",
    "\n",
    "    classes = ['benign', 'malignant']\n",
    "\n",
    "    # creating class folders\n",
    "    for i in classes:\n",
    "        os.makedirs(os.path.join(temp_dir, i))\n",
    "\n",
    "    # copying files \n",
    "    for i in tqdm(classes, colour='magenta'):\n",
    "        destination = os.path.join(root_dir, 'dataset-processed/dataset-models/temp', i)\n",
    "        if i=='nv':\n",
    "            source_1 = os.path.join(root_dir, 'split/train', i)\n",
    "            copy_files(source_1, destination)\n",
    "        else:\n",
    "            source_2 = os.path.join(root_dir, 'image-data-generator', i)\n",
    "            source_3 = os.path.join(filtered_dir, i)\n",
    "            copy_files(source_2, destination)\n",
    "            copy_files(source_3, destination)\n",
    "\n",
    "    # rename temp directory\n",
    "    output_dir = os.path.join(root_dir, 'dataset-processed/dataset-models')\n",
    "    os.rename(temp_dir, os.path.join(output_dir, file_name))\n",
    "    print('Done!')"
   ]
  },
  {
   "cell_type": "code",
   "execution_count": 5,
   "id": "1aa1beeb",
   "metadata": {},
   "outputs": [],
   "source": [
    "# root directory\n",
    "root_dir = os.path.abspath('../../datasets/ISIC-2016/')"
   ]
  },
  {
   "cell_type": "markdown",
   "id": "6e63b684",
   "metadata": {},
   "source": [
    "### FBGT"
   ]
  },
  {
   "cell_type": "code",
   "execution_count": 6,
   "id": "9eea4d73",
   "metadata": {},
   "outputs": [
    {
     "name": "stderr",
     "output_type": "stream",
     "text": [
      "100%|\u001b[35m█████████████████████████████████████████████████████████████████████████████\u001b[0m| 2/2 [00:01<00:00,  1.26it/s]\u001b[0m"
     ]
    },
    {
     "name": "stdout",
     "output_type": "stream",
     "text": [
      "Done!\n"
     ]
    },
    {
     "name": "stderr",
     "output_type": "stream",
     "text": [
      "\n"
     ]
    }
   ],
   "source": [
    "# α = 0.80 | alpha_1\n",
    "alpha_1 = os.path.join(root_dir, 'stylegan2-ada/oversampling/FBGT/alpha_1/oversample')\n",
    "dataset_process(filtered_dir=alpha_1, file_name='isic-2016-model-train-fbgt-alpha-1')"
   ]
  },
  {
   "cell_type": "code",
   "execution_count": 7,
   "id": "cff4c834",
   "metadata": {},
   "outputs": [
    {
     "name": "stderr",
     "output_type": "stream",
     "text": [
      "100%|\u001b[35m█████████████████████████████████████████████████████████████████████████████\u001b[0m| 2/2 [00:01<00:00,  1.22it/s]\u001b[0m"
     ]
    },
    {
     "name": "stdout",
     "output_type": "stream",
     "text": [
      "Done!\n"
     ]
    },
    {
     "name": "stderr",
     "output_type": "stream",
     "text": [
      "\n"
     ]
    }
   ],
   "source": [
    "# α = 0.85 | alpha_2\n",
    "alpha_2 = os.path.join(root_dir, 'stylegan2-ada/oversampling/FBGT/alpha_2/oversample')\n",
    "dataset_process(filtered_dir=alpha_2, file_name='isic-2016-model-train-fbgt-alpha-2')"
   ]
  },
  {
   "cell_type": "code",
   "execution_count": 8,
   "id": "38b1e501",
   "metadata": {},
   "outputs": [
    {
     "name": "stderr",
     "output_type": "stream",
     "text": [
      "100%|\u001b[35m█████████████████████████████████████████████████████████████████████████████\u001b[0m| 2/2 [00:01<00:00,  1.27it/s]\u001b[0m"
     ]
    },
    {
     "name": "stdout",
     "output_type": "stream",
     "text": [
      "Done!\n"
     ]
    },
    {
     "name": "stderr",
     "output_type": "stream",
     "text": [
      "\n"
     ]
    }
   ],
   "source": [
    "# α = 0.90 | alpha_3\n",
    "alpha_3 = os.path.join(root_dir, 'stylegan2-ada/oversampling/FBGT/alpha_3/oversample')\n",
    "dataset_process(filtered_dir=alpha_3, file_name='isic-2016-model-train-fbgt-alpha-3')"
   ]
  },
  {
   "cell_type": "markdown",
   "id": "fed5b343",
   "metadata": {},
   "source": [
    "### FAGT"
   ]
  },
  {
   "cell_type": "code",
   "execution_count": 9,
   "id": "0750c14a",
   "metadata": {},
   "outputs": [
    {
     "name": "stderr",
     "output_type": "stream",
     "text": [
      "100%|\u001b[35m█████████████████████████████████████████████████████████████████████████████\u001b[0m| 2/2 [00:01<00:00,  1.19it/s]\u001b[0m"
     ]
    },
    {
     "name": "stdout",
     "output_type": "stream",
     "text": [
      "Done!\n"
     ]
    },
    {
     "name": "stderr",
     "output_type": "stream",
     "text": [
      "\n"
     ]
    }
   ],
   "source": [
    "# α = 0.75 | alpha_1\n",
    "alpha_1 = os.path.join(root_dir, 'stylegan2-ada/oversampling/FAGT/alpha_1/filtered')\n",
    "dataset_process(filtered_dir=alpha_1, file_name='isic-2016-model-train-fagt-alpha-1')"
   ]
  },
  {
   "cell_type": "code",
   "execution_count": 10,
   "id": "779eba54",
   "metadata": {},
   "outputs": [
    {
     "name": "stderr",
     "output_type": "stream",
     "text": [
      "100%|\u001b[35m█████████████████████████████████████████████████████████████████████████████\u001b[0m| 2/2 [00:01<00:00,  1.15it/s]\u001b[0m"
     ]
    },
    {
     "name": "stdout",
     "output_type": "stream",
     "text": [
      "Done!\n"
     ]
    },
    {
     "name": "stderr",
     "output_type": "stream",
     "text": [
      "\n"
     ]
    }
   ],
   "source": [
    "# α = 0.80 | alpha_2\n",
    "alpha_2 = os.path.join(root_dir, 'stylegan2-ada/oversampling/FAGT/alpha_2/filtered')\n",
    "dataset_process(filtered_dir=alpha_2, file_name='isic-2016-model-train-fagt-alpha-2')"
   ]
  },
  {
   "cell_type": "code",
   "execution_count": 11,
   "id": "895a557e",
   "metadata": {},
   "outputs": [
    {
     "name": "stderr",
     "output_type": "stream",
     "text": [
      "100%|\u001b[35m█████████████████████████████████████████████████████████████████████████████\u001b[0m| 2/2 [00:01<00:00,  1.15it/s]\u001b[0m"
     ]
    },
    {
     "name": "stdout",
     "output_type": "stream",
     "text": [
      "Done!\n"
     ]
    },
    {
     "name": "stderr",
     "output_type": "stream",
     "text": [
      "\n"
     ]
    }
   ],
   "source": [
    "# α = 0.85 | alpha_3\n",
    "alpha_3 = os.path.join(root_dir, 'stylegan2-ada/oversampling/FAGT/alpha_3/filtered')\n",
    "dataset_process(filtered_dir=alpha_3, file_name='isic-2016-model-train-fagt-alpha-3')"
   ]
  }
 ],
 "metadata": {
  "kernelspec": {
   "display_name": "Python (csf-ovs)",
   "language": "python",
   "name": "csf-ovs"
  },
  "language_info": {
   "codemirror_mode": {
    "name": "ipython",
    "version": 3
   },
   "file_extension": ".py",
   "mimetype": "text/x-python",
   "name": "python",
   "nbconvert_exporter": "python",
   "pygments_lexer": "ipython3",
   "version": "3.7.16"
  }
 },
 "nbformat": 4,
 "nbformat_minor": 5
}
