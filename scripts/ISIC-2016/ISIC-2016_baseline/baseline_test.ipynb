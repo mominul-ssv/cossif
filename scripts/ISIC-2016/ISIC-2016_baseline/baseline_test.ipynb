{
 "cells": [
  {
   "cell_type": "code",
   "execution_count": 1,
   "metadata": {},
   "outputs": [],
   "source": [
    "import os \n",
    "import numpy as np\n",
    "import keras\n",
    "from keras.models import load_model"
   ]
  },
  {
   "cell_type": "code",
   "execution_count": 2,
   "metadata": {},
   "outputs": [],
   "source": [
    "# scikit-learn libraries\n",
    "from sklearn.metrics import roc_auc_score, confusion_matrix"
   ]
  },
  {
   "cell_type": "code",
   "execution_count": 3,
   "metadata": {},
   "outputs": [
    {
     "name": "stdout",
     "output_type": "stream",
     "text": [
      "Contents in folder: ['x_test.npy', 'x_train.npy', 'y_test.npy', 'y_train.npy']\n"
     ]
    }
   ],
   "source": [
    "# Define paths\n",
    "base_path = os.path.abspath(\"../../../\")\n",
    "dataset_path = os.path.join(base_path, \"datasets/ISIC-2016/baseline\", \"isic2016numpy\")\n",
    "print(\"Contents in folder:\", os.listdir(dataset_path))"
   ]
  },
  {
   "cell_type": "code",
   "execution_count": 4,
   "metadata": {},
   "outputs": [
    {
     "name": "stdout",
     "output_type": "stream",
     "text": [
      "Dataset sample size : (379, 256, 256, 3) (379, 2)\n"
     ]
    }
   ],
   "source": [
    "# Load test data\n",
    "x_test = np.load(\"{}/x_test.npy\".format(dataset_path))\n",
    "y_test = np.load(\"{}/y_test.npy\".format(dataset_path))\n",
    "\n",
    "# Standardize\n",
    "x_test = x_test.astype('float32')\n",
    "x_test /= 255\n",
    "assert min(x_test.flatten()) == 0.0, \"Not preprocessed\"\n",
    "\n",
    "# Show shape\n",
    "print(\"Dataset sample size :\", x_test.shape, y_test.shape)"
   ]
  },
  {
   "cell_type": "code",
   "execution_count": 5,
   "metadata": {},
   "outputs": [
    {
     "name": "stdout",
     "output_type": "stream",
     "text": [
      "Model loaded\n"
     ]
    }
   ],
   "source": [
    "# Model path\n",
    "weights_path = \"{}/{}.h5\".format(os.path.join(base_path, \"models/ISIC-2016/baseline\"), \"MelaNet\")\n",
    "model = load_model(weights_path, compile = False) \n",
    "print(\"Model loaded\")"
   ]
  },
  {
   "cell_type": "code",
   "execution_count": 6,
   "metadata": {},
   "outputs": [
    {
     "name": "stdout",
     "output_type": "stream",
     "text": [
      "12/12 [==============================] - 12s 463ms/step\n",
      "Predictions:  (379, 2)\n"
     ]
    }
   ],
   "source": [
    "# Make predictions using trained model\n",
    "y_pred = model.predict(x_test, verbose=1)\n",
    "print(\"Predictions: \", y_pred.shape)"
   ]
  },
  {
   "cell_type": "code",
   "execution_count": 7,
   "metadata": {},
   "outputs": [
    {
     "name": "stdout",
     "output_type": "stream",
     "text": [
      "After flattening ground truth:  (379,)\n"
     ]
    }
   ],
   "source": [
    "# Convert ground truth to column values\n",
    "y_test_flat = np.argmax(y_test, axis=1)\n",
    "print(\"After flattening ground truth: \", y_test_flat.shape)"
   ]
  },
  {
   "cell_type": "code",
   "execution_count": 8,
   "metadata": {},
   "outputs": [
    {
     "name": "stdout",
     "output_type": "stream",
     "text": [
      "Binarize probability values:  (379,)\n"
     ]
    }
   ],
   "source": [
    "# Get labels from predictions\n",
    "y_pred_flat = np.array([np.argmax(pred) for pred in y_pred]) # y_pred[1] -> probability for class 1 \n",
    "print(\"Binarize probability values: \", y_pred_flat.shape)"
   ]
  },
  {
   "cell_type": "code",
   "execution_count": 9,
   "metadata": {},
   "outputs": [
    {
     "name": "stdout",
     "output_type": "stream",
     "text": [
      "(379, 2) (379,) (379, 2) (379,)\n"
     ]
    }
   ],
   "source": [
    "# Sanity check\n",
    "print(y_test.shape, y_test_flat.shape, y_pred.shape, y_pred_flat.shape)"
   ]
  },
  {
   "cell_type": "markdown",
   "metadata": {},
   "source": [
    "# AUC"
   ]
  },
  {
   "cell_type": "code",
   "execution_count": 10,
   "metadata": {},
   "outputs": [
    {
     "name": "stdout",
     "output_type": "stream",
     "text": [
      "MelaNet | AUC:  81.19%\n"
     ]
    }
   ],
   "source": [
    "print(\"MelaNet | AUC: \", '{0:.2f}%'.format(roc_auc_score(y_test, y_pred)*100))"
   ]
  },
  {
   "cell_type": "markdown",
   "metadata": {},
   "source": [
    "# Sensitivity & Specificity"
   ]
  },
  {
   "cell_type": "code",
   "execution_count": 11,
   "metadata": {},
   "outputs": [
    {
     "name": "stdout",
     "output_type": "stream",
     "text": [
      "MelaNet | Sensitivity : 70.67%\n",
      "MelaNet | Specificity : 80.59%\n"
     ]
    }
   ],
   "source": [
    "TN, FP, FN, TP = confusion_matrix(y_test_flat, y_pred_flat).ravel()\n",
    "print(\"MelaNet | Sensitivity :\", '{0:.2f}%'.format(TP/(TP+FN)*100))\n",
    "print(\"MelaNet | Specificity :\", '{0:.2f}%'.format(TN/(TN+FP)*100))"
   ]
  },
  {
   "cell_type": "code",
   "execution_count": null,
   "metadata": {},
   "outputs": [],
   "source": []
  }
 ],
 "metadata": {
  "accelerator": "GPU",
  "colab": {
   "collapsed_sections": [],
   "name": "test_ISIC_2016.ipynb",
   "provenance": []
  },
  "kernelspec": {
   "display_name": "Python (csf-ovs)",
   "language": "python",
   "name": "csf-ovs"
  },
  "language_info": {
   "codemirror_mode": {
    "name": "ipython",
    "version": 3
   },
   "file_extension": ".py",
   "mimetype": "text/x-python",
   "name": "python",
   "nbconvert_exporter": "python",
   "pygments_lexer": "ipython3",
   "version": "3.7.16"
  }
 },
 "nbformat": 4,
 "nbformat_minor": 4
}
