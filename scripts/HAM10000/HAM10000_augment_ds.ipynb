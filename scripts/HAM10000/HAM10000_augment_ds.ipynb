{
 "cells": [
  {
   "cell_type": "code",
   "execution_count": 1,
   "id": "70ead098",
   "metadata": {},
   "outputs": [],
   "source": [
    "import os\n",
    "import shutil\n",
    "from tqdm import tqdm"
   ]
  },
  {
   "cell_type": "code",
   "execution_count": 2,
   "id": "07ef85e2",
   "metadata": {},
   "outputs": [],
   "source": [
    "import sys\n",
    "sys.path.append('../')\n",
    "\n",
    "from copy_files import copy_files"
   ]
  },
  {
   "cell_type": "markdown",
   "id": "5f44dbef",
   "metadata": {},
   "source": [
    "## Create Dataset: Train & Test (Model)"
   ]
  },
  {
   "cell_type": "markdown",
   "id": "8a48b99d",
   "metadata": {},
   "source": [
    "#### Test Dataset (Kaggle):\n",
    "- Go to the split directory.\n",
    "- Copy the test directory to a separate location.\n",
    "- Zip the copied test directory.\n",
    "- Rename the zipped test directory to 'ham10000-model-test'.\n",
    "- Upload the zipped file to Kaggle.\n",
    "\n",
    "#### Train Dataset (Kaggle):\n",
    "- After executing the codes below, each train folder must be zipped and then uploaded to Kaggle."
   ]
  },
  {
   "cell_type": "markdown",
   "id": "3f6bcec2",
   "metadata": {},
   "source": [
    "### No-Filtering"
   ]
  },
  {
   "cell_type": "code",
   "execution_count": 3,
   "id": "8961a4d9",
   "metadata": {},
   "outputs": [
    {
     "name": "stderr",
     "output_type": "stream",
     "text": [
      "100%|\u001b[35m█████████████████████████████████████████████████████████████████████████████\u001b[0m| 7/7 [00:44<00:00,  6.35s/it]\u001b[0m"
     ]
    },
    {
     "name": "stdout",
     "output_type": "stream",
     "text": [
      "Done!\n"
     ]
    },
    {
     "name": "stderr",
     "output_type": "stream",
     "text": [
      "\n"
     ]
    }
   ],
   "source": [
    "# root directory\n",
    "root_dir = os.path.abspath('../../datasets/HAM10000/')\n",
    "\n",
    "# creating temp folder\n",
    "temp_dir = os.path.join(root_dir, 'dataset-processed/dataset-models/temp')\n",
    "\n",
    "if os.path.exists(temp_dir):\n",
    "    shutil.rmtree(temp_dir)\n",
    "os.makedirs(temp_dir)\n",
    "\n",
    "classes = ['akiec', 'bcc', 'bkl', 'df', 'mel', 'nv', 'vasc']\n",
    "\n",
    "# creating class folders\n",
    "for i in classes:\n",
    "    os.makedirs(os.path.join(temp_dir, i))\n",
    "\n",
    "# copying files \n",
    "for i in tqdm(classes, colour='magenta'):\n",
    "    destination = os.path.join(root_dir, 'dataset-processed/dataset-models/temp', i)\n",
    "    if i=='nv':\n",
    "        source_1 = os.path.join(root_dir, 'split/train', i)\n",
    "        copy_files(source_1, destination)\n",
    "    else:\n",
    "        source_2 = os.path.join(root_dir, 'image-data-generator', i)\n",
    "        source_3 = os.path.join(root_dir, 'stylegan2-ada/oversampling/No-Filtering/oversample', i)\n",
    "        copy_files(source_2, destination)\n",
    "        copy_files(source_3, destination)\n",
    "\n",
    "# creating zip \n",
    "output_dir = os.path.join(root_dir, 'dataset-processed/dataset-models')\n",
    "os.rename(temp_dir, os.path.join(output_dir, 'ham10000-model-train-no-filtering'))\n",
    "print('Done!')"
   ]
  },
  {
   "cell_type": "code",
   "execution_count": 4,
   "id": "97a58c08",
   "metadata": {},
   "outputs": [],
   "source": [
    "def dataset_process(filtered_dir, folder_name):\n",
    "    # root directory\n",
    "    root_dir = os.path.abspath('../../datasets/HAM10000/')\n",
    "\n",
    "    # creating temp folder\n",
    "    temp_dir = os.path.join(root_dir, 'dataset-processed/dataset-models/temp')\n",
    "\n",
    "    if os.path.exists(temp_dir):\n",
    "        shutil.rmtree(temp_dir)\n",
    "    os.makedirs(temp_dir)\n",
    "\n",
    "    classes = ['akiec', 'bcc', 'bkl', 'df', 'mel', 'nv', 'vasc']\n",
    "\n",
    "    # creating class folders\n",
    "    for i in classes:\n",
    "        os.makedirs(os.path.join(temp_dir, i))\n",
    "\n",
    "    # copying files \n",
    "    for i in tqdm(classes, colour='magenta'):\n",
    "        destination = os.path.join(root_dir, 'dataset-processed/dataset-models/temp', i)\n",
    "        if i=='nv':\n",
    "            source_1 = os.path.join(root_dir, 'split/train', i)\n",
    "            copy_files(source_1, destination)\n",
    "        else:\n",
    "            source_2 = os.path.join(root_dir, 'image-data-generator', i)\n",
    "            source_3 = os.path.join(filtered_dir, i)\n",
    "            copy_files(source_2, destination)\n",
    "            copy_files(source_3, destination)\n",
    "\n",
    "    # creating zip \n",
    "    output_dir = os.path.join(root_dir, 'dataset-processed/dataset-models')\n",
    "    os.rename(temp_dir, os.path.join(output_dir, folder_name))\n",
    "    print('Done!')"
   ]
  },
  {
   "cell_type": "code",
   "execution_count": 5,
   "id": "ef134a3b",
   "metadata": {},
   "outputs": [],
   "source": [
    "# root directory\n",
    "root_dir = os.path.abspath('../../datasets/HAM10000/')"
   ]
  },
  {
   "cell_type": "markdown",
   "id": "ddb4f1a3",
   "metadata": {},
   "source": [
    "### FBGT"
   ]
  },
  {
   "cell_type": "code",
   "execution_count": 6,
   "id": "3f1cedd2",
   "metadata": {},
   "outputs": [
    {
     "name": "stderr",
     "output_type": "stream",
     "text": [
      "100%|\u001b[35m█████████████████████████████████████████████████████████████████████████████\u001b[0m| 7/7 [00:48<00:00,  6.90s/it]\u001b[0m"
     ]
    },
    {
     "name": "stdout",
     "output_type": "stream",
     "text": [
      "Done!\n"
     ]
    },
    {
     "name": "stderr",
     "output_type": "stream",
     "text": [
      "\n"
     ]
    }
   ],
   "source": [
    "# α = 0.80 | alpha_1\n",
    "alpha_1 = os.path.join(root_dir, 'stylegan2-ada/oversampling/FBGT/alpha_1/oversample')\n",
    "dataset_process(filtered_dir=alpha_1, folder_name='ham10000-model-train-fbgt-alpha-1')"
   ]
  },
  {
   "cell_type": "code",
   "execution_count": 7,
   "id": "4cdaf7fe",
   "metadata": {},
   "outputs": [
    {
     "name": "stderr",
     "output_type": "stream",
     "text": [
      "100%|\u001b[35m█████████████████████████████████████████████████████████████████████████████\u001b[0m| 7/7 [00:45<00:00,  6.55s/it]\u001b[0m"
     ]
    },
    {
     "name": "stdout",
     "output_type": "stream",
     "text": [
      "Done!\n"
     ]
    },
    {
     "name": "stderr",
     "output_type": "stream",
     "text": [
      "\n"
     ]
    }
   ],
   "source": [
    "# α = 0.85 | alpha_2\n",
    "alpha_2 = os.path.join(root_dir, 'stylegan2-ada/oversampling/FBGT/alpha_2/oversample')\n",
    "dataset_process(filtered_dir=alpha_2, folder_name='ham10000-model-train-fbgt-alpha-2')"
   ]
  },
  {
   "cell_type": "code",
   "execution_count": 8,
   "id": "a5e4fb32",
   "metadata": {},
   "outputs": [
    {
     "name": "stderr",
     "output_type": "stream",
     "text": [
      "100%|\u001b[35m█████████████████████████████████████████████████████████████████████████████\u001b[0m| 7/7 [00:44<00:00,  6.37s/it]\u001b[0m"
     ]
    },
    {
     "name": "stdout",
     "output_type": "stream",
     "text": [
      "Done!\n"
     ]
    },
    {
     "name": "stderr",
     "output_type": "stream",
     "text": [
      "\n"
     ]
    }
   ],
   "source": [
    "# α = 0.90 | alpha_3\n",
    "alpha_3 = os.path.join(root_dir, 'stylegan2-ada/oversampling/FBGT/alpha_3/oversample')\n",
    "dataset_process(filtered_dir=alpha_3, folder_name='ham10000-model-train-fbgt-alpha-3')"
   ]
  },
  {
   "cell_type": "markdown",
   "id": "04096771",
   "metadata": {},
   "source": [
    "### FAGT"
   ]
  },
  {
   "cell_type": "code",
   "execution_count": 9,
   "id": "0875718e",
   "metadata": {},
   "outputs": [
    {
     "name": "stderr",
     "output_type": "stream",
     "text": [
      "100%|\u001b[35m█████████████████████████████████████████████████████████████████████████████\u001b[0m| 7/7 [00:48<00:00,  6.89s/it]\u001b[0m"
     ]
    },
    {
     "name": "stdout",
     "output_type": "stream",
     "text": [
      "Done!\n"
     ]
    },
    {
     "name": "stderr",
     "output_type": "stream",
     "text": [
      "\n"
     ]
    }
   ],
   "source": [
    "# α = 0.75 | alpha_1\n",
    "alpha_1 = os.path.join(root_dir, 'stylegan2-ada/oversampling/FAGT/alpha_1/filtered')\n",
    "dataset_process(filtered_dir=alpha_1, folder_name='ham10000-model-train-fagt-alpha-1')"
   ]
  },
  {
   "cell_type": "code",
   "execution_count": 10,
   "id": "a5a6562b",
   "metadata": {},
   "outputs": [
    {
     "name": "stderr",
     "output_type": "stream",
     "text": [
      "100%|\u001b[35m█████████████████████████████████████████████████████████████████████████████\u001b[0m| 7/7 [00:48<00:00,  6.90s/it]\u001b[0m"
     ]
    },
    {
     "name": "stdout",
     "output_type": "stream",
     "text": [
      "Done!\n"
     ]
    },
    {
     "name": "stderr",
     "output_type": "stream",
     "text": [
      "\n"
     ]
    }
   ],
   "source": [
    "# α = 0.80 | alpha_2\n",
    "alpha_2 = os.path.join(root_dir, 'stylegan2-ada/oversampling/FAGT/alpha_2/filtered')\n",
    "dataset_process(filtered_dir=alpha_2, folder_name='ham10000-model-train-fagt-alpha-2')"
   ]
  },
  {
   "cell_type": "code",
   "execution_count": 11,
   "id": "2e29a79f",
   "metadata": {},
   "outputs": [
    {
     "name": "stderr",
     "output_type": "stream",
     "text": [
      "100%|\u001b[35m█████████████████████████████████████████████████████████████████████████████\u001b[0m| 7/7 [00:42<00:00,  6.11s/it]\u001b[0m"
     ]
    },
    {
     "name": "stdout",
     "output_type": "stream",
     "text": [
      "Done!\n"
     ]
    },
    {
     "name": "stderr",
     "output_type": "stream",
     "text": [
      "\n"
     ]
    }
   ],
   "source": [
    "# α = 0.85 | alpha_3\n",
    "alpha_3 = os.path.join(root_dir, 'stylegan2-ada/oversampling/FAGT/alpha_3/filtered')\n",
    "dataset_process(filtered_dir=alpha_3, folder_name='ham10000-model-train-fagt-alpha-3')"
   ]
  }
 ],
 "metadata": {
  "kernelspec": {
   "display_name": "Python (csf-ovs)",
   "language": "python",
   "name": "csf-ovs"
  },
  "language_info": {
   "codemirror_mode": {
    "name": "ipython",
    "version": 3
   },
   "file_extension": ".py",
   "mimetype": "text/x-python",
   "name": "python",
   "nbconvert_exporter": "python",
   "pygments_lexer": "ipython3",
   "version": "3.7.16"
  }
 },
 "nbformat": 4,
 "nbformat_minor": 5
}
