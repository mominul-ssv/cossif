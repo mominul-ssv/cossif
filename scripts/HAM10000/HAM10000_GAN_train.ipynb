{
 "cells": [
  {
   "cell_type": "markdown",
   "metadata": {},
   "source": [
    "## StyleGAN2-ADA-PyTorch (Kaggle)"
   ]
  },
  {
   "cell_type": "markdown",
   "metadata": {
    "id": "Vj4PG4_i9Alt"
   },
   "source": [
    "## Clear Storage"
   ]
  },
  {
   "cell_type": "code",
   "execution_count": null,
   "metadata": {},
   "outputs": [],
   "source": [
    "# import shutil\n",
    "# shutil.rmtree(\"/kaggle/working/\")"
   ]
  },
  {
   "cell_type": "markdown",
   "metadata": {},
   "source": [
    "## GPU"
   ]
  },
  {
   "cell_type": "code",
   "execution_count": null,
   "metadata": {
    "colab": {
     "base_uri": "https://localhost:8080/"
    },
    "execution": {
     "iopub.execute_input": "2023-02-18T19:00:41.368018Z",
     "iopub.status.busy": "2023-02-18T19:00:41.367562Z",
     "iopub.status.idle": "2023-02-18T19:00:42.336192Z",
     "shell.execute_reply": "2023-02-18T19:00:42.335009Z",
     "shell.execute_reply.started": "2023-02-18T19:00:41.367932Z"
    },
    "executionInfo": {
     "elapsed": 760,
     "status": "ok",
     "timestamp": 1670536810297,
     "user": {
      "displayName": "Mominul Islam",
      "userId": "13734864529048252160"
     },
     "user_tz": -360
    },
    "id": "7VVICTCvd4mc",
    "outputId": "fa1cd7b1-cdfb-4793-a0c9-6b27f830b023"
   },
   "outputs": [],
   "source": [
    "!nvidia-smi -L"
   ]
  },
  {
   "cell_type": "markdown",
   "metadata": {},
   "source": [
    "## Install Libraries (Kaggle)"
   ]
  },
  {
   "cell_type": "code",
   "execution_count": null,
   "metadata": {
    "execution": {
     "iopub.execute_input": "2023-02-18T19:00:42.339039Z",
     "iopub.status.busy": "2023-02-18T19:00:42.338623Z",
     "iopub.status.idle": "2023-02-18T19:04:33.816834Z",
     "shell.execute_reply": "2023-02-18T19:04:33.815363Z",
     "shell.execute_reply.started": "2023-02-18T19:00:42.339000Z"
    }
   },
   "outputs": [],
   "source": [
    "# Uninstall new JAX\n",
    "!pip uninstall jax jaxlib -y\n",
    "\n",
    "# GPU frontend\n",
    "!pip install \"jax[cuda11_cudnn805]==0.3.10\" -f https://storage.googleapis.com/jax-releases/jax_cuda_releases.html\n",
    "\n",
    "# Downgrade Pytorch\n",
    "!pip uninstall torch torchvision -y\n",
    "!pip install torch==1.9.0+cu111 torchvision==0.10.0+cu111 -f https://download.pytorch.org/whl/torch_stable.html\n",
    "!pip install timm==0.4.12 ftfy==6.1.1 ninja==1.10.2\n",
    "\n",
    "# Kaggle fix\n",
    "!pip uninstall setuptools -y\n",
    "!pip install setuptools==59.5.0"
   ]
  },
  {
   "cell_type": "markdown",
   "metadata": {
    "id": "nTjVmfSK9CYa"
   },
   "source": [
    "## Repository"
   ]
  },
  {
   "cell_type": "code",
   "execution_count": null,
   "metadata": {
    "colab": {
     "base_uri": "https://localhost:8080/"
    },
    "execution": {
     "iopub.execute_input": "2023-02-18T19:04:33.820050Z",
     "iopub.status.busy": "2023-02-18T19:04:33.819615Z",
     "iopub.status.idle": "2023-02-18T19:04:35.702326Z",
     "shell.execute_reply": "2023-02-18T19:04:35.700885Z",
     "shell.execute_reply.started": "2023-02-18T19:04:33.820005Z"
    },
    "executionInfo": {
     "elapsed": 1163,
     "status": "ok",
     "timestamp": 1670536833251,
     "user": {
      "displayName": "Mominul Islam",
      "userId": "13734864529048252160"
     },
     "user_tz": -360
    },
    "id": "B8ADVNpBh8Ox",
    "outputId": "53c03b84-51f6-41ea-a341-a03f0079d499"
   },
   "outputs": [],
   "source": [
    "import os\n",
    "\n",
    "if os.path.isdir(\"/kaggle/working/stylegan2-ada-pytorch\"):\n",
    "    %cd \"/kaggle/working/stylegan2-ada-pytorch\"\n",
    "else:\n",
    "    %cd \"/kaggle/working\"\n",
    "    !git clone https://github.com/dvschultz/stylegan2-ada-pytorch\n",
    "    %cd \"/kaggle/working/stylegan2-ada-pytorch\""
   ]
  },
  {
   "cell_type": "markdown",
   "metadata": {
    "id": "cZkcJ58P97Ls"
   },
   "source": [
    "## Dataset Preparation"
   ]
  },
  {
   "cell_type": "code",
   "execution_count": null,
   "metadata": {},
   "outputs": [],
   "source": [
    "###############################\n",
    "# no-filtering & post-filtering\n",
    "###############################\n",
    "# source = \"/kaggle/input/ham10000-gan-no-filtering/akiec\"\n",
    "# source = \"/kaggle/input/ham10000-gan-no-filtering/bcc\"\n",
    "# source = \"/kaggle/input/ham10000-gan-no-filtering/bkl\"\n",
    "# source = \"/kaggle/input/ham10000-gan-no-filtering/df\"\n",
    "# source = \"/kaggle/input/ham10000-gan-no-filtering/mel\"\n",
    "# source = \"/kaggle/input/ham10000-gan-no-filtering/vasc\"\n",
    "\n",
    "###############\n",
    "# pre-filtering\n",
    "###############\n",
    "# source = \"/kaggle/input/ham10000-gan-fbgt/alpha_1/akiec\"\n",
    "# source = \"/kaggle/input/ham10000-gan-fbgt/alpha_1/bcc\"\n",
    "# source = \"/kaggle/input/ham10000-gan-fbgt/alpha_1/bkl\"\n",
    "# source = \"/kaggle/input/ham10000-gan-fbgt/alpha_1/df\"\n",
    "# source = \"/kaggle/input/ham10000-gan-fbgt/alpha_1/mel\"\n",
    "# source = \"/kaggle/input/ham10000-gan-fbgt/alpha_1/vasc\"\n",
    "\n",
    "# source = \"/kaggle/input/ham10000-gan-fbgt/alpha_2/akiec\"\n",
    "# source = \"/kaggle/input/ham10000-gan-fbgt/alpha_2/bcc\"\n",
    "# source = \"/kaggle/input/ham10000-gan-fbgt/alpha_2/bkl\"\n",
    "# source = \"/kaggle/input/ham10000-gan-fbgt/alpha_2/df\"\n",
    "# source = \"/kaggle/input/ham10000-gan-fbgt/alpha_2/mel\"\n",
    "# source = \"/kaggle/input/ham10000-gan-fbgt/alpha_2/vasc\"\n",
    "\n",
    "# source = \"/kaggle/input/ham10000-gan-fbgt/alpha_3/akiec\"\n",
    "# source = \"/kaggle/input/ham10000-gan-fbgt/alpha_3/bcc\"\n",
    "# source = \"/kaggle/input/ham10000-gan-fbgt/alpha_3/bkl\"\n",
    "# source = \"/kaggle/input/ham10000-gan-fbgt/alpha_3/df\"\n",
    "# source = \"/kaggle/input/ham10000-gan-fbgt/alpha_3/mel\"\n",
    "source = \"/kaggle/input/ham10000-gan-fbgt/alpha_3/vasc\"\n",
    "\n",
    "destination = \"./datasets/dataset.zip\""
   ]
  },
  {
   "cell_type": "code",
   "execution_count": null,
   "metadata": {
    "execution": {
     "iopub.execute_input": "2023-02-18T19:04:35.704714Z",
     "iopub.status.busy": "2023-02-18T19:04:35.704325Z",
     "iopub.status.idle": "2023-02-18T19:04:45.238676Z",
     "shell.execute_reply": "2023-02-18T19:04:45.237474Z",
     "shell.execute_reply.started": "2023-02-18T19:04:35.704670Z"
    }
   },
   "outputs": [],
   "source": [
    "!python dataset_tool.py --source=$source --dest=$destination"
   ]
  },
  {
   "cell_type": "markdown",
   "metadata": {
    "id": "5B-h6FpB9FaK"
   },
   "source": [
    "## Train model"
   ]
  },
  {
   "cell_type": "code",
   "execution_count": null,
   "metadata": {
    "execution": {
     "iopub.execute_input": "2023-02-18T19:04:45.242116Z",
     "iopub.status.busy": "2023-02-18T19:04:45.241690Z",
     "iopub.status.idle": "2023-02-18T19:04:45.249568Z",
     "shell.execute_reply": "2023-02-18T19:04:45.248524Z",
     "shell.execute_reply.started": "2023-02-18T19:04:45.242077Z"
    },
    "executionInfo": {
     "elapsed": 6,
     "status": "ok",
     "timestamp": 1670537029530,
     "user": {
      "displayName": "Mominul Islam",
      "userId": "13734864529048252160"
     },
     "user_tz": -360
    },
    "id": "JV0W6yxP-UIn"
   },
   "outputs": [],
   "source": [
    "dataset_path = \"./datasets/dataset.zip\"\n",
    "resume_from = \"\"\n",
    "results_path = \"./results\"\n",
    "aug_strength = 0.00    # augment strength (resume from)\n",
    "train_count = 0        # kimg (resume from)\n",
    "kimg = 400             # total number of epoch\n",
    "gamma_value = 50.0\n",
    "augs = 'bg'\n",
    "config = 'auto'\n",
    "snapshot_count = 4\n",
    "mirror = True"
   ]
  },
  {
   "cell_type": "code",
   "execution_count": null,
   "metadata": {
    "execution": {
     "iopub.execute_input": "2023-02-18T19:04:45.251810Z",
     "iopub.status.busy": "2023-02-18T19:04:45.251394Z",
     "iopub.status.idle": "2023-02-19T02:35:00.140018Z",
     "shell.execute_reply": "2023-02-19T02:35:00.138840Z",
     "shell.execute_reply.started": "2023-02-18T19:04:45.251758Z"
    },
    "id": "_xylBluB83Wa"
   },
   "outputs": [],
   "source": [
    "# first run\n",
    "!python train.py --data=$dataset_path --outdir=$results_path --gpus=1 --cfg=$config --metrics none --snap=$snapshot_count --augpipe=$augs --gamma=$gamma_value --mirror=$mirror --kimg=$kimg"
   ]
  },
  {
   "cell_type": "markdown",
   "metadata": {
    "id": "mYdyfH0O8In_"
   },
   "source": [
    "## Save Trained Model"
   ]
  },
  {
   "cell_type": "code",
   "execution_count": null,
   "metadata": {
    "execution": {
     "iopub.execute_input": "2023-02-19T02:35:32.297398Z",
     "iopub.status.busy": "2023-02-19T02:35:32.297021Z",
     "iopub.status.idle": "2023-02-19T02:35:33.250325Z",
     "shell.execute_reply": "2023-02-19T02:35:33.249143Z",
     "shell.execute_reply.started": "2023-02-19T02:35:32.297366Z"
    }
   },
   "outputs": [],
   "source": [
    "%cd /kaggle/working/stylegan2-ada-pytorch/results\n",
    "%ls"
   ]
  },
  {
   "cell_type": "code",
   "execution_count": null,
   "metadata": {
    "execution": {
     "iopub.execute_input": "2023-02-19T02:35:33.493955Z",
     "iopub.status.busy": "2023-02-19T02:35:33.493569Z",
     "iopub.status.idle": "2023-02-19T02:35:34.444269Z",
     "shell.execute_reply": "2023-02-19T02:35:34.443039Z",
     "shell.execute_reply.started": "2023-02-19T02:35:33.493921Z"
    }
   },
   "outputs": [],
   "source": [
    "%cd /kaggle/working/stylegan2-ada-pytorch/results/00000-dataset-mirror-auto1-gamma50-kimg400-bg/\n",
    "%ls"
   ]
  },
  {
   "cell_type": "code",
   "execution_count": null,
   "metadata": {
    "execution": {
     "iopub.execute_input": "2023-02-19T02:35:34.447536Z",
     "iopub.status.busy": "2023-02-19T02:35:34.446833Z",
     "iopub.status.idle": "2023-02-19T02:35:34.457204Z",
     "shell.execute_reply": "2023-02-19T02:35:34.456006Z",
     "shell.execute_reply.started": "2023-02-19T02:35:34.447493Z"
    }
   },
   "outputs": [],
   "source": [
    "output = \"/kaggle/working/stylegan2-ada-pytorch/results/00000-dataset-mirror-auto1-gamma50-kimg400-bg/network-snapshot-000400.pkl\"\n",
    "os.path.exists(output)"
   ]
  },
  {
   "cell_type": "code",
   "execution_count": null,
   "metadata": {
    "execution": {
     "iopub.execute_input": "2023-02-19T02:35:34.459963Z",
     "iopub.status.busy": "2023-02-19T02:35:34.458770Z",
     "iopub.status.idle": "2023-02-19T02:35:34.776240Z",
     "shell.execute_reply": "2023-02-19T02:35:34.775196Z",
     "shell.execute_reply.started": "2023-02-19T02:35:34.459927Z"
    }
   },
   "outputs": [],
   "source": [
    "import os\n",
    "import shutil\n",
    "\n",
    "source = \"/kaggle/working/stylegan2-ada-pytorch/results/00000-dataset-mirror-auto1-gamma50-kimg400-bg/\"\n",
    "source_pkl = os.path.join(source, \"network-snapshot-000400.pkl\")\n",
    "destination = \"/kaggle/working/\"\n",
    "\n",
    "shutil.copy(source_pkl, destination)\n",
    "print(\"copied\", \"network-snapshot-000400.pkl\")"
   ]
  },
  {
   "cell_type": "code",
   "execution_count": null,
   "metadata": {
    "execution": {
     "iopub.execute_input": "2023-02-19T02:35:34.779321Z",
     "iopub.status.busy": "2023-02-19T02:35:34.778412Z",
     "iopub.status.idle": "2023-02-19T02:35:34.784369Z",
     "shell.execute_reply": "2023-02-19T02:35:34.783384Z",
     "shell.execute_reply.started": "2023-02-19T02:35:34.779281Z"
    }
   },
   "outputs": [],
   "source": [
    "os.makedirs(\"/kaggle/working/log\")"
   ]
  },
  {
   "cell_type": "code",
   "execution_count": null,
   "metadata": {
    "execution": {
     "iopub.execute_input": "2023-02-19T02:35:34.786579Z",
     "iopub.status.busy": "2023-02-19T02:35:34.785922Z",
     "iopub.status.idle": "2023-02-19T02:35:35.236468Z",
     "shell.execute_reply": "2023-02-19T02:35:35.235465Z",
     "shell.execute_reply.started": "2023-02-19T02:35:34.786545Z"
    }
   },
   "outputs": [],
   "source": [
    "source = \"/kaggle/working/stylegan2-ada-pytorch/results/00000-dataset-mirror-auto1-gamma50-kimg400-bg/\"\n",
    "destination = \"/kaggle/working/log\"\n",
    "log_files = [\n",
    "    \"fakes000000.jpg\",\n",
    "    \"fakes000016.jpg\",\n",
    "    \"fakes000032.jpg\",\n",
    "    \"fakes000048.jpg\",\n",
    "    \"fakes000064.jpg\",\n",
    "    \"fakes000080.jpg\",\n",
    "    \"fakes000096.jpg\",\n",
    "    \"fakes000112.jpg\",\n",
    "    \"fakes000128.jpg\",\n",
    "    \"fakes000144.jpg\",\n",
    "    \"fakes000160.jpg\",\n",
    "    \"fakes000176.jpg\",\n",
    "    \"fakes000192.jpg\",\n",
    "    \"fakes000208.jpg\",\n",
    "    \"fakes000224.jpg\",\n",
    "    \"fakes000240.jpg\",\n",
    "    \"fakes000256.jpg\",\n",
    "    \"fakes000272.jpg\",\n",
    "    \"fakes000288.jpg\",\n",
    "    \"fakes000304.jpg\",\n",
    "    \"fakes000320.jpg\",\n",
    "    \"fakes000336.jpg\",\n",
    "    \"fakes000352.jpg\",\n",
    "    \"fakes000368.jpg\",\n",
    "    \"fakes000384.jpg\",\n",
    "    \"fakes000400.jpg\",\n",
    "    \"fakes_init.jpg\",\n",
    "    \"reals.jpg\",\n",
    "    \"log.txt\",\n",
    "    \"stats.jsonl\",\n",
    "    \"training_options.json\"         \n",
    "]\n",
    "\n",
    "for i in log_files:\n",
    "    source_img = os.path.join(source, i)\n",
    "    shutil.copy(source_img, destination)\n",
    "    print(\"copied\", i)"
   ]
  },
  {
   "cell_type": "code",
   "execution_count": null,
   "metadata": {
    "execution": {
     "iopub.execute_input": "2023-02-19T02:35:35.239277Z",
     "iopub.status.busy": "2023-02-19T02:35:35.238392Z",
     "iopub.status.idle": "2023-02-19T02:35:36.216377Z",
     "shell.execute_reply": "2023-02-19T02:35:36.215215Z",
     "shell.execute_reply.started": "2023-02-19T02:35:35.239235Z"
    }
   },
   "outputs": [],
   "source": [
    "%cd /kaggle/working/log\n",
    "%ls"
   ]
  },
  {
   "cell_type": "code",
   "execution_count": null,
   "metadata": {
    "execution": {
     "iopub.execute_input": "2023-02-19T02:35:36.219469Z",
     "iopub.status.busy": "2023-02-19T02:35:36.218766Z",
     "iopub.status.idle": "2023-02-19T02:35:39.856303Z",
     "shell.execute_reply": "2023-02-19T02:35:39.855206Z",
     "shell.execute_reply.started": "2023-02-19T02:35:36.219428Z"
    }
   },
   "outputs": [],
   "source": [
    "source = \"/kaggle/working/log\"\n",
    "destination = \"/kaggle/working/log\"\n",
    "\n",
    "shutil.make_archive(destination, 'zip', source)"
   ]
  },
  {
   "cell_type": "code",
   "execution_count": null,
   "metadata": {},
   "outputs": [],
   "source": [
    "##########################################################\n",
    "# Download the model and log named as follows:\n",
    "#  - network-snapshot-000400.pkl\n",
    "#  - log\n",
    "\n",
    "# Rename the model and log with a prefix which represents:\n",
    "#  - the class name\n",
    "#  - the alpha value identifier\n",
    "##########################################################"
   ]
  }
 ],
 "metadata": {
  "accelerator": "GPU",
  "colab": {
   "machine_shape": "hm",
   "provenance": []
  },
  "gpuClass": "premium",
  "kernelspec": {
   "display_name": "Python (csf-ovs)",
   "language": "python",
   "name": "csf-ovs"
  },
  "language_info": {
   "codemirror_mode": {
    "name": "ipython",
    "version": 3
   },
   "file_extension": ".py",
   "mimetype": "text/x-python",
   "name": "python",
   "nbconvert_exporter": "python",
   "pygments_lexer": "ipython3",
   "version": "3.7.16"
  }
 },
 "nbformat": 4,
 "nbformat_minor": 4
}
