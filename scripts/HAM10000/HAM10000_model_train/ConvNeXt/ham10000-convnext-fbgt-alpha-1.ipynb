{
 "cells": [
  {
   "cell_type": "code",
   "execution_count": 1,
   "metadata": {},
   "outputs": [],
   "source": [
    "##############################\n",
    "# train with kaggle P100 GPU #\n",
    "##############################"
   ]
  },
  {
   "cell_type": "markdown",
   "metadata": {},
   "source": [
    "### Import Libraries"
   ]
  },
  {
   "cell_type": "code",
   "execution_count": 2,
   "metadata": {
    "execution": {
     "iopub.execute_input": "2023-03-06T19:42:05.459651Z",
     "iopub.status.busy": "2023-03-06T19:42:05.459023Z",
     "iopub.status.idle": "2023-03-06T19:42:11.089588Z",
     "shell.execute_reply": "2023-03-06T19:42:11.088487Z",
     "shell.execute_reply.started": "2023-03-06T19:42:05.459595Z"
    }
   },
   "outputs": [],
   "source": [
    "# general libraries\n",
    "import os\n",
    "import git\n",
    "import shutil\n",
    "import numpy as np\n",
    "import pandas as pd\n",
    "import seaborn as sns\n",
    "\n",
    "# hugging face libraries\n",
    "from datasets import load_dataset\n",
    "from transformers import (\n",
    "    AutoFeatureExtractor,\n",
    "    AutoModelForImageClassification, \n",
    "    TrainingArguments, \n",
    "    Trainer\n",
    ")\n",
    "\n",
    "# pytorch libraries\n",
    "import torch\n",
    "from torchvision.transforms import (\n",
    "    Compose, \n",
    "    Normalize,\n",
    "    Resize,\n",
    "    ToTensor\n",
    ")\n",
    "\n",
    "# scikit-learn libraries\n",
    "from sklearn.metrics import (\n",
    "    roc_auc_score,\n",
    "    precision_score,\n",
    "    recall_score,\n",
    "    f1_score,\n",
    "    accuracy_score,\n",
    "    classification_report,\n",
    "    confusion_matrix,\n",
    "    RocCurveDisplay\n",
    ")\n",
    "\n",
    "# plotting libraries\n",
    "from  matplotlib import pyplot as plt\n",
    "%matplotlib inline"
   ]
  },
  {
   "cell_type": "markdown",
   "metadata": {},
   "source": [
    "### Load Dataset"
   ]
  },
  {
   "cell_type": "code",
   "execution_count": 3,
   "metadata": {
    "execution": {
     "iopub.execute_input": "2023-03-06T19:42:11.096868Z",
     "iopub.status.busy": "2023-03-06T19:42:11.096100Z",
     "iopub.status.idle": "2023-03-06T19:42:11.103006Z",
     "shell.execute_reply": "2023-03-06T19:42:11.101931Z",
     "shell.execute_reply.started": "2023-03-06T19:42:11.096826Z"
    }
   },
   "outputs": [],
   "source": [
    "# dataset directory\n",
    "######## kaggle ########\n",
    "# train_dir = '/kaggle/input/ham10000-model-train-fbgt-alpha-1'\n",
    "# test_dir = '/kaggle/input/ham10000-model-test'\n",
    "\n",
    "######## desktop ########\n",
    "dataset_dir = os.path.abspath('../../../../datasets/HAM10000')\n",
    "train_dir = os.path.join(dataset_dir, 'dataset-processed/dataset-models/ham10000-model-train-fbgt-alpha-1')\n",
    "test_dir = os.path.join(dataset_dir, 'split/test')"
   ]
  },
  {
   "cell_type": "code",
   "execution_count": 4,
   "metadata": {
    "execution": {
     "iopub.execute_input": "2023-03-06T19:42:11.104829Z",
     "iopub.status.busy": "2023-03-06T19:42:11.104303Z",
     "iopub.status.idle": "2023-03-06T19:42:41.372717Z",
     "shell.execute_reply": "2023-03-06T19:42:41.370604Z",
     "shell.execute_reply.started": "2023-03-06T19:42:11.104785Z"
    }
   },
   "outputs": [
    {
     "data": {
      "application/vnd.jupyter.widget-view+json": {
       "model_id": "e6cf2fc4a3de4265b7e92a303dbe06f0",
       "version_major": 2,
       "version_minor": 0
      },
      "text/plain": [
       "Resolving data files:   0%|          | 0/42294 [00:00<?, ?it/s]"
      ]
     },
     "metadata": {},
     "output_type": "display_data"
    },
    {
     "name": "stderr",
     "output_type": "stream",
     "text": [
      "Found cached dataset imagefolder (C:/Users/Mominul Islam/.cache/huggingface/datasets/imagefolder/ham10000-model-train-fbgt-alpha-1-829f8e7de911298b/0.0.0/37fbb85cc714a338bea574ac6c7d0b5be5aff46c1862c1989b20e0771199e93f)\n"
     ]
    },
    {
     "data": {
      "application/vnd.jupyter.widget-view+json": {
       "model_id": "8070bc059c9f47e1b36c9c2610318bf8",
       "version_major": 2,
       "version_minor": 0
      },
      "text/plain": [
       "  0%|          | 0/1 [00:00<?, ?it/s]"
      ]
     },
     "metadata": {},
     "output_type": "display_data"
    },
    {
     "data": {
      "application/vnd.jupyter.widget-view+json": {
       "model_id": "7f146a02dcbf4bf4ab82cd8e1a496fef",
       "version_major": 2,
       "version_minor": 0
      },
      "text/plain": [
       "Resolving data files:   0%|          | 0/828 [00:00<?, ?it/s]"
      ]
     },
     "metadata": {},
     "output_type": "display_data"
    },
    {
     "name": "stderr",
     "output_type": "stream",
     "text": [
      "Found cached dataset imagefolder (C:/Users/Mominul Islam/.cache/huggingface/datasets/imagefolder/test-3bd1957c35eba2af/0.0.0/37fbb85cc714a338bea574ac6c7d0b5be5aff46c1862c1989b20e0771199e93f)\n"
     ]
    },
    {
     "data": {
      "application/vnd.jupyter.widget-view+json": {
       "model_id": "e228a5a743744338ba674ee83b54444c",
       "version_major": 2,
       "version_minor": 0
      },
      "text/plain": [
       "  0%|          | 0/1 [00:00<?, ?it/s]"
      ]
     },
     "metadata": {},
     "output_type": "display_data"
    }
   ],
   "source": [
    "# load dataset\n",
    "train_ds = load_dataset(train_dir)\n",
    "val_ds = load_dataset(test_dir)"
   ]
  },
  {
   "cell_type": "code",
   "execution_count": 5,
   "metadata": {
    "execution": {
     "iopub.execute_input": "2023-03-06T19:42:41.376988Z",
     "iopub.status.busy": "2023-03-06T19:42:41.376161Z",
     "iopub.status.idle": "2023-03-06T19:42:41.383759Z",
     "shell.execute_reply": "2023-03-06T19:42:41.382700Z",
     "shell.execute_reply.started": "2023-03-06T19:42:41.376946Z"
    }
   },
   "outputs": [
    {
     "name": "stdout",
     "output_type": "stream",
     "text": [
      "train_ds:  DatasetDict({\n",
      "    train: Dataset({\n",
      "        features: ['image', 'label'],\n",
      "        num_rows: 42294\n",
      "    })\n",
      "})\n",
      "val_ds:  DatasetDict({\n",
      "    train: Dataset({\n",
      "        features: ['image', 'label'],\n",
      "        num_rows: 828\n",
      "    })\n",
      "})\n"
     ]
    }
   ],
   "source": [
    "# loaded dataset structure\n",
    "print('train_ds: ', train_ds)\n",
    "print('val_ds: ', val_ds)"
   ]
  },
  {
   "cell_type": "code",
   "execution_count": 6,
   "metadata": {
    "execution": {
     "iopub.execute_input": "2023-03-06T19:42:41.387133Z",
     "iopub.status.busy": "2023-03-06T19:42:41.385312Z",
     "iopub.status.idle": "2023-03-06T19:42:41.397758Z",
     "shell.execute_reply": "2023-03-06T19:42:41.396553Z",
     "shell.execute_reply.started": "2023-03-06T19:42:41.387092Z"
    }
   },
   "outputs": [
    {
     "name": "stdout",
     "output_type": "stream",
     "text": [
      "Training Samples:  42294\n",
      "Validation Samples:  828\n"
     ]
    }
   ],
   "source": [
    "# num of training and validation samples\n",
    "print('Training Samples: ', train_ds['train'].num_rows)\n",
    "print('Validation Samples: ', val_ds['train'].num_rows)"
   ]
  },
  {
   "cell_type": "code",
   "execution_count": 7,
   "metadata": {
    "execution": {
     "iopub.execute_input": "2023-03-06T19:42:41.400926Z",
     "iopub.status.busy": "2023-03-06T19:42:41.399747Z",
     "iopub.status.idle": "2023-03-06T19:42:41.411041Z",
     "shell.execute_reply": "2023-03-06T19:42:41.409460Z",
     "shell.execute_reply.started": "2023-03-06T19:42:41.400882Z"
    }
   },
   "outputs": [
    {
     "data": {
      "text/plain": [
       "ClassLabel(names=['akiec', 'bcc', 'bkl', 'df', 'mel', 'nv', 'vasc'], id=None)"
      ]
     },
     "execution_count": 7,
     "metadata": {},
     "output_type": "execute_result"
    }
   ],
   "source": [
    "# num of features\n",
    "train_ds['train'].features['label']"
   ]
  },
  {
   "cell_type": "code",
   "execution_count": 8,
   "metadata": {
    "execution": {
     "iopub.execute_input": "2023-03-06T19:42:41.413647Z",
     "iopub.status.busy": "2023-03-06T19:42:41.412819Z",
     "iopub.status.idle": "2023-03-06T19:42:41.459280Z",
     "shell.execute_reply": "2023-03-06T19:42:41.458199Z",
     "shell.execute_reply.started": "2023-03-06T19:42:41.413576Z"
    }
   },
   "outputs": [
    {
     "data": {
      "image/png": "[encoded data removed]",
      "text/plain": [
       "<PIL.JpegImagePlugin.JpegImageFile image mode=RGB size=256x256>"
      ]
     },
     "execution_count": 8,
     "metadata": {},
     "output_type": "execute_result"
    }
   ],
   "source": [
    "# show image\n",
    "train_ds['train'][42]['image']"
   ]
  },
  {
   "cell_type": "code",
   "execution_count": 9,
   "metadata": {
    "execution": {
     "iopub.execute_input": "2023-03-06T19:42:41.460785Z",
     "iopub.status.busy": "2023-03-06T19:42:41.460396Z",
     "iopub.status.idle": "2023-03-06T19:42:41.472502Z",
     "shell.execute_reply": "2023-03-06T19:42:41.471210Z",
     "shell.execute_reply.started": "2023-03-06T19:42:41.460751Z"
    }
   },
   "outputs": [
    {
     "data": {
      "text/plain": [
       "0"
      ]
     },
     "execution_count": 9,
     "metadata": {},
     "output_type": "execute_result"
    }
   ],
   "source": [
    "# show label\n",
    "train_ds['train'][42]['label']"
   ]
  },
  {
   "cell_type": "code",
   "execution_count": 10,
   "metadata": {
    "execution": {
     "iopub.execute_input": "2023-03-06T19:42:41.475114Z",
     "iopub.status.busy": "2023-03-06T19:42:41.474744Z",
     "iopub.status.idle": "2023-03-06T19:42:41.480740Z",
     "shell.execute_reply": "2023-03-06T19:42:41.479343Z",
     "shell.execute_reply.started": "2023-03-06T19:42:41.475078Z"
    }
   },
   "outputs": [],
   "source": [
    "# convert labels\n",
    "labels = train_ds['train'].features['label'].names\n",
    "label2id, id2label = dict(), dict()\n",
    "\n",
    "for i, label in enumerate(labels):\n",
    "    label2id[label] = i\n",
    "    id2label[i] = label"
   ]
  },
  {
   "cell_type": "code",
   "execution_count": 11,
   "metadata": {
    "execution": {
     "iopub.execute_input": "2023-03-06T19:42:41.483455Z",
     "iopub.status.busy": "2023-03-06T19:42:41.482239Z",
     "iopub.status.idle": "2023-03-06T19:42:41.491744Z",
     "shell.execute_reply": "2023-03-06T19:42:41.490535Z",
     "shell.execute_reply.started": "2023-03-06T19:42:41.483417Z"
    }
   },
   "outputs": [
    {
     "data": {
      "text/plain": [
       "{'akiec': 0, 'bcc': 1, 'bkl': 2, 'df': 3, 'mel': 4, 'nv': 5, 'vasc': 6}"
      ]
     },
     "execution_count": 11,
     "metadata": {},
     "output_type": "execute_result"
    }
   ],
   "source": [
    "label2id"
   ]
  },
  {
   "cell_type": "code",
   "execution_count": 12,
   "metadata": {
    "execution": {
     "iopub.execute_input": "2023-03-06T19:42:41.494173Z",
     "iopub.status.busy": "2023-03-06T19:42:41.493319Z",
     "iopub.status.idle": "2023-03-06T19:42:41.502466Z",
     "shell.execute_reply": "2023-03-06T19:42:41.501392Z",
     "shell.execute_reply.started": "2023-03-06T19:42:41.494132Z"
    }
   },
   "outputs": [
    {
     "data": {
      "text/plain": [
       "{0: 'akiec', 1: 'bcc', 2: 'bkl', 3: 'df', 4: 'mel', 5: 'nv', 6: 'vasc'}"
      ]
     },
     "execution_count": 12,
     "metadata": {},
     "output_type": "execute_result"
    }
   ],
   "source": [
    "id2label"
   ]
  },
  {
   "cell_type": "markdown",
   "metadata": {},
   "source": [
    "### ConvNeXt"
   ]
  },
  {
   "cell_type": "code",
   "execution_count": 13,
   "metadata": {
    "execution": {
     "iopub.execute_input": "2023-03-06T19:42:41.504856Z",
     "iopub.status.busy": "2023-03-06T19:42:41.503980Z",
     "iopub.status.idle": "2023-03-06T19:42:41.513664Z",
     "shell.execute_reply": "2023-03-06T19:42:41.512544Z",
     "shell.execute_reply.started": "2023-03-06T19:42:41.504819Z"
    }
   },
   "outputs": [
    {
     "name": "stdout",
     "output_type": "stream",
     "text": [
      "Folder already exist!\n"
     ]
    }
   ],
   "source": [
    "# download pre-trained model for fine-tuning\n",
    "\n",
    "######## kaggle ########\n",
    "# path = '/kaggle/working/ConvNeXt'\n",
    "\n",
    "######## desktop ########\n",
    "path = os.path.abspath('../../../../repository/ConvNeXt')\n",
    "\n",
    "if os.path.exists(path):\n",
    "    print(\"Folder already exist!\")\n",
    "else:\n",
    "    os.makedirs(path)\n",
    "    print(\"Folder successfully created!\")\n",
    "    !git lfs install\n",
    "    git.Git(path).clone('https://huggingface.co/facebook/convnext-tiny-224')\n",
    "    print(\"Repository successfully cloned!\")"
   ]
  },
  {
   "cell_type": "code",
   "execution_count": 14,
   "metadata": {
    "execution": {
     "iopub.execute_input": "2023-03-06T19:42:41.520787Z",
     "iopub.status.busy": "2023-03-06T19:42:41.520447Z",
     "iopub.status.idle": "2023-03-06T19:42:41.933133Z",
     "shell.execute_reply": "2023-03-06T19:42:41.932109Z",
     "shell.execute_reply.started": "2023-03-06T19:42:41.520751Z"
    }
   },
   "outputs": [
    {
     "name": "stderr",
     "output_type": "stream",
     "text": [
      "C:\\Anaconda\\anaconda3\\envs\\csf-model\\lib\\site-packages\\transformers\\models\\convnext\\feature_extraction_convnext.py:28: FutureWarning: The class ConvNextFeatureExtractor is deprecated and will be removed in version 5 of Transformers. Please use ConvNextImageProcessor instead.\n",
      "  warnings.warn(\n",
      "Some weights of ConvNextForImageClassification were not initialized from the model checkpoint at D:\\Research\\Archive\\cossif\\repository\\ConvNeXt\\convnext-tiny-224 and are newly initialized because the shapes did not match:\n",
      "- classifier.weight: found shape torch.Size([1000, 768]) in the checkpoint and torch.Size([7, 768]) in the model instantiated\n",
      "- classifier.bias: found shape torch.Size([1000]) in the checkpoint and torch.Size([7]) in the model instantiated\n",
      "You should probably TRAIN this model on a down-stream task to be able to use it for predictions and inference.\n"
     ]
    }
   ],
   "source": [
    "# load pre-trained model for fine-tuning\n",
    "\n",
    "######## kaggle ########\n",
    "# model_checkpoint = '/kaggle/working/ConvNeXt/convnext-tiny-224'\n",
    "\n",
    "######## desktop ########\n",
    "model_checkpoint = os.path.abspath('../../../../repository/ConvNeXt/convnext-tiny-224')\n",
    "\n",
    "# feature extractor\n",
    "feature_extractor = AutoFeatureExtractor.from_pretrained(model_checkpoint)\n",
    "\n",
    "# ConvNeXt model\n",
    "model = AutoModelForImageClassification.from_pretrained(\n",
    "    model_checkpoint, \n",
    "    label2id=label2id,\n",
    "    id2label=id2label,\n",
    "    ignore_mismatched_sizes=True, \n",
    ")"
   ]
  },
  {
   "cell_type": "code",
   "execution_count": 15,
   "metadata": {
    "execution": {
     "iopub.execute_input": "2023-03-06T19:42:41.935195Z",
     "iopub.status.busy": "2023-03-06T19:42:41.934834Z",
     "iopub.status.idle": "2023-03-06T19:42:41.942343Z",
     "shell.execute_reply": "2023-03-06T19:42:41.941149Z",
     "shell.execute_reply.started": "2023-03-06T19:42:41.935156Z"
    }
   },
   "outputs": [
    {
     "name": "stdout",
     "output_type": "stream",
     "text": [
      "Number of trainable parameters for ConvNeXt model:  27.825511 million\n"
     ]
    }
   ],
   "source": [
    "# number of trainable parameters\n",
    "trainable_parameters = sum(p.numel() for p in model.parameters() if p.requires_grad)\n",
    "print('Number of trainable parameters for ConvNeXt model: ', '{0:.6f}'.format(trainable_parameters/1000000), 'million')"
   ]
  },
  {
   "cell_type": "code",
   "execution_count": 16,
   "metadata": {
    "execution": {
     "iopub.execute_input": "2023-03-06T19:42:41.944803Z",
     "iopub.status.busy": "2023-03-06T19:42:41.944289Z",
     "iopub.status.idle": "2023-03-06T19:42:41.958137Z",
     "shell.execute_reply": "2023-03-06T19:42:41.956864Z",
     "shell.execute_reply.started": "2023-03-06T19:42:41.944761Z"
    }
   },
   "outputs": [
    {
     "data": {
      "text/plain": [
       "ConvNextForImageClassification(\n",
       "  (convnext): ConvNextModel(\n",
       "    (embeddings): ConvNextEmbeddings(\n",
       "      (patch_embeddings): Conv2d(3, 96, kernel_size=(4, 4), stride=(4, 4))\n",
       "      (layernorm): ConvNextLayerNorm()\n",
       "    )\n",
       "    (encoder): ConvNextEncoder(\n",
       "      (stages): ModuleList(\n",
       "        (0): ConvNextStage(\n",
       "          (downsampling_layer): Identity()\n",
       "          (layers): Sequential(\n",
       "            (0): ConvNextLayer(\n",
       "              (dwconv): Conv2d(96, 96, kernel_size=(7, 7), stride=(1, 1), padding=(3, 3), groups=96)\n",
       "              (layernorm): ConvNextLayerNorm()\n",
       "              (pwconv1): Linear(in_features=96, out_features=384, bias=True)\n",
       "              (act): GELUActivation()\n",
       "              (pwconv2): Linear(in_features=384, out_features=96, bias=True)\n",
       "              (drop_path): Identity()\n",
       "            )\n",
       "            (1): ConvNextLayer(\n",
       "              (dwconv): Conv2d(96, 96, kernel_size=(7, 7), stride=(1, 1), padding=(3, 3), groups=96)\n",
       "              (layernorm): ConvNextLayerNorm()\n",
       "              (pwconv1): Linear(in_features=96, out_features=384, bias=True)\n",
       "              (act): GELUActivation()\n",
       "              (pwconv2): Linear(in_features=384, out_features=96, bias=True)\n",
       "              (drop_path): Identity()\n",
       "            )\n",
       "            (2): ConvNextLayer(\n",
       "              (dwconv): Conv2d(96, 96, kernel_size=(7, 7), stride=(1, 1), padding=(3, 3), groups=96)\n",
       "              (layernorm): ConvNextLayerNorm()\n",
       "              (pwconv1): Linear(in_features=96, out_features=384, bias=True)\n",
       "              (act): GELUActivation()\n",
       "              (pwconv2): Linear(in_features=384, out_features=96, bias=True)\n",
       "              (drop_path): Identity()\n",
       "            )\n",
       "          )\n",
       "        )\n",
       "        (1): ConvNextStage(\n",
       "          (downsampling_layer): Sequential(\n",
       "            (0): ConvNextLayerNorm()\n",
       "            (1): Conv2d(96, 192, kernel_size=(2, 2), stride=(2, 2))\n",
       "          )\n",
       "          (layers): Sequential(\n",
       "            (0): ConvNextLayer(\n",
       "              (dwconv): Conv2d(192, 192, kernel_size=(7, 7), stride=(1, 1), padding=(3, 3), groups=192)\n",
       "              (layernorm): ConvNextLayerNorm()\n",
       "              (pwconv1): Linear(in_features=192, out_features=768, bias=True)\n",
       "              (act): GELUActivation()\n",
       "              (pwconv2): Linear(in_features=768, out_features=192, bias=True)\n",
       "              (drop_path): Identity()\n",
       "            )\n",
       "            (1): ConvNextLayer(\n",
       "              (dwconv): Conv2d(192, 192, kernel_size=(7, 7), stride=(1, 1), padding=(3, 3), groups=192)\n",
       "              (layernorm): ConvNextLayerNorm()\n",
       "              (pwconv1): Linear(in_features=192, out_features=768, bias=True)\n",
       "              (act): GELUActivation()\n",
       "              (pwconv2): Linear(in_features=768, out_features=192, bias=True)\n",
       "              (drop_path): Identity()\n",
       "            )\n",
       "            (2): ConvNextLayer(\n",
       "              (dwconv): Conv2d(192, 192, kernel_size=(7, 7), stride=(1, 1), padding=(3, 3), groups=192)\n",
       "              (layernorm): ConvNextLayerNorm()\n",
       "              (pwconv1): Linear(in_features=192, out_features=768, bias=True)\n",
       "              (act): GELUActivation()\n",
       "              (pwconv2): Linear(in_features=768, out_features=192, bias=True)\n",
       "              (drop_path): Identity()\n",
       "            )\n",
       "          )\n",
       "        )\n",
       "        (2): ConvNextStage(\n",
       "          (downsampling_layer): Sequential(\n",
       "            (0): ConvNextLayerNorm()\n",
       "            (1): Conv2d(192, 384, kernel_size=(2, 2), stride=(2, 2))\n",
       "          )\n",
       "          (layers): Sequential(\n",
       "            (0): ConvNextLayer(\n",
       "              (dwconv): Conv2d(384, 384, kernel_size=(7, 7), stride=(1, 1), padding=(3, 3), groups=384)\n",
       "              (layernorm): ConvNextLayerNorm()\n",
       "              (pwconv1): Linear(in_features=384, out_features=1536, bias=True)\n",
       "              (act): GELUActivation()\n",
       "              (pwconv2): Linear(in_features=1536, out_features=384, bias=True)\n",
       "              (drop_path): Identity()\n",
       "            )\n",
       "            (1): ConvNextLayer(\n",
       "              (dwconv): Conv2d(384, 384, kernel_size=(7, 7), stride=(1, 1), padding=(3, 3), groups=384)\n",
       "              (layernorm): ConvNextLayerNorm()\n",
       "              (pwconv1): Linear(in_features=384, out_features=1536, bias=True)\n",
       "              (act): GELUActivation()\n",
       "              (pwconv2): Linear(in_features=1536, out_features=384, bias=True)\n",
       "              (drop_path): Identity()\n",
       "            )\n",
       "            (2): ConvNextLayer(\n",
       "              (dwconv): Conv2d(384, 384, kernel_size=(7, 7), stride=(1, 1), padding=(3, 3), groups=384)\n",
       "              (layernorm): ConvNextLayerNorm()\n",
       "              (pwconv1): Linear(in_features=384, out_features=1536, bias=True)\n",
       "              (act): GELUActivation()\n",
       "              (pwconv2): Linear(in_features=1536, out_features=384, bias=True)\n",
       "              (drop_path): Identity()\n",
       "            )\n",
       "            (3): ConvNextLayer(\n",
       "              (dwconv): Conv2d(384, 384, kernel_size=(7, 7), stride=(1, 1), padding=(3, 3), groups=384)\n",
       "              (layernorm): ConvNextLayerNorm()\n",
       "              (pwconv1): Linear(in_features=384, out_features=1536, bias=True)\n",
       "              (act): GELUActivation()\n",
       "              (pwconv2): Linear(in_features=1536, out_features=384, bias=True)\n",
       "              (drop_path): Identity()\n",
       "            )\n",
       "            (4): ConvNextLayer(\n",
       "              (dwconv): Conv2d(384, 384, kernel_size=(7, 7), stride=(1, 1), padding=(3, 3), groups=384)\n",
       "              (layernorm): ConvNextLayerNorm()\n",
       "              (pwconv1): Linear(in_features=384, out_features=1536, bias=True)\n",
       "              (act): GELUActivation()\n",
       "              (pwconv2): Linear(in_features=1536, out_features=384, bias=True)\n",
       "              (drop_path): Identity()\n",
       "            )\n",
       "            (5): ConvNextLayer(\n",
       "              (dwconv): Conv2d(384, 384, kernel_size=(7, 7), stride=(1, 1), padding=(3, 3), groups=384)\n",
       "              (layernorm): ConvNextLayerNorm()\n",
       "              (pwconv1): Linear(in_features=384, out_features=1536, bias=True)\n",
       "              (act): GELUActivation()\n",
       "              (pwconv2): Linear(in_features=1536, out_features=384, bias=True)\n",
       "              (drop_path): Identity()\n",
       "            )\n",
       "            (6): ConvNextLayer(\n",
       "              (dwconv): Conv2d(384, 384, kernel_size=(7, 7), stride=(1, 1), padding=(3, 3), groups=384)\n",
       "              (layernorm): ConvNextLayerNorm()\n",
       "              (pwconv1): Linear(in_features=384, out_features=1536, bias=True)\n",
       "              (act): GELUActivation()\n",
       "              (pwconv2): Linear(in_features=1536, out_features=384, bias=True)\n",
       "              (drop_path): Identity()\n",
       "            )\n",
       "            (7): ConvNextLayer(\n",
       "              (dwconv): Conv2d(384, 384, kernel_size=(7, 7), stride=(1, 1), padding=(3, 3), groups=384)\n",
       "              (layernorm): ConvNextLayerNorm()\n",
       "              (pwconv1): Linear(in_features=384, out_features=1536, bias=True)\n",
       "              (act): GELUActivation()\n",
       "              (pwconv2): Linear(in_features=1536, out_features=384, bias=True)\n",
       "              (drop_path): Identity()\n",
       "            )\n",
       "            (8): ConvNextLayer(\n",
       "              (dwconv): Conv2d(384, 384, kernel_size=(7, 7), stride=(1, 1), padding=(3, 3), groups=384)\n",
       "              (layernorm): ConvNextLayerNorm()\n",
       "              (pwconv1): Linear(in_features=384, out_features=1536, bias=True)\n",
       "              (act): GELUActivation()\n",
       "              (pwconv2): Linear(in_features=1536, out_features=384, bias=True)\n",
       "              (drop_path): Identity()\n",
       "            )\n",
       "          )\n",
       "        )\n",
       "        (3): ConvNextStage(\n",
       "          (downsampling_layer): Sequential(\n",
       "            (0): ConvNextLayerNorm()\n",
       "            (1): Conv2d(384, 768, kernel_size=(2, 2), stride=(2, 2))\n",
       "          )\n",
       "          (layers): Sequential(\n",
       "            (0): ConvNextLayer(\n",
       "              (dwconv): Conv2d(768, 768, kernel_size=(7, 7), stride=(1, 1), padding=(3, 3), groups=768)\n",
       "              (layernorm): ConvNextLayerNorm()\n",
       "              (pwconv1): Linear(in_features=768, out_features=3072, bias=True)\n",
       "              (act): GELUActivation()\n",
       "              (pwconv2): Linear(in_features=3072, out_features=768, bias=True)\n",
       "              (drop_path): Identity()\n",
       "            )\n",
       "            (1): ConvNextLayer(\n",
       "              (dwconv): Conv2d(768, 768, kernel_size=(7, 7), stride=(1, 1), padding=(3, 3), groups=768)\n",
       "              (layernorm): ConvNextLayerNorm()\n",
       "              (pwconv1): Linear(in_features=768, out_features=3072, bias=True)\n",
       "              (act): GELUActivation()\n",
       "              (pwconv2): Linear(in_features=3072, out_features=768, bias=True)\n",
       "              (drop_path): Identity()\n",
       "            )\n",
       "            (2): ConvNextLayer(\n",
       "              (dwconv): Conv2d(768, 768, kernel_size=(7, 7), stride=(1, 1), padding=(3, 3), groups=768)\n",
       "              (layernorm): ConvNextLayerNorm()\n",
       "              (pwconv1): Linear(in_features=768, out_features=3072, bias=True)\n",
       "              (act): GELUActivation()\n",
       "              (pwconv2): Linear(in_features=3072, out_features=768, bias=True)\n",
       "              (drop_path): Identity()\n",
       "            )\n",
       "          )\n",
       "        )\n",
       "      )\n",
       "    )\n",
       "    (layernorm): LayerNorm((768,), eps=1e-12, elementwise_affine=True)\n",
       "  )\n",
       "  (classifier): Linear(in_features=768, out_features=7, bias=True)\n",
       ")"
      ]
     },
     "execution_count": 16,
     "metadata": {},
     "output_type": "execute_result"
    }
   ],
   "source": [
    "# summary of the model\n",
    "model"
   ]
  },
  {
   "cell_type": "code",
   "execution_count": 17,
   "metadata": {
    "execution": {
     "iopub.execute_input": "2023-03-06T19:42:41.960437Z",
     "iopub.status.busy": "2023-03-06T19:42:41.959732Z",
     "iopub.status.idle": "2023-03-06T19:42:41.970866Z",
     "shell.execute_reply": "2023-03-06T19:42:41.969691Z",
     "shell.execute_reply.started": "2023-03-06T19:42:41.960386Z"
    }
   },
   "outputs": [],
   "source": [
    "normalize = Normalize(\n",
    "    mean=feature_extractor.image_mean, \n",
    "    std=feature_extractor.image_std\n",
    ")\n",
    "\n",
    "######## kaggle ########\n",
    "# size = feature_extractor.size\n",
    "\n",
    "######## desktop ########\n",
    "size = feature_extractor.size['shortest_edge']\n",
    "\n",
    "train_transform = Compose([\n",
    "    Resize(size),\n",
    "    ToTensor(),\n",
    "    normalize,\n",
    "])\n",
    "\n",
    "val_transform = Compose([\n",
    "    Resize(size),\n",
    "    ToTensor(),\n",
    "    normalize,\n",
    "])\n",
    "\n",
    "def preprocess_train(example_batch):\n",
    "    example_batch[\"pixel_values\"] = [train_transform(image.convert(\"RGB\")) for image in example_batch[\"image\"]]\n",
    "    return example_batch\n",
    "\n",
    "def preprocess_val(example_batch):\n",
    "    example_batch[\"pixel_values\"] = [val_transform(image.convert(\"RGB\")) for image in example_batch[\"image\"]]\n",
    "    return example_batch"
   ]
  },
  {
   "cell_type": "code",
   "execution_count": 18,
   "metadata": {
    "execution": {
     "iopub.execute_input": "2023-03-06T19:42:41.972844Z",
     "iopub.status.busy": "2023-03-06T19:42:41.972386Z",
     "iopub.status.idle": "2023-03-06T19:42:41.980940Z",
     "shell.execute_reply": "2023-03-06T19:42:41.979752Z",
     "shell.execute_reply.started": "2023-03-06T19:42:41.972806Z"
    }
   },
   "outputs": [],
   "source": [
    "train_set = train_ds['train']\n",
    "val_set = val_ds['train']\n",
    "\n",
    "train_set.set_transform(preprocess_train)\n",
    "val_set.set_transform(preprocess_val)"
   ]
  },
  {
   "cell_type": "code",
   "execution_count": 19,
   "metadata": {},
   "outputs": [],
   "source": [
    "######## desktop ########\n",
    "model_dir = os.path.abspath('../../../../models/HAM10000/ConvNeXt/ham10000-convnext-fbgt-alpha-1')"
   ]
  },
  {
   "cell_type": "code",
   "execution_count": 20,
   "metadata": {
    "execution": {
     "iopub.execute_input": "2023-03-06T19:42:41.982968Z",
     "iopub.status.busy": "2023-03-06T19:42:41.982545Z",
     "iopub.status.idle": "2023-03-06T19:42:42.027457Z",
     "shell.execute_reply": "2023-03-06T19:42:42.026342Z",
     "shell.execute_reply.started": "2023-03-06T19:42:41.982907Z"
    }
   },
   "outputs": [],
   "source": [
    "batch_size=32\n",
    "lr=5e-5\n",
    "epochs=10\n",
    "\n",
    "######## kaggle ########\n",
    "# output_dir = '/kaggle/working/saved_model'\n",
    "\n",
    "######## desktop ########\n",
    "output_dir = os.path.join(model_dir, 'saved_model')\n",
    "\n",
    "args = TrainingArguments(\n",
    "    output_dir=output_dir,\n",
    "    remove_unused_columns=False,\n",
    "    evaluation_strategy = 'steps',\n",
    "    eval_steps=10,\n",
    "    save_strategy = 'steps',\n",
    "    save_steps=10,\n",
    "    learning_rate=lr,\n",
    "    per_device_train_batch_size=batch_size,\n",
    "    per_device_eval_batch_size=batch_size,\n",
    "    gradient_accumulation_steps=4,\n",
    "    num_train_epochs=epochs,\n",
    "    optim='adamw_torch',\n",
    "    warmup_ratio=0.1,\n",
    "    logging_steps=10,\n",
    "    load_best_model_at_end=True,\n",
    "    metric_for_best_model='f1',\n",
    "    save_total_limit=1,\n",
    "    push_to_hub=False,\n",
    "    report_to='none'\n",
    ")"
   ]
  },
  {
   "cell_type": "code",
   "execution_count": 21,
   "metadata": {
    "execution": {
     "iopub.execute_input": "2023-03-06T19:42:42.030349Z",
     "iopub.status.busy": "2023-03-06T19:42:42.029604Z",
     "iopub.status.idle": "2023-03-06T19:42:42.038934Z",
     "shell.execute_reply": "2023-03-06T19:42:42.038137Z",
     "shell.execute_reply.started": "2023-03-06T19:42:42.030300Z"
    }
   },
   "outputs": [],
   "source": [
    "def compute_sensitivity(y_true_flat, y_pred_flat):\n",
    "    cm=confusion_matrix(y_true_flat, y_pred_flat)\n",
    "    FP = cm.sum(axis=0) - np.diag(cm)  \n",
    "    FN = cm.sum(axis=1) - np.diag(cm)\n",
    "    TP = np.diag(cm)\n",
    "    TN = cm.sum() - (FP + FN + TP)\n",
    "    Sensitivity = TP/(TP+FN)    \n",
    "    return np.mean(Sensitivity)\n",
    "\n",
    "def compute_specificity(y_true_flat, y_pred_flat):\n",
    "    cm=confusion_matrix(y_true_flat, y_pred_flat)\n",
    "    FP = cm.sum(axis=0) - np.diag(cm)  \n",
    "    FN = cm.sum(axis=1) - np.diag(cm)\n",
    "    TP = np.diag(cm)\n",
    "    TN = cm.sum() - (FP + FN + TP)\n",
    "    Specificity = TN/(TN+FP)    \n",
    "    return np.mean(Specificity)"
   ]
  },
  {
   "cell_type": "code",
   "execution_count": 22,
   "metadata": {
    "execution": {
     "iopub.execute_input": "2023-03-06T19:42:42.041612Z",
     "iopub.status.busy": "2023-03-06T19:42:42.040473Z",
     "iopub.status.idle": "2023-03-06T19:42:42.051259Z",
     "shell.execute_reply": "2023-03-06T19:42:42.050450Z",
     "shell.execute_reply.started": "2023-03-06T19:42:42.041574Z"
    }
   },
   "outputs": [],
   "source": [
    "def compute_metrics(eval_pred):\n",
    "    logits, y_true_flat = eval_pred\n",
    "    y_pred_flat = np.argmax(logits, axis=1)\n",
    "    \n",
    "    sensitivity = compute_sensitivity(y_true_flat, y_pred_flat)\n",
    "    specificity = compute_specificity(y_true_flat, y_pred_flat)\n",
    "    \n",
    "    precision = float('{0:.6f}'.format(precision_score(y_true_flat, y_pred_flat, average='macro')))\n",
    "    recall = float('{0:.6f}'.format(recall_score(y_true_flat, y_pred_flat, average='macro')))\n",
    "    f1 = float('{0:.6f}'.format(f1_score(y_true_flat, y_pred_flat, average='macro')))\n",
    "    accuracy = float('{0:.6f}'.format(accuracy_score(y_true_flat, y_pred_flat)))\n",
    "\n",
    "    return {'precision': precision, \n",
    "            'recall': recall, \n",
    "            'f1': f1, \n",
    "            'sensitivity': sensitivity, \n",
    "            'specificity': specificity,\n",
    "            'accuracy': accuracy\n",
    "           }\n",
    "\n",
    "def collate_fn(examples):\n",
    "    pixel_values = torch.stack([example[\"pixel_values\"] for example in examples])\n",
    "    labels = torch.tensor([example[\"label\"] for example in examples])\n",
    "    return {\"pixel_values\": pixel_values, \"labels\": labels}"
   ]
  },
  {
   "cell_type": "markdown",
   "metadata": {},
   "source": [
    "## Train"
   ]
  },
  {
   "cell_type": "code",
   "execution_count": 23,
   "metadata": {
    "execution": {
     "iopub.execute_input": "2023-03-06T19:42:42.053851Z",
     "iopub.status.busy": "2023-03-06T19:42:42.053549Z",
     "iopub.status.idle": "2023-03-06T19:42:44.187767Z",
     "shell.execute_reply": "2023-03-06T19:42:44.186658Z",
     "shell.execute_reply.started": "2023-03-06T19:42:42.053823Z"
    }
   },
   "outputs": [],
   "source": [
    "trainer = Trainer(\n",
    "    model=model,\n",
    "    args=args,\n",
    "    train_dataset=train_set,\n",
    "    eval_dataset=val_set,\n",
    "    tokenizer=feature_extractor,\n",
    "    compute_metrics=compute_metrics,\n",
    "    data_collator=collate_fn\n",
    ")"
   ]
  },
  {
   "cell_type": "code",
   "execution_count": 24,
   "metadata": {
    "execution": {
     "iopub.execute_input": "2023-03-06T19:42:44.189987Z",
     "iopub.status.busy": "2023-03-06T19:42:44.189548Z",
     "iopub.status.idle": "2023-03-06T19:42:44.195988Z",
     "shell.execute_reply": "2023-03-06T19:42:44.194930Z",
     "shell.execute_reply.started": "2023-03-06T19:42:44.189944Z"
    }
   },
   "outputs": [],
   "source": [
    "# # train model\n",
    "# trainer.train()\n",
    "\n",
    "# # creating downloads directory\n",
    "# downloads = '/kaggle/working/downloads'\n",
    "\n",
    "# if os.path.isdir(downloads):\n",
    "#     print('Folder already exists!')\n",
    "# else:\n",
    "#     os.makedirs(downloads)\n",
    "#     print('Folder created!')\n",
    "\n",
    "# # save best model\n",
    "# trainer.save_model(downloads)\n",
    "\n",
    "# # save training log\n",
    "# df = pd.DataFrame(trainer.state.log_history)\n",
    "# df.to_csv('/kaggle/working/downloads/training_log.csv')"
   ]
  },
  {
   "cell_type": "markdown",
   "metadata": {},
   "source": [
    "## Read CSV"
   ]
  },
  {
   "cell_type": "code",
   "execution_count": 25,
   "metadata": {
    "execution": {
     "iopub.execute_input": "2023-03-06T19:42:44.198450Z",
     "iopub.status.busy": "2023-03-06T19:42:44.197425Z",
     "iopub.status.idle": "2023-03-06T19:42:44.226068Z",
     "shell.execute_reply": "2023-03-06T19:42:44.224891Z",
     "shell.execute_reply.started": "2023-03-06T19:42:44.198412Z"
    }
   },
   "outputs": [
    {
     "data": {
      "text/html": [
       "<div>\n",
       "<style scoped>\n",
       "    .dataframe tbody tr th:only-of-type {\n",
       "        vertical-align: middle;\n",
       "    }\n",
       "\n",
       "    .dataframe tbody tr th {\n",
       "        vertical-align: top;\n",
       "    }\n",
       "\n",
       "    .dataframe thead th {\n",
       "        text-align: right;\n",
       "    }\n",
       "</style>\n",
       "<table border=\"1\" class=\"dataframe\">\n",
       "  <thead>\n",
       "    <tr style=\"text-align: right;\">\n",
       "      <th></th>\n",
       "      <th>Precision</th>\n",
       "      <th>Recall</th>\n",
       "      <th>F1-Score</th>\n",
       "      <th>Sensitivity</th>\n",
       "      <th>Specificity</th>\n",
       "      <th>Accuracy</th>\n",
       "    </tr>\n",
       "  </thead>\n",
       "  <tbody>\n",
       "    <tr>\n",
       "      <th>1</th>\n",
       "      <td>0.023301</td>\n",
       "      <td>0.160596</td>\n",
       "      <td>0.031612</td>\n",
       "      <td>0.160596</td>\n",
       "      <td>0.857102</td>\n",
       "      <td>0.031401</td>\n",
       "    </tr>\n",
       "    <tr>\n",
       "      <th>3</th>\n",
       "      <td>0.023999</td>\n",
       "      <td>0.160596</td>\n",
       "      <td>0.031872</td>\n",
       "      <td>0.160596</td>\n",
       "      <td>0.856409</td>\n",
       "      <td>0.031401</td>\n",
       "    </tr>\n",
       "    <tr>\n",
       "      <th>5</th>\n",
       "      <td>0.022100</td>\n",
       "      <td>0.155102</td>\n",
       "      <td>0.030395</td>\n",
       "      <td>0.155102</td>\n",
       "      <td>0.855553</td>\n",
       "      <td>0.030193</td>\n",
       "    </tr>\n",
       "    <tr>\n",
       "      <th>7</th>\n",
       "      <td>0.070026</td>\n",
       "      <td>0.155317</td>\n",
       "      <td>0.030945</td>\n",
       "      <td>0.155317</td>\n",
       "      <td>0.855716</td>\n",
       "      <td>0.031401</td>\n",
       "    </tr>\n",
       "    <tr>\n",
       "      <th>9</th>\n",
       "      <td>0.107573</td>\n",
       "      <td>0.162606</td>\n",
       "      <td>0.038981</td>\n",
       "      <td>0.162606</td>\n",
       "      <td>0.854732</td>\n",
       "      <td>0.038647</td>\n",
       "    </tr>\n",
       "    <tr>\n",
       "      <th>11</th>\n",
       "      <td>0.186001</td>\n",
       "      <td>0.189802</td>\n",
       "      <td>0.073675</td>\n",
       "      <td>0.189802</td>\n",
       "      <td>0.856819</td>\n",
       "      <td>0.071256</td>\n",
       "    </tr>\n",
       "    <tr>\n",
       "      <th>13</th>\n",
       "      <td>0.184934</td>\n",
       "      <td>0.263962</td>\n",
       "      <td>0.126423</td>\n",
       "      <td>0.263962</td>\n",
       "      <td>0.870311</td>\n",
       "      <td>0.213768</td>\n",
       "    </tr>\n",
       "    <tr>\n",
       "      <th>15</th>\n",
       "      <td>0.180237</td>\n",
       "      <td>0.259746</td>\n",
       "      <td>0.173044</td>\n",
       "      <td>0.259746</td>\n",
       "      <td>0.892308</td>\n",
       "      <td>0.446860</td>\n",
       "    </tr>\n",
       "    <tr>\n",
       "      <th>17</th>\n",
       "      <td>0.189397</td>\n",
       "      <td>0.246802</td>\n",
       "      <td>0.198764</td>\n",
       "      <td>0.246802</td>\n",
       "      <td>0.910366</td>\n",
       "      <td>0.658213</td>\n",
       "    </tr>\n",
       "    <tr>\n",
       "      <th>19</th>\n",
       "      <td>0.216353</td>\n",
       "      <td>0.243122</td>\n",
       "      <td>0.208864</td>\n",
       "      <td>0.243122</td>\n",
       "      <td>0.911678</td>\n",
       "      <td>0.746377</td>\n",
       "    </tr>\n",
       "  </tbody>\n",
       "</table>\n",
       "</div>"
      ],
      "text/plain": [
       "    Precision    Recall  F1-Score  Sensitivity  Specificity  Accuracy\n",
       "1    0.023301  0.160596  0.031612     0.160596     0.857102  0.031401\n",
       "3    0.023999  0.160596  0.031872     0.160596     0.856409  0.031401\n",
       "5    0.022100  0.155102  0.030395     0.155102     0.855553  0.030193\n",
       "7    0.070026  0.155317  0.030945     0.155317     0.855716  0.031401\n",
       "9    0.107573  0.162606  0.038981     0.162606     0.854732  0.038647\n",
       "11   0.186001  0.189802  0.073675     0.189802     0.856819  0.071256\n",
       "13   0.184934  0.263962  0.126423     0.263962     0.870311  0.213768\n",
       "15   0.180237  0.259746  0.173044     0.259746     0.892308  0.446860\n",
       "17   0.189397  0.246802  0.198764     0.246802     0.910366  0.658213\n",
       "19   0.216353  0.243122  0.208864     0.243122     0.911678  0.746377"
      ]
     },
     "execution_count": 25,
     "metadata": {},
     "output_type": "execute_result"
    }
   ],
   "source": [
    "######## kaggle ########\n",
    "# df = pd.read_csv('/kaggle/working/downloads/training_log.csv')\n",
    "\n",
    "######## desktop ########\n",
    "df = pd.read_csv(os.path.join(model_dir, 'training_log.csv'))\n",
    "df_backup = df\n",
    "\n",
    "# read training log\n",
    "df = df[['eval_precision', \n",
    "         'eval_recall', \n",
    "         'eval_f1', \n",
    "         'eval_sensitivity', \n",
    "         'eval_specificity',\n",
    "         'eval_accuracy'\n",
    "        ]].dropna()\n",
    "\n",
    "# rename columns\n",
    "df.rename(columns={'eval_precision':'Precision', \n",
    "                   'eval_recall':'Recall', \n",
    "                   'eval_f1':'F1-Score', \n",
    "                   'eval_sensitivity':'Sensitivity', \n",
    "                   'eval_specificity':'Specificity', \n",
    "                   'eval_accuracy':'Accuracy'\n",
    "                  }, inplace = True)\n",
    "\n",
    "df.head(10)"
   ]
  },
  {
   "cell_type": "code",
   "execution_count": 26,
   "metadata": {
    "execution": {
     "iopub.execute_input": "2023-03-06T19:42:44.228124Z",
     "iopub.status.busy": "2023-03-06T19:42:44.227677Z",
     "iopub.status.idle": "2023-03-06T19:42:44.245454Z",
     "shell.execute_reply": "2023-03-06T19:42:44.244334Z",
     "shell.execute_reply.started": "2023-03-06T19:42:44.228085Z"
    }
   },
   "outputs": [
    {
     "data": {
      "text/html": [
       "<div>\n",
       "<style scoped>\n",
       "    .dataframe tbody tr th:only-of-type {\n",
       "        vertical-align: middle;\n",
       "    }\n",
       "\n",
       "    .dataframe tbody tr th {\n",
       "        vertical-align: top;\n",
       "    }\n",
       "\n",
       "    .dataframe thead th {\n",
       "        text-align: right;\n",
       "    }\n",
       "</style>\n",
       "<table border=\"1\" class=\"dataframe\">\n",
       "  <thead>\n",
       "    <tr style=\"text-align: right;\">\n",
       "      <th></th>\n",
       "      <th>Precision</th>\n",
       "      <th>Recall</th>\n",
       "      <th>F1-Score</th>\n",
       "      <th>Sensitivity</th>\n",
       "      <th>Specificity</th>\n",
       "      <th>Accuracy</th>\n",
       "    </tr>\n",
       "  </thead>\n",
       "  <tbody>\n",
       "    <tr>\n",
       "      <th>295</th>\n",
       "      <td>0.823693</td>\n",
       "      <td>0.813844</td>\n",
       "      <td>0.815775</td>\n",
       "      <td>0.813844</td>\n",
       "      <td>0.979452</td>\n",
       "      <td>0.935990</td>\n",
       "    </tr>\n",
       "    <tr>\n",
       "      <th>329</th>\n",
       "      <td>0.822818</td>\n",
       "      <td>0.803607</td>\n",
       "      <td>0.810834</td>\n",
       "      <td>0.803607</td>\n",
       "      <td>0.978380</td>\n",
       "      <td>0.933575</td>\n",
       "    </tr>\n",
       "    <tr>\n",
       "      <th>537</th>\n",
       "      <td>0.828653</td>\n",
       "      <td>0.789027</td>\n",
       "      <td>0.804017</td>\n",
       "      <td>0.789027</td>\n",
       "      <td>0.980756</td>\n",
       "      <td>0.931159</td>\n",
       "    </tr>\n",
       "    <tr>\n",
       "      <th>429</th>\n",
       "      <td>0.826711</td>\n",
       "      <td>0.790615</td>\n",
       "      <td>0.803833</td>\n",
       "      <td>0.790615</td>\n",
       "      <td>0.979167</td>\n",
       "      <td>0.925121</td>\n",
       "    </tr>\n",
       "    <tr>\n",
       "      <th>573</th>\n",
       "      <td>0.829101</td>\n",
       "      <td>0.788900</td>\n",
       "      <td>0.803767</td>\n",
       "      <td>0.788900</td>\n",
       "      <td>0.979898</td>\n",
       "      <td>0.929952</td>\n",
       "    </tr>\n",
       "    <tr>\n",
       "      <th>535</th>\n",
       "      <td>0.838984</td>\n",
       "      <td>0.777372</td>\n",
       "      <td>0.803498</td>\n",
       "      <td>0.777372</td>\n",
       "      <td>0.976829</td>\n",
       "      <td>0.932367</td>\n",
       "    </tr>\n",
       "    <tr>\n",
       "      <th>413</th>\n",
       "      <td>0.835495</td>\n",
       "      <td>0.783893</td>\n",
       "      <td>0.802376</td>\n",
       "      <td>0.783893</td>\n",
       "      <td>0.978997</td>\n",
       "      <td>0.928744</td>\n",
       "    </tr>\n",
       "    <tr>\n",
       "      <th>415</th>\n",
       "      <td>0.807007</td>\n",
       "      <td>0.809835</td>\n",
       "      <td>0.801094</td>\n",
       "      <td>0.809835</td>\n",
       "      <td>0.978046</td>\n",
       "      <td>0.926329</td>\n",
       "    </tr>\n",
       "    <tr>\n",
       "      <th>359</th>\n",
       "      <td>0.832877</td>\n",
       "      <td>0.781858</td>\n",
       "      <td>0.800391</td>\n",
       "      <td>0.781858</td>\n",
       "      <td>0.977306</td>\n",
       "      <td>0.926329</td>\n",
       "    </tr>\n",
       "    <tr>\n",
       "      <th>577</th>\n",
       "      <td>0.825544</td>\n",
       "      <td>0.786206</td>\n",
       "      <td>0.800367</td>\n",
       "      <td>0.786206</td>\n",
       "      <td>0.979900</td>\n",
       "      <td>0.929952</td>\n",
       "    </tr>\n",
       "  </tbody>\n",
       "</table>\n",
       "</div>"
      ],
      "text/plain": [
       "     Precision    Recall  F1-Score  Sensitivity  Specificity  Accuracy\n",
       "295   0.823693  0.813844  0.815775     0.813844     0.979452  0.935990\n",
       "329   0.822818  0.803607  0.810834     0.803607     0.978380  0.933575\n",
       "537   0.828653  0.789027  0.804017     0.789027     0.980756  0.931159\n",
       "429   0.826711  0.790615  0.803833     0.790615     0.979167  0.925121\n",
       "573   0.829101  0.788900  0.803767     0.788900     0.979898  0.929952\n",
       "535   0.838984  0.777372  0.803498     0.777372     0.976829  0.932367\n",
       "413   0.835495  0.783893  0.802376     0.783893     0.978997  0.928744\n",
       "415   0.807007  0.809835  0.801094     0.809835     0.978046  0.926329\n",
       "359   0.832877  0.781858  0.800391     0.781858     0.977306  0.926329\n",
       "577   0.825544  0.786206  0.800367     0.786206     0.979900  0.929952"
      ]
     },
     "execution_count": 26,
     "metadata": {},
     "output_type": "execute_result"
    }
   ],
   "source": [
    "# sort training log\n",
    "df_sort = df.sort_values('F1-Score', ascending=False)\n",
    "df_sort.head(10)"
   ]
  },
  {
   "cell_type": "markdown",
   "metadata": {},
   "source": [
    "## Performance Index"
   ]
  },
  {
   "cell_type": "code",
   "execution_count": 27,
   "metadata": {
    "execution": {
     "iopub.execute_input": "2023-03-06T19:42:44.247452Z",
     "iopub.status.busy": "2023-03-06T19:42:44.247018Z",
     "iopub.status.idle": "2023-03-06T19:42:44.724770Z",
     "shell.execute_reply": "2023-03-06T19:42:44.723230Z",
     "shell.execute_reply.started": "2023-03-06T19:42:44.247413Z"
    }
   },
   "outputs": [
    {
     "data": {
      "image/png": "[encoded data removed]",
      "text/plain": [
       "<Figure size 600x400 with 1 Axes>"
      ]
     },
     "metadata": {},
     "output_type": "display_data"
    }
   ],
   "source": [
    "fig, ax = plt.subplots(figsize=(6, 4))\n",
    "\n",
    "x = df['F1-Score'].index.values.tolist()\n",
    "y = df['F1-Score'].values.tolist()\n",
    "\n",
    "plt.plot(x, y, lw=2)\n",
    "\n",
    "# Find the index and coordinates of the highest point\n",
    "idx = np.argmax(y)\n",
    "x_max = x[idx]\n",
    "y_max = y[idx]\n",
    "\n",
    "xlim, ylim = plt.xlim(), plt.ylim()\n",
    "plt.plot([x[idx], x[idx], xlim[0]], [xlim[0], y[idx], y[idx]], linestyle=\"--\")\n",
    "plt.xlim(xlim)\n",
    "plt.ylim(ylim)\n",
    "\n",
    "plt.annotate(\n",
    "    'F1-Score {0:.4f}'.format(max(y)), \n",
    "    xy=(x_max, y_max), \n",
    "    xytext=(x_max + 10, y_max - 0.02),  \n",
    "    bbox=dict(boxstyle=\"round4\", fc=\"w\"),\n",
    "    arrowprops=dict(arrowstyle=\"-|>\", connectionstyle=\"arc3, rad=-0.2\", fc=\"w\")\n",
    ")\n",
    "\n",
    "plt.title('ConvNeXt+FBGT+α=0.80')\n",
    "plt.legend(['F1-Score', 'X and Y'], loc='lower right')\n",
    "plt.xlabel('Steps')\n",
    "plt.ylabel('F1-Score')\n",
    "plt.show()"
   ]
  },
  {
   "cell_type": "markdown",
   "metadata": {},
   "source": [
    "## Training Time"
   ]
  },
  {
   "cell_type": "code",
   "execution_count": 28,
   "metadata": {},
   "outputs": [
    {
     "name": "stdout",
     "output_type": "stream",
     "text": [
      "Training Time: 2:17:7\n"
     ]
    }
   ],
   "source": [
    "# training time \n",
    "last_row = df_backup.iloc[-1]\n",
    "column_value = last_row['train_runtime']\n",
    "\n",
    "# convert seconds to hours, minutes, and seconds\n",
    "hours = int(column_value // 3600)\n",
    "seconds_remaining = column_value % 3600\n",
    "minutes = int(seconds_remaining // 60)\n",
    "seconds = int(seconds_remaining % 60)\n",
    "\n",
    "# print training time\n",
    "print(f\"Training Time: {hours}:{minutes}:{seconds}\")"
   ]
  },
  {
   "cell_type": "markdown",
   "metadata": {},
   "source": [
    "## Test"
   ]
  },
  {
   "cell_type": "code",
   "execution_count": 29,
   "metadata": {
    "execution": {
     "iopub.execute_input": "2023-03-06T19:42:44.730899Z",
     "iopub.status.busy": "2023-03-06T19:42:44.728655Z",
     "iopub.status.idle": "2023-03-06T19:42:44.735931Z",
     "shell.execute_reply": "2023-03-06T19:42:44.734445Z",
     "shell.execute_reply.started": "2023-03-06T19:42:44.730833Z"
    }
   },
   "outputs": [],
   "source": [
    "######## kaggle ########\n",
    "# save_path = '/kaggle/working/downloads'\n",
    "# load_model = save_path\n",
    "\n",
    "######## desktop ########\n",
    "save_path = os.path.join(model_dir, 'saved_model')\n",
    "load_model = save_path"
   ]
  },
  {
   "cell_type": "code",
   "execution_count": 30,
   "metadata": {
    "execution": {
     "iopub.execute_input": "2023-03-06T19:42:44.738402Z",
     "iopub.status.busy": "2023-03-06T19:42:44.737708Z",
     "iopub.status.idle": "2023-03-06T19:42:45.133029Z",
     "shell.execute_reply": "2023-03-06T19:42:45.132095Z",
     "shell.execute_reply.started": "2023-03-06T19:42:44.738362Z"
    },
    "scrolled": true
   },
   "outputs": [],
   "source": [
    "trained_model = AutoModelForImageClassification.from_pretrained(\n",
    "    load_model, \n",
    "    label2id=label2id,\n",
    "    id2label=id2label,\n",
    "    ignore_mismatched_sizes = True, \n",
    ")"
   ]
  },
  {
   "cell_type": "code",
   "execution_count": 31,
   "metadata": {
    "execution": {
     "iopub.execute_input": "2023-03-06T19:42:45.135147Z",
     "iopub.status.busy": "2023-03-06T19:42:45.134770Z",
     "iopub.status.idle": "2023-03-06T19:42:45.177757Z",
     "shell.execute_reply": "2023-03-06T19:42:45.176673Z",
     "shell.execute_reply.started": "2023-03-06T19:42:45.135107Z"
    }
   },
   "outputs": [],
   "source": [
    "tester = Trainer(\n",
    "    model=trained_model,\n",
    "    args=args,\n",
    "    train_dataset=train_set,\n",
    "    eval_dataset=val_set,\n",
    "    tokenizer=feature_extractor,\n",
    "    compute_metrics=compute_metrics,\n",
    "    data_collator=collate_fn\n",
    ")"
   ]
  },
  {
   "cell_type": "code",
   "execution_count": 32,
   "metadata": {
    "execution": {
     "iopub.execute_input": "2023-03-06T19:42:45.179892Z",
     "iopub.status.busy": "2023-03-06T19:42:45.179454Z",
     "iopub.status.idle": "2023-03-06T19:42:51.925157Z",
     "shell.execute_reply": "2023-03-06T19:42:51.924104Z",
     "shell.execute_reply.started": "2023-03-06T19:42:45.179848Z"
    },
    "scrolled": true
   },
   "outputs": [
    {
     "data": {
      "text/html": [],
      "text/plain": [
       "<IPython.core.display.HTML object>"
      ]
     },
     "metadata": {},
     "output_type": "display_data"
    },
    {
     "data": {
      "text/plain": [
       "{'eval_loss': 0.23364423215389252,\n",
       " 'eval_precision': 0.823693,\n",
       " 'eval_recall': 0.813844,\n",
       " 'eval_f1': 0.815775,\n",
       " 'eval_sensitivity': 0.8138440417212796,\n",
       " 'eval_specificity': 0.9794517871604931,\n",
       " 'eval_accuracy': 0.93599,\n",
       " 'eval_runtime': 8.5669,\n",
       " 'eval_samples_per_second': 96.651,\n",
       " 'eval_steps_per_second': 3.035}"
      ]
     },
     "execution_count": 32,
     "metadata": {},
     "output_type": "execute_result"
    }
   ],
   "source": [
    "tester.evaluate()"
   ]
  },
  {
   "cell_type": "code",
   "execution_count": 33,
   "metadata": {
    "execution": {
     "iopub.execute_input": "2023-03-06T19:42:51.928596Z",
     "iopub.status.busy": "2023-03-06T19:42:51.927423Z",
     "iopub.status.idle": "2023-03-06T19:42:57.478857Z",
     "shell.execute_reply": "2023-03-06T19:42:57.477839Z",
     "shell.execute_reply.started": "2023-03-06T19:42:51.928553Z"
    }
   },
   "outputs": [],
   "source": [
    "predictions = tester.predict(test_dataset=val_set).predictions"
   ]
  },
  {
   "cell_type": "code",
   "execution_count": 34,
   "metadata": {
    "execution": {
     "iopub.execute_input": "2023-03-06T19:42:57.481307Z",
     "iopub.status.busy": "2023-03-06T19:42:57.480453Z",
     "iopub.status.idle": "2023-03-06T19:42:57.487909Z",
     "shell.execute_reply": "2023-03-06T19:42:57.486829Z",
     "shell.execute_reply.started": "2023-03-06T19:42:57.481255Z"
    }
   },
   "outputs": [],
   "source": [
    "def to_categorical(y, num_classes):\n",
    "    \"\"\" 1-hot encoding \"\"\"\n",
    "    return np.eye(num_classes, dtype='uint8')[y]\n",
    "\n",
    "def test_set(val_set):\n",
    "    y = []\n",
    "    for i in range(val_set.num_rows):\n",
    "        y.append(val_set[i]['label'])\n",
    "    return np.array(y)"
   ]
  },
  {
   "cell_type": "code",
   "execution_count": 35,
   "metadata": {
    "execution": {
     "iopub.execute_input": "2023-03-06T19:42:57.490092Z",
     "iopub.status.busy": "2023-03-06T19:42:57.489425Z",
     "iopub.status.idle": "2023-03-06T19:43:00.490650Z",
     "shell.execute_reply": "2023-03-06T19:43:00.489595Z",
     "shell.execute_reply.started": "2023-03-06T19:42:57.490053Z"
    }
   },
   "outputs": [],
   "source": [
    "############## true ##############\n",
    "# y_true_flat\n",
    "y_true_flat = test_set(val_set)\n",
    "\n",
    "# y_true\n",
    "y_true = to_categorical(y_true_flat, 7)\n",
    "\n",
    "############## predicted ##############\n",
    "# y_pred_flat\n",
    "y_pred_flat = np.argmax(predictions, axis=-1)\n",
    "\n",
    "# y_pred\n",
    "y_pred = predictions"
   ]
  },
  {
   "cell_type": "code",
   "execution_count": 36,
   "metadata": {
    "execution": {
     "iopub.execute_input": "2023-03-06T19:43:00.492784Z",
     "iopub.status.busy": "2023-03-06T19:43:00.492402Z",
     "iopub.status.idle": "2023-03-06T19:43:00.516220Z",
     "shell.execute_reply": "2023-03-06T19:43:00.515090Z",
     "shell.execute_reply.started": "2023-03-06T19:43:00.492743Z"
    }
   },
   "outputs": [
    {
     "name": "stdout",
     "output_type": "stream",
     "text": [
      "akiec AUC:  0.9870\n",
      "bcc AUC:  0.9963\n",
      "bkl AUC:  0.9681\n",
      "df AUC:  0.9923\n",
      "mel AUC:  0.9035\n",
      "nv AUC:  0.9886\n",
      "vasc AUC:  0.9998\n"
     ]
    }
   ],
   "source": [
    "############## ROC AUC ##############\n",
    "classes = ['akiec', 'bcc', 'bkl', 'df', 'mel', 'nv', 'vasc']\n",
    "\n",
    "for i in range(7):\n",
    "    print(f\"{classes[i]} AUC: \", '{0:.4f}'.format(roc_auc_score(y_true[:, i], y_pred[:, i])))"
   ]
  },
  {
   "cell_type": "code",
   "execution_count": 37,
   "metadata": {},
   "outputs": [
    {
     "name": "stdout",
     "output_type": "stream",
     "text": [
      "Average AUC:  97.65%\n"
     ]
    }
   ],
   "source": [
    "print(\"Average AUC: \", '{0:.2f}%'.format(roc_auc_score(y_true, y_pred)*100))"
   ]
  },
  {
   "cell_type": "code",
   "execution_count": 38,
   "metadata": {
    "execution": {
     "iopub.execute_input": "2023-03-06T19:43:00.518412Z",
     "iopub.status.busy": "2023-03-06T19:43:00.518033Z",
     "iopub.status.idle": "2023-03-06T19:43:00.969729Z",
     "shell.execute_reply": "2023-03-06T19:43:00.968689Z",
     "shell.execute_reply.started": "2023-03-06T19:43:00.518375Z"
    }
   },
   "outputs": [
    {
     "data": {
      "image/png": "[encoded data removed]",
      "text/plain": [
       "<Figure size 700x500 with 1 Axes>"
      ]
     },
     "metadata": {},
     "output_type": "display_data"
    }
   ],
   "source": [
    "############## AUC ##############\n",
    "fig, ax = plt.subplots(figsize=(7, 5))\n",
    "\n",
    "classes = ['akiec', 'bcc', 'bkl', 'df', 'mel', 'nv', 'vasc']\n",
    "colours = ['mediumorchid', 'royalblue', 'deepskyblue', 'green', 'gold', 'red', 'hotpink']\n",
    "\n",
    "for i in range(7):\n",
    "    RocCurveDisplay.from_predictions(\n",
    "        y_true[:, i],\n",
    "        y_pred[:, i],\n",
    "        name=f'ROC curve of {classes[i]}',\n",
    "        color=colours[i],\n",
    "        ax=ax\n",
    "    )\n",
    "\n",
    "plt.plot([0, 1], [0, 1], \"k--\")\n",
    "plt.xlabel(\"False Positive Rate\")\n",
    "plt.ylabel(\"True Positive Rate\")\n",
    "plt.title(\"ConvNeXt+FBGT+α=0.80\")\n",
    "plt.legend()\n",
    "plt.show()\n",
    "\n",
    "fig = ax.get_figure()"
   ]
  },
  {
   "cell_type": "code",
   "execution_count": 39,
   "metadata": {
    "execution": {
     "iopub.execute_input": "2023-03-06T19:43:00.971698Z",
     "iopub.status.busy": "2023-03-06T19:43:00.971204Z",
     "iopub.status.idle": "2023-03-06T19:43:00.987343Z",
     "shell.execute_reply": "2023-03-06T19:43:00.986349Z",
     "shell.execute_reply.started": "2023-03-06T19:43:00.971649Z"
    }
   },
   "outputs": [
    {
     "name": "stdout",
     "output_type": "stream",
     "text": [
      "\n",
      "Classification Report:\n",
      "              precision    recall  f1-score   support\n",
      "\n",
      "       akiec       0.68      0.83      0.75        23\n",
      "         bcc       0.82      0.88      0.85        26\n",
      "         bkl       0.84      0.82      0.83        66\n",
      "          df       0.83      0.83      0.83         6\n",
      "         mel       0.61      0.56      0.58        34\n",
      "          nv       0.98      0.98      0.98       663\n",
      "        vasc       1.00      0.80      0.89        10\n",
      "\n",
      "    accuracy                           0.94       828\n",
      "   macro avg       0.82      0.81      0.82       828\n",
      "weighted avg       0.94      0.94      0.94       828\n",
      "\n"
     ]
    }
   ],
   "source": [
    "classes = ['akiec', 'bcc', 'bkl', 'df', 'mel', 'nv', 'vasc']\n",
    "\n",
    "report = classification_report(y_true_flat, y_pred_flat, target_names=classes)\n",
    "\n",
    "print(\"\\nClassification Report:\")\n",
    "print(report)"
   ]
  },
  {
   "cell_type": "code",
   "execution_count": 40,
   "metadata": {
    "execution": {
     "iopub.execute_input": "2023-03-06T19:43:00.989345Z",
     "iopub.status.busy": "2023-03-06T19:43:00.988898Z",
     "iopub.status.idle": "2023-03-06T19:43:01.012980Z",
     "shell.execute_reply": "2023-03-06T19:43:01.011781Z",
     "shell.execute_reply.started": "2023-03-06T19:43:00.989307Z"
    }
   },
   "outputs": [
    {
     "data": {
      "text/html": [
       "<style type=\"text/css\">\n",
       "</style>\n",
       "<table id=\"T_6390e\">\n",
       "  <thead>\n",
       "    <tr>\n",
       "      <th id=\"T_6390e_level0_col0\" class=\"col_heading level0 col0\" >Precision (%)</th>\n",
       "      <th id=\"T_6390e_level0_col1\" class=\"col_heading level0 col1\" >Recall (%)</th>\n",
       "      <th id=\"T_6390e_level0_col2\" class=\"col_heading level0 col2\" >F1-Score (%)</th>\n",
       "      <th id=\"T_6390e_level0_col3\" class=\"col_heading level0 col3\" >Accuracy (%)</th>\n",
       "      <th id=\"T_6390e_level0_col4\" class=\"col_heading level0 col4\" >Sensitivity (%)</th>\n",
       "      <th id=\"T_6390e_level0_col5\" class=\"col_heading level0 col5\" >Specificity (%)</th>\n",
       "    </tr>\n",
       "  </thead>\n",
       "  <tbody>\n",
       "    <tr>\n",
       "      <td id=\"T_6390e_row0_col0\" class=\"data row0 col0\" >82.37</td>\n",
       "      <td id=\"T_6390e_row0_col1\" class=\"data row0 col1\" >81.38</td>\n",
       "      <td id=\"T_6390e_row0_col2\" class=\"data row0 col2\" >81.58</td>\n",
       "      <td id=\"T_6390e_row0_col3\" class=\"data row0 col3\" >93.60</td>\n",
       "      <td id=\"T_6390e_row0_col4\" class=\"data row0 col4\" >81.38</td>\n",
       "      <td id=\"T_6390e_row0_col5\" class=\"data row0 col5\" >97.95</td>\n",
       "    </tr>\n",
       "  </tbody>\n",
       "</table>\n"
      ],
      "text/plain": [
       "<pandas.io.formats.style.Styler at 0x2137bb79d80>"
      ]
     },
     "execution_count": 40,
     "metadata": {},
     "output_type": "execute_result"
    }
   ],
   "source": [
    "sensitivity = '{0:.2f}'.format(compute_sensitivity(y_true_flat, y_pred_flat)*100)\n",
    "specificity = '{0:.2f}'.format(compute_specificity(y_true_flat, y_pred_flat)*100)\n",
    "    \n",
    "precision = '{0:.2f}'.format(precision_score(y_true_flat, y_pred_flat, average='macro')*100)\n",
    "recall = '{0:.2f}'.format(recall_score(y_true_flat, y_pred_flat, average='macro')*100)\n",
    "f1 = '{0:.2f}'.format(f1_score(y_true_flat, y_pred_flat, average='macro')*100)\n",
    "accuracy = '{0:.2f}'.format(accuracy_score(y_true_flat, y_pred_flat)*100)\n",
    "\n",
    "matrix_log = [[precision, recall, f1, accuracy, sensitivity, specificity]]\n",
    "df_result = pd.DataFrame(\n",
    "    matrix_log, \n",
    "    columns=[\n",
    "        'Precision (%)',\n",
    "        'Recall (%)', \n",
    "        'F1-Score (%)',\n",
    "        'Accuracy (%)', \n",
    "        'Sensitivity (%)', \n",
    "        'Specificity (%)'\n",
    "    ])\n",
    "\n",
    "df_result = df_result.style.hide(axis='index')\n",
    "df_result"
   ]
  },
  {
   "cell_type": "code",
   "execution_count": 41,
   "metadata": {
    "execution": {
     "iopub.execute_input": "2023-03-06T19:43:01.014861Z",
     "iopub.status.busy": "2023-03-06T19:43:01.014480Z",
     "iopub.status.idle": "2023-03-06T19:43:01.930764Z",
     "shell.execute_reply": "2023-03-06T19:43:01.929685Z",
     "shell.execute_reply.started": "2023-03-06T19:43:01.014823Z"
    }
   },
   "outputs": [
    {
     "data": {
      "image/png": "[encoded data removed]",
      "text/plain": [
       "<Figure size 640x480 with 2 Axes>"
      ]
     },
     "metadata": {},
     "output_type": "display_data"
    }
   ],
   "source": [
    "cnf_matrix = confusion_matrix(y_true_flat, y_pred_flat)\n",
    "\n",
    "group_counts = [\"{0:0.0f}\".format(value) for value in cnf_matrix.flatten()]\n",
    "\n",
    "labels = [f\"{v1}\" for v1 in group_counts]\n",
    "\n",
    "matrix_labels = np.asarray(labels).reshape(7,7)\n",
    "axis_labels = ['akiec', 'bcc', 'bkl', 'df', 'mel', 'nv', 'vasc']\n",
    "\n",
    "ax = sns.heatmap(\n",
    "    cnf_matrix, \n",
    "    annot=matrix_labels, \n",
    "    fmt='',  \n",
    "    cmap='Blues', \n",
    "    linewidths=0.1, \n",
    "    linecolor=(67/255, 107/255, 163/255),\n",
    "    xticklabels=axis_labels, \n",
    "    yticklabels=axis_labels\n",
    ")\n",
    "\n",
    "sns_figure = ax.set(xlabel='Predicted label', ylabel='True label', title='ConvNeXt+FBGT+α=0.80')\n",
    "\n",
    "fig = ax.get_figure()"
   ]
  },
  {
   "cell_type": "code",
   "execution_count": 42,
   "metadata": {
    "execution": {
     "iopub.execute_input": "2023-03-06T19:43:01.941969Z",
     "iopub.status.busy": "2023-03-06T19:43:01.938925Z",
     "iopub.status.idle": "2023-03-06T19:43:08.200513Z",
     "shell.execute_reply": "2023-03-06T19:43:08.199282Z",
     "shell.execute_reply.started": "2023-03-06T19:43:01.941910Z"
    }
   },
   "outputs": [],
   "source": [
    "######## kaggle ########\n",
    "# downloads = '/kaggle/working/downloads'\n",
    "\n",
    "# source = downloads\n",
    "# destination = downloads\n",
    "\n",
    "# shutil.make_archive(destination, 'zip', source)"
   ]
  },
  {
   "cell_type": "code",
   "execution_count": 43,
   "metadata": {},
   "outputs": [],
   "source": [
    "############################# kaggle ##############################\n",
    "# Download the script and folder named 'downloads'.               # \n",
    "#                                                                 #\n",
    "# The 'downloads' folder contains:                                #\n",
    "#  - the training log file (training_log.csv)                     #\n",
    "#  - the trained model (saved_model)                              #\n",
    "#                                                                 #\n",
    "# Rename the 'downloads' folder to the associated script name.    #\n",
    "#                                                                 # \n",
    "# Move the renamed folder and the script to the current workspace.#\n",
    "# ----------------------------------------------------------------#\n",
    "# - models                                                        #\n",
    "#  - HAM10000                                                     #\n",
    "#   - Swin-Transformer                                            #\n",
    "#    - ham10000-convnext-fbgt-alpha-1                             #\n",
    "# ----------------------------------------------------------------#\n",
    "# - scripts                                                       #\n",
    "#  - HAM10000                                                     #\n",
    "#   - HAM10000_model_train                                        #\n",
    "#    - Swin-Transformer                                           #\n",
    "#     - ham10000-convnext-fbgt-alpha-1.ipynb                      #\n",
    "###################################################################"
   ]
  }
 ],
 "metadata": {
  "kernelspec": {
   "display_name": "Python (csf-model)",
   "language": "python",
   "name": "csf-model"
  },
  "language_info": {
   "codemirror_mode": {
    "name": "ipython",
    "version": 3
   },
   "file_extension": ".py",
   "mimetype": "text/x-python",
   "name": "python",
   "nbconvert_exporter": "python",
   "pygments_lexer": "ipython3",
   "version": "3.10.9"
  }
 },
 "nbformat": 4,
 "nbformat_minor": 4
}
