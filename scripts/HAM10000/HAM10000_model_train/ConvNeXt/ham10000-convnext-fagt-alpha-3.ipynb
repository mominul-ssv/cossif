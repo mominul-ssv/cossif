{
 "cells": [
  {
   "cell_type": "code",
   "execution_count": 1,
   "metadata": {},
   "outputs": [],
   "source": [
    "##############################\n",
    "# train with kaggle P100 GPU #\n",
    "##############################"
   ]
  },
  {
   "cell_type": "markdown",
   "metadata": {},
   "source": [
    "### Import Libraries"
   ]
  },
  {
   "cell_type": "code",
   "execution_count": 2,
   "metadata": {
    "execution": {
     "iopub.execute_input": "2023-03-06T19:40:05.291258Z",
     "iopub.status.busy": "2023-03-06T19:40:05.290418Z",
     "iopub.status.idle": "2023-03-06T19:40:10.624351Z",
     "shell.execute_reply": "2023-03-06T19:40:10.623186Z",
     "shell.execute_reply.started": "2023-03-06T19:40:05.291210Z"
    }
   },
   "outputs": [],
   "source": [
    "# general libraries\n",
    "import os\n",
    "import git\n",
    "import shutil\n",
    "import numpy as np\n",
    "import pandas as pd\n",
    "import seaborn as sns\n",
    "\n",
    "# hugging face libraries\n",
    "from datasets import load_dataset\n",
    "from transformers import (\n",
    "    AutoFeatureExtractor,\n",
    "    AutoModelForImageClassification, \n",
    "    TrainingArguments, \n",
    "    Trainer\n",
    ")\n",
    "\n",
    "# pytorch libraries\n",
    "import torch\n",
    "from torchvision.transforms import (\n",
    "    Compose, \n",
    "    Normalize,\n",
    "    Resize,\n",
    "    ToTensor\n",
    ")\n",
    "\n",
    "# scikit-learn libraries\n",
    "from sklearn.metrics import (\n",
    "    roc_auc_score,\n",
    "    precision_score,\n",
    "    recall_score,\n",
    "    f1_score,\n",
    "    accuracy_score,\n",
    "    classification_report,\n",
    "    confusion_matrix,\n",
    "    RocCurveDisplay\n",
    ")\n",
    "\n",
    "# plotting libraries\n",
    "from  matplotlib import pyplot as plt\n",
    "%matplotlib inline"
   ]
  },
  {
   "cell_type": "markdown",
   "metadata": {},
   "source": [
    "### Load Dataset"
   ]
  },
  {
   "cell_type": "code",
   "execution_count": 3,
   "metadata": {
    "execution": {
     "iopub.execute_input": "2023-03-06T19:40:10.626426Z",
     "iopub.status.busy": "2023-03-06T19:40:10.626050Z",
     "iopub.status.idle": "2023-03-06T19:40:10.634679Z",
     "shell.execute_reply": "2023-03-06T19:40:10.633736Z",
     "shell.execute_reply.started": "2023-03-06T19:40:10.626382Z"
    }
   },
   "outputs": [],
   "source": [
    "# dataset directory\n",
    "######## kaggle ########\n",
    "# train_dir = '/kaggle/input/ham10000-model-train-fagt-alpha-3'\n",
    "# test_dir = '/kaggle/input/ham10000-model-test'\n",
    "\n",
    "######## desktop ########\n",
    "dataset_dir = os.path.abspath('../../../../datasets/HAM10000')\n",
    "train_dir = os.path.join(dataset_dir, 'dataset-processed/dataset-models/ham10000-model-train-fagt-alpha-3')\n",
    "test_dir = os.path.join(dataset_dir, 'split/test')"
   ]
  },
  {
   "cell_type": "code",
   "execution_count": 4,
   "metadata": {
    "execution": {
     "iopub.execute_input": "2023-03-06T19:40:10.636961Z",
     "iopub.status.busy": "2023-03-06T19:40:10.635889Z",
     "iopub.status.idle": "2023-03-06T19:40:37.144631Z",
     "shell.execute_reply": "2023-03-06T19:40:37.143727Z",
     "shell.execute_reply.started": "2023-03-06T19:40:10.636911Z"
    }
   },
   "outputs": [
    {
     "data": {
      "application/vnd.jupyter.widget-view+json": {
       "model_id": "cd0071ec91cb4500ad738a5184fadea0",
       "version_major": 2,
       "version_minor": 0
      },
      "text/plain": [
       "Resolving data files:   0%|          | 0/42294 [00:00<?, ?it/s]"
      ]
     },
     "metadata": {},
     "output_type": "display_data"
    },
    {
     "name": "stderr",
     "output_type": "stream",
     "text": [
      "Found cached dataset imagefolder (C:/Users/Mominul Islam/.cache/huggingface/datasets/imagefolder/ham10000-model-train-fagt-alpha-3-ffbbd03344cbd479/0.0.0/37fbb85cc714a338bea574ac6c7d0b5be5aff46c1862c1989b20e0771199e93f)\n"
     ]
    },
    {
     "data": {
      "application/vnd.jupyter.widget-view+json": {
       "model_id": "d26c8de756dd47b7becb1ba79ca843a1",
       "version_major": 2,
       "version_minor": 0
      },
      "text/plain": [
       "  0%|          | 0/1 [00:00<?, ?it/s]"
      ]
     },
     "metadata": {},
     "output_type": "display_data"
    },
    {
     "data": {
      "application/vnd.jupyter.widget-view+json": {
       "model_id": "bdc31776133747a593aad31db79f9765",
       "version_major": 2,
       "version_minor": 0
      },
      "text/plain": [
       "Resolving data files:   0%|          | 0/828 [00:00<?, ?it/s]"
      ]
     },
     "metadata": {},
     "output_type": "display_data"
    },
    {
     "name": "stderr",
     "output_type": "stream",
     "text": [
      "Found cached dataset imagefolder (C:/Users/Mominul Islam/.cache/huggingface/datasets/imagefolder/test-3bd1957c35eba2af/0.0.0/37fbb85cc714a338bea574ac6c7d0b5be5aff46c1862c1989b20e0771199e93f)\n"
     ]
    },
    {
     "data": {
      "application/vnd.jupyter.widget-view+json": {
       "model_id": "eaa83e3fadfd4c659f60fb38dd02b068",
       "version_major": 2,
       "version_minor": 0
      },
      "text/plain": [
       "  0%|          | 0/1 [00:00<?, ?it/s]"
      ]
     },
     "metadata": {},
     "output_type": "display_data"
    }
   ],
   "source": [
    "# load dataset\n",
    "train_ds = load_dataset(train_dir)\n",
    "val_ds = load_dataset(test_dir)"
   ]
  },
  {
   "cell_type": "code",
   "execution_count": 5,
   "metadata": {
    "execution": {
     "iopub.execute_input": "2023-03-06T19:40:37.150937Z",
     "iopub.status.busy": "2023-03-06T19:40:37.147980Z",
     "iopub.status.idle": "2023-03-06T19:40:37.158610Z",
     "shell.execute_reply": "2023-03-06T19:40:37.157367Z",
     "shell.execute_reply.started": "2023-03-06T19:40:37.150900Z"
    }
   },
   "outputs": [
    {
     "name": "stdout",
     "output_type": "stream",
     "text": [
      "train_ds:  DatasetDict({\n",
      "    train: Dataset({\n",
      "        features: ['image', 'label'],\n",
      "        num_rows: 42294\n",
      "    })\n",
      "})\n",
      "val_ds:  DatasetDict({\n",
      "    train: Dataset({\n",
      "        features: ['image', 'label'],\n",
      "        num_rows: 828\n",
      "    })\n",
      "})\n"
     ]
    }
   ],
   "source": [
    "# loaded dataset structure\n",
    "print('train_ds: ', train_ds)\n",
    "print('val_ds: ', val_ds)"
   ]
  },
  {
   "cell_type": "code",
   "execution_count": 6,
   "metadata": {
    "execution": {
     "iopub.execute_input": "2023-03-06T19:40:37.161173Z",
     "iopub.status.busy": "2023-03-06T19:40:37.160417Z",
     "iopub.status.idle": "2023-03-06T19:40:37.179323Z",
     "shell.execute_reply": "2023-03-06T19:40:37.178223Z",
     "shell.execute_reply.started": "2023-03-06T19:40:37.161137Z"
    }
   },
   "outputs": [
    {
     "name": "stdout",
     "output_type": "stream",
     "text": [
      "Training Samples:  42294\n",
      "Validation Samples:  828\n"
     ]
    }
   ],
   "source": [
    "# num of training and validation samples\n",
    "print('Training Samples: ', train_ds['train'].num_rows)\n",
    "print('Validation Samples: ', val_ds['train'].num_rows)"
   ]
  },
  {
   "cell_type": "code",
   "execution_count": 7,
   "metadata": {
    "execution": {
     "iopub.execute_input": "2023-03-06T19:40:37.181546Z",
     "iopub.status.busy": "2023-03-06T19:40:37.180535Z",
     "iopub.status.idle": "2023-03-06T19:40:37.193439Z",
     "shell.execute_reply": "2023-03-06T19:40:37.192334Z",
     "shell.execute_reply.started": "2023-03-06T19:40:37.181510Z"
    }
   },
   "outputs": [
    {
     "data": {
      "text/plain": [
       "ClassLabel(names=['akiec', 'bcc', 'bkl', 'df', 'mel', 'nv', 'vasc'], id=None)"
      ]
     },
     "execution_count": 7,
     "metadata": {},
     "output_type": "execute_result"
    }
   ],
   "source": [
    "# num of features\n",
    "train_ds['train'].features['label']"
   ]
  },
  {
   "cell_type": "code",
   "execution_count": 8,
   "metadata": {
    "execution": {
     "iopub.execute_input": "2023-03-06T19:40:37.196019Z",
     "iopub.status.busy": "2023-03-06T19:40:37.195136Z",
     "iopub.status.idle": "2023-03-06T19:40:37.268665Z",
     "shell.execute_reply": "2023-03-06T19:40:37.267747Z",
     "shell.execute_reply.started": "2023-03-06T19:40:37.195983Z"
    }
   },
   "outputs": [
    {
     "data": {
      "image/png": "[encoded data removed]",
      "text/plain": [
       "<PIL.JpegImagePlugin.JpegImageFile image mode=RGB size=256x256>"
      ]
     },
     "execution_count": 8,
     "metadata": {},
     "output_type": "execute_result"
    }
   ],
   "source": [
    "# show image\n",
    "train_ds['train'][42]['image']"
   ]
  },
  {
   "cell_type": "code",
   "execution_count": 9,
   "metadata": {
    "execution": {
     "iopub.execute_input": "2023-03-06T19:40:37.270843Z",
     "iopub.status.busy": "2023-03-06T19:40:37.270169Z",
     "iopub.status.idle": "2023-03-06T19:40:37.293031Z",
     "shell.execute_reply": "2023-03-06T19:40:37.292096Z",
     "shell.execute_reply.started": "2023-03-06T19:40:37.270804Z"
    }
   },
   "outputs": [
    {
     "data": {
      "text/plain": [
       "0"
      ]
     },
     "execution_count": 9,
     "metadata": {},
     "output_type": "execute_result"
    }
   ],
   "source": [
    "# show label\n",
    "train_ds['train'][42]['label']"
   ]
  },
  {
   "cell_type": "code",
   "execution_count": 10,
   "metadata": {
    "execution": {
     "iopub.execute_input": "2023-03-06T19:40:37.295168Z",
     "iopub.status.busy": "2023-03-06T19:40:37.294471Z",
     "iopub.status.idle": "2023-03-06T19:40:37.303498Z",
     "shell.execute_reply": "2023-03-06T19:40:37.301637Z",
     "shell.execute_reply.started": "2023-03-06T19:40:37.295134Z"
    }
   },
   "outputs": [],
   "source": [
    "# convert labels\n",
    "labels = train_ds['train'].features['label'].names\n",
    "label2id, id2label = dict(), dict()\n",
    "\n",
    "for i, label in enumerate(labels):\n",
    "    label2id[label] = i\n",
    "    id2label[i] = label"
   ]
  },
  {
   "cell_type": "code",
   "execution_count": 11,
   "metadata": {
    "execution": {
     "iopub.execute_input": "2023-03-06T19:40:37.306285Z",
     "iopub.status.busy": "2023-03-06T19:40:37.305482Z",
     "iopub.status.idle": "2023-03-06T19:40:37.323790Z",
     "shell.execute_reply": "2023-03-06T19:40:37.322376Z",
     "shell.execute_reply.started": "2023-03-06T19:40:37.306249Z"
    }
   },
   "outputs": [
    {
     "data": {
      "text/plain": [
       "{'akiec': 0, 'bcc': 1, 'bkl': 2, 'df': 3, 'mel': 4, 'nv': 5, 'vasc': 6}"
      ]
     },
     "execution_count": 11,
     "metadata": {},
     "output_type": "execute_result"
    }
   ],
   "source": [
    "label2id"
   ]
  },
  {
   "cell_type": "code",
   "execution_count": 12,
   "metadata": {
    "execution": {
     "iopub.execute_input": "2023-03-06T19:40:37.326693Z",
     "iopub.status.busy": "2023-03-06T19:40:37.325910Z",
     "iopub.status.idle": "2023-03-06T19:40:37.336809Z",
     "shell.execute_reply": "2023-03-06T19:40:37.335672Z",
     "shell.execute_reply.started": "2023-03-06T19:40:37.326655Z"
    }
   },
   "outputs": [
    {
     "data": {
      "text/plain": [
       "{0: 'akiec', 1: 'bcc', 2: 'bkl', 3: 'df', 4: 'mel', 5: 'nv', 6: 'vasc'}"
      ]
     },
     "execution_count": 12,
     "metadata": {},
     "output_type": "execute_result"
    }
   ],
   "source": [
    "id2label"
   ]
  },
  {
   "cell_type": "markdown",
   "metadata": {},
   "source": [
    "### ConvNeXt"
   ]
  },
  {
   "cell_type": "code",
   "execution_count": 13,
   "metadata": {
    "execution": {
     "iopub.execute_input": "2023-03-06T19:40:37.339615Z",
     "iopub.status.busy": "2023-03-06T19:40:37.338855Z",
     "iopub.status.idle": "2023-03-06T19:40:37.353245Z",
     "shell.execute_reply": "2023-03-06T19:40:37.352216Z",
     "shell.execute_reply.started": "2023-03-06T19:40:37.339577Z"
    }
   },
   "outputs": [
    {
     "name": "stdout",
     "output_type": "stream",
     "text": [
      "Folder already exist!\n"
     ]
    }
   ],
   "source": [
    "# download pre-trained model for fine-tuning\n",
    "\n",
    "######## kaggle ########\n",
    "# path = '/kaggle/working/ConvNeXt'\n",
    "\n",
    "######## desktop ########\n",
    "path = os.path.abspath('../../../../repository/ConvNeXt')\n",
    "\n",
    "if os.path.exists(path):\n",
    "    print(\"Folder already exist!\")\n",
    "else:\n",
    "    os.makedirs(path)\n",
    "    print(\"Folder successfully created!\")\n",
    "    !git lfs install\n",
    "    git.Git(path).clone('https://huggingface.co/facebook/convnext-tiny-224')\n",
    "    print(\"Repository successfully cloned!\")"
   ]
  },
  {
   "cell_type": "code",
   "execution_count": 14,
   "metadata": {
    "execution": {
     "iopub.execute_input": "2023-03-06T19:40:37.367032Z",
     "iopub.status.busy": "2023-03-06T19:40:37.366356Z",
     "iopub.status.idle": "2023-03-06T19:40:37.948365Z",
     "shell.execute_reply": "2023-03-06T19:40:37.947227Z",
     "shell.execute_reply.started": "2023-03-06T19:40:37.366998Z"
    }
   },
   "outputs": [
    {
     "name": "stderr",
     "output_type": "stream",
     "text": [
      "C:\\Anaconda\\anaconda3\\envs\\csf-model\\lib\\site-packages\\transformers\\models\\convnext\\feature_extraction_convnext.py:28: FutureWarning: The class ConvNextFeatureExtractor is deprecated and will be removed in version 5 of Transformers. Please use ConvNextImageProcessor instead.\n",
      "  warnings.warn(\n",
      "Some weights of ConvNextForImageClassification were not initialized from the model checkpoint at D:\\Research\\Archive\\cossif\\repository\\ConvNeXt\\convnext-tiny-224 and are newly initialized because the shapes did not match:\n",
      "- classifier.weight: found shape torch.Size([1000, 768]) in the checkpoint and torch.Size([7, 768]) in the model instantiated\n",
      "- classifier.bias: found shape torch.Size([1000]) in the checkpoint and torch.Size([7]) in the model instantiated\n",
      "You should probably TRAIN this model on a down-stream task to be able to use it for predictions and inference.\n"
     ]
    }
   ],
   "source": [
    "# load pre-trained model for fine-tuning\n",
    "\n",
    "######## kaggle ########\n",
    "# model_checkpoint = '/kaggle/working/ConvNeXt/convnext-tiny-224'\n",
    "\n",
    "######## desktop ########\n",
    "model_checkpoint = os.path.abspath('../../../../repository/ConvNeXt/convnext-tiny-224')\n",
    "\n",
    "# feature extractor\n",
    "feature_extractor = AutoFeatureExtractor.from_pretrained(model_checkpoint)\n",
    "\n",
    "# ConvNeXt model\n",
    "model = AutoModelForImageClassification.from_pretrained(\n",
    "    model_checkpoint, \n",
    "    label2id=label2id,\n",
    "    id2label=id2label,\n",
    "    ignore_mismatched_sizes=True, \n",
    ")"
   ]
  },
  {
   "cell_type": "code",
   "execution_count": 15,
   "metadata": {
    "execution": {
     "iopub.execute_input": "2023-03-06T19:40:37.954987Z",
     "iopub.status.busy": "2023-03-06T19:40:37.952658Z",
     "iopub.status.idle": "2023-03-06T19:40:37.965457Z",
     "shell.execute_reply": "2023-03-06T19:40:37.964427Z",
     "shell.execute_reply.started": "2023-03-06T19:40:37.954947Z"
    }
   },
   "outputs": [
    {
     "name": "stdout",
     "output_type": "stream",
     "text": [
      "Number of trainable parameters for ConvNeXt model:  27.825511 million\n"
     ]
    }
   ],
   "source": [
    "# number of trainable parameters\n",
    "trainable_parameters = sum(p.numel() for p in model.parameters() if p.requires_grad)\n",
    "print('Number of trainable parameters for ConvNeXt model: ', '{0:.6f}'.format(trainable_parameters/1000000), 'million')"
   ]
  },
  {
   "cell_type": "code",
   "execution_count": 16,
   "metadata": {
    "execution": {
     "iopub.execute_input": "2023-03-06T19:40:37.972643Z",
     "iopub.status.busy": "2023-03-06T19:40:37.970351Z",
     "iopub.status.idle": "2023-03-06T19:40:37.985817Z",
     "shell.execute_reply": "2023-03-06T19:40:37.984671Z",
     "shell.execute_reply.started": "2023-03-06T19:40:37.972605Z"
    }
   },
   "outputs": [
    {
     "data": {
      "text/plain": [
       "ConvNextForImageClassification(\n",
       "  (convnext): ConvNextModel(\n",
       "    (embeddings): ConvNextEmbeddings(\n",
       "      (patch_embeddings): Conv2d(3, 96, kernel_size=(4, 4), stride=(4, 4))\n",
       "      (layernorm): ConvNextLayerNorm()\n",
       "    )\n",
       "    (encoder): ConvNextEncoder(\n",
       "      (stages): ModuleList(\n",
       "        (0): ConvNextStage(\n",
       "          (downsampling_layer): Identity()\n",
       "          (layers): Sequential(\n",
       "            (0): ConvNextLayer(\n",
       "              (dwconv): Conv2d(96, 96, kernel_size=(7, 7), stride=(1, 1), padding=(3, 3), groups=96)\n",
       "              (layernorm): ConvNextLayerNorm()\n",
       "              (pwconv1): Linear(in_features=96, out_features=384, bias=True)\n",
       "              (act): GELUActivation()\n",
       "              (pwconv2): Linear(in_features=384, out_features=96, bias=True)\n",
       "              (drop_path): Identity()\n",
       "            )\n",
       "            (1): ConvNextLayer(\n",
       "              (dwconv): Conv2d(96, 96, kernel_size=(7, 7), stride=(1, 1), padding=(3, 3), groups=96)\n",
       "              (layernorm): ConvNextLayerNorm()\n",
       "              (pwconv1): Linear(in_features=96, out_features=384, bias=True)\n",
       "              (act): GELUActivation()\n",
       "              (pwconv2): Linear(in_features=384, out_features=96, bias=True)\n",
       "              (drop_path): Identity()\n",
       "            )\n",
       "            (2): ConvNextLayer(\n",
       "              (dwconv): Conv2d(96, 96, kernel_size=(7, 7), stride=(1, 1), padding=(3, 3), groups=96)\n",
       "              (layernorm): ConvNextLayerNorm()\n",
       "              (pwconv1): Linear(in_features=96, out_features=384, bias=True)\n",
       "              (act): GELUActivation()\n",
       "              (pwconv2): Linear(in_features=384, out_features=96, bias=True)\n",
       "              (drop_path): Identity()\n",
       "            )\n",
       "          )\n",
       "        )\n",
       "        (1): ConvNextStage(\n",
       "          (downsampling_layer): Sequential(\n",
       "            (0): ConvNextLayerNorm()\n",
       "            (1): Conv2d(96, 192, kernel_size=(2, 2), stride=(2, 2))\n",
       "          )\n",
       "          (layers): Sequential(\n",
       "            (0): ConvNextLayer(\n",
       "              (dwconv): Conv2d(192, 192, kernel_size=(7, 7), stride=(1, 1), padding=(3, 3), groups=192)\n",
       "              (layernorm): ConvNextLayerNorm()\n",
       "              (pwconv1): Linear(in_features=192, out_features=768, bias=True)\n",
       "              (act): GELUActivation()\n",
       "              (pwconv2): Linear(in_features=768, out_features=192, bias=True)\n",
       "              (drop_path): Identity()\n",
       "            )\n",
       "            (1): ConvNextLayer(\n",
       "              (dwconv): Conv2d(192, 192, kernel_size=(7, 7), stride=(1, 1), padding=(3, 3), groups=192)\n",
       "              (layernorm): ConvNextLayerNorm()\n",
       "              (pwconv1): Linear(in_features=192, out_features=768, bias=True)\n",
       "              (act): GELUActivation()\n",
       "              (pwconv2): Linear(in_features=768, out_features=192, bias=True)\n",
       "              (drop_path): Identity()\n",
       "            )\n",
       "            (2): ConvNextLayer(\n",
       "              (dwconv): Conv2d(192, 192, kernel_size=(7, 7), stride=(1, 1), padding=(3, 3), groups=192)\n",
       "              (layernorm): ConvNextLayerNorm()\n",
       "              (pwconv1): Linear(in_features=192, out_features=768, bias=True)\n",
       "              (act): GELUActivation()\n",
       "              (pwconv2): Linear(in_features=768, out_features=192, bias=True)\n",
       "              (drop_path): Identity()\n",
       "            )\n",
       "          )\n",
       "        )\n",
       "        (2): ConvNextStage(\n",
       "          (downsampling_layer): Sequential(\n",
       "            (0): ConvNextLayerNorm()\n",
       "            (1): Conv2d(192, 384, kernel_size=(2, 2), stride=(2, 2))\n",
       "          )\n",
       "          (layers): Sequential(\n",
       "            (0): ConvNextLayer(\n",
       "              (dwconv): Conv2d(384, 384, kernel_size=(7, 7), stride=(1, 1), padding=(3, 3), groups=384)\n",
       "              (layernorm): ConvNextLayerNorm()\n",
       "              (pwconv1): Linear(in_features=384, out_features=1536, bias=True)\n",
       "              (act): GELUActivation()\n",
       "              (pwconv2): Linear(in_features=1536, out_features=384, bias=True)\n",
       "              (drop_path): Identity()\n",
       "            )\n",
       "            (1): ConvNextLayer(\n",
       "              (dwconv): Conv2d(384, 384, kernel_size=(7, 7), stride=(1, 1), padding=(3, 3), groups=384)\n",
       "              (layernorm): ConvNextLayerNorm()\n",
       "              (pwconv1): Linear(in_features=384, out_features=1536, bias=True)\n",
       "              (act): GELUActivation()\n",
       "              (pwconv2): Linear(in_features=1536, out_features=384, bias=True)\n",
       "              (drop_path): Identity()\n",
       "            )\n",
       "            (2): ConvNextLayer(\n",
       "              (dwconv): Conv2d(384, 384, kernel_size=(7, 7), stride=(1, 1), padding=(3, 3), groups=384)\n",
       "              (layernorm): ConvNextLayerNorm()\n",
       "              (pwconv1): Linear(in_features=384, out_features=1536, bias=True)\n",
       "              (act): GELUActivation()\n",
       "              (pwconv2): Linear(in_features=1536, out_features=384, bias=True)\n",
       "              (drop_path): Identity()\n",
       "            )\n",
       "            (3): ConvNextLayer(\n",
       "              (dwconv): Conv2d(384, 384, kernel_size=(7, 7), stride=(1, 1), padding=(3, 3), groups=384)\n",
       "              (layernorm): ConvNextLayerNorm()\n",
       "              (pwconv1): Linear(in_features=384, out_features=1536, bias=True)\n",
       "              (act): GELUActivation()\n",
       "              (pwconv2): Linear(in_features=1536, out_features=384, bias=True)\n",
       "              (drop_path): Identity()\n",
       "            )\n",
       "            (4): ConvNextLayer(\n",
       "              (dwconv): Conv2d(384, 384, kernel_size=(7, 7), stride=(1, 1), padding=(3, 3), groups=384)\n",
       "              (layernorm): ConvNextLayerNorm()\n",
       "              (pwconv1): Linear(in_features=384, out_features=1536, bias=True)\n",
       "              (act): GELUActivation()\n",
       "              (pwconv2): Linear(in_features=1536, out_features=384, bias=True)\n",
       "              (drop_path): Identity()\n",
       "            )\n",
       "            (5): ConvNextLayer(\n",
       "              (dwconv): Conv2d(384, 384, kernel_size=(7, 7), stride=(1, 1), padding=(3, 3), groups=384)\n",
       "              (layernorm): ConvNextLayerNorm()\n",
       "              (pwconv1): Linear(in_features=384, out_features=1536, bias=True)\n",
       "              (act): GELUActivation()\n",
       "              (pwconv2): Linear(in_features=1536, out_features=384, bias=True)\n",
       "              (drop_path): Identity()\n",
       "            )\n",
       "            (6): ConvNextLayer(\n",
       "              (dwconv): Conv2d(384, 384, kernel_size=(7, 7), stride=(1, 1), padding=(3, 3), groups=384)\n",
       "              (layernorm): ConvNextLayerNorm()\n",
       "              (pwconv1): Linear(in_features=384, out_features=1536, bias=True)\n",
       "              (act): GELUActivation()\n",
       "              (pwconv2): Linear(in_features=1536, out_features=384, bias=True)\n",
       "              (drop_path): Identity()\n",
       "            )\n",
       "            (7): ConvNextLayer(\n",
       "              (dwconv): Conv2d(384, 384, kernel_size=(7, 7), stride=(1, 1), padding=(3, 3), groups=384)\n",
       "              (layernorm): ConvNextLayerNorm()\n",
       "              (pwconv1): Linear(in_features=384, out_features=1536, bias=True)\n",
       "              (act): GELUActivation()\n",
       "              (pwconv2): Linear(in_features=1536, out_features=384, bias=True)\n",
       "              (drop_path): Identity()\n",
       "            )\n",
       "            (8): ConvNextLayer(\n",
       "              (dwconv): Conv2d(384, 384, kernel_size=(7, 7), stride=(1, 1), padding=(3, 3), groups=384)\n",
       "              (layernorm): ConvNextLayerNorm()\n",
       "              (pwconv1): Linear(in_features=384, out_features=1536, bias=True)\n",
       "              (act): GELUActivation()\n",
       "              (pwconv2): Linear(in_features=1536, out_features=384, bias=True)\n",
       "              (drop_path): Identity()\n",
       "            )\n",
       "          )\n",
       "        )\n",
       "        (3): ConvNextStage(\n",
       "          (downsampling_layer): Sequential(\n",
       "            (0): ConvNextLayerNorm()\n",
       "            (1): Conv2d(384, 768, kernel_size=(2, 2), stride=(2, 2))\n",
       "          )\n",
       "          (layers): Sequential(\n",
       "            (0): ConvNextLayer(\n",
       "              (dwconv): Conv2d(768, 768, kernel_size=(7, 7), stride=(1, 1), padding=(3, 3), groups=768)\n",
       "              (layernorm): ConvNextLayerNorm()\n",
       "              (pwconv1): Linear(in_features=768, out_features=3072, bias=True)\n",
       "              (act): GELUActivation()\n",
       "              (pwconv2): Linear(in_features=3072, out_features=768, bias=True)\n",
       "              (drop_path): Identity()\n",
       "            )\n",
       "            (1): ConvNextLayer(\n",
       "              (dwconv): Conv2d(768, 768, kernel_size=(7, 7), stride=(1, 1), padding=(3, 3), groups=768)\n",
       "              (layernorm): ConvNextLayerNorm()\n",
       "              (pwconv1): Linear(in_features=768, out_features=3072, bias=True)\n",
       "              (act): GELUActivation()\n",
       "              (pwconv2): Linear(in_features=3072, out_features=768, bias=True)\n",
       "              (drop_path): Identity()\n",
       "            )\n",
       "            (2): ConvNextLayer(\n",
       "              (dwconv): Conv2d(768, 768, kernel_size=(7, 7), stride=(1, 1), padding=(3, 3), groups=768)\n",
       "              (layernorm): ConvNextLayerNorm()\n",
       "              (pwconv1): Linear(in_features=768, out_features=3072, bias=True)\n",
       "              (act): GELUActivation()\n",
       "              (pwconv2): Linear(in_features=3072, out_features=768, bias=True)\n",
       "              (drop_path): Identity()\n",
       "            )\n",
       "          )\n",
       "        )\n",
       "      )\n",
       "    )\n",
       "    (layernorm): LayerNorm((768,), eps=1e-12, elementwise_affine=True)\n",
       "  )\n",
       "  (classifier): Linear(in_features=768, out_features=7, bias=True)\n",
       ")"
      ]
     },
     "execution_count": 16,
     "metadata": {},
     "output_type": "execute_result"
    }
   ],
   "source": [
    "# summary of the model\n",
    "model"
   ]
  },
  {
   "cell_type": "code",
   "execution_count": 17,
   "metadata": {
    "execution": {
     "iopub.execute_input": "2023-03-06T19:40:37.992330Z",
     "iopub.status.busy": "2023-03-06T19:40:37.990069Z",
     "iopub.status.idle": "2023-03-06T19:40:38.002210Z",
     "shell.execute_reply": "2023-03-06T19:40:38.001166Z",
     "shell.execute_reply.started": "2023-03-06T19:40:37.992293Z"
    }
   },
   "outputs": [],
   "source": [
    "normalize = Normalize(\n",
    "    mean=feature_extractor.image_mean, \n",
    "    std=feature_extractor.image_std\n",
    ")\n",
    "\n",
    "######## kaggle ########\n",
    "# size = feature_extractor.size\n",
    "\n",
    "######## desktop ########\n",
    "size = feature_extractor.size['shortest_edge']\n",
    "\n",
    "train_transform = Compose([\n",
    "    Resize(size),\n",
    "    ToTensor(),\n",
    "    normalize,\n",
    "])\n",
    "\n",
    "val_transform = Compose([\n",
    "    Resize(size),\n",
    "    ToTensor(),\n",
    "    normalize,\n",
    "])\n",
    "\n",
    "def preprocess_train(example_batch):\n",
    "    example_batch[\"pixel_values\"] = [train_transform(image.convert(\"RGB\")) for image in example_batch[\"image\"]]\n",
    "    return example_batch\n",
    "\n",
    "def preprocess_val(example_batch):\n",
    "    example_batch[\"pixel_values\"] = [val_transform(image.convert(\"RGB\")) for image in example_batch[\"image\"]]\n",
    "    return example_batch"
   ]
  },
  {
   "cell_type": "code",
   "execution_count": 18,
   "metadata": {
    "execution": {
     "iopub.execute_input": "2023-03-06T19:40:38.010093Z",
     "iopub.status.busy": "2023-03-06T19:40:38.007643Z",
     "iopub.status.idle": "2023-03-06T19:40:38.018160Z",
     "shell.execute_reply": "2023-03-06T19:40:38.016755Z",
     "shell.execute_reply.started": "2023-03-06T19:40:38.010056Z"
    }
   },
   "outputs": [],
   "source": [
    "train_set = train_ds['train']\n",
    "val_set = val_ds['train']\n",
    "\n",
    "train_set.set_transform(preprocess_train)\n",
    "val_set.set_transform(preprocess_val)"
   ]
  },
  {
   "cell_type": "code",
   "execution_count": 19,
   "metadata": {},
   "outputs": [],
   "source": [
    "######## desktop ########\n",
    "model_dir = os.path.abspath('../../../../models/HAM10000/ConvNeXt/ham10000-convnext-fagt-alpha-3')"
   ]
  },
  {
   "cell_type": "code",
   "execution_count": 20,
   "metadata": {
    "execution": {
     "iopub.execute_input": "2023-03-06T19:40:38.025946Z",
     "iopub.status.busy": "2023-03-06T19:40:38.024694Z",
     "iopub.status.idle": "2023-03-06T19:40:38.065971Z",
     "shell.execute_reply": "2023-03-06T19:40:38.065234Z",
     "shell.execute_reply.started": "2023-03-06T19:40:38.025908Z"
    }
   },
   "outputs": [],
   "source": [
    "batch_size=32\n",
    "lr=5e-5\n",
    "epochs=10\n",
    "\n",
    "######## kaggle ########\n",
    "# output_dir = '/kaggle/working/saved_model'\n",
    "\n",
    "######## desktop ########\n",
    "output_dir = os.path.join(model_dir, 'saved_model')\n",
    "\n",
    "args = TrainingArguments(\n",
    "    output_dir=output_dir,\n",
    "    remove_unused_columns=False,\n",
    "    evaluation_strategy = 'steps',\n",
    "    eval_steps=10,\n",
    "    save_strategy = 'steps',\n",
    "    save_steps=10,\n",
    "    learning_rate=lr,\n",
    "    per_device_train_batch_size=batch_size,\n",
    "    per_device_eval_batch_size=batch_size,\n",
    "    gradient_accumulation_steps=4,\n",
    "    num_train_epochs=epochs,\n",
    "    optim='adamw_torch',\n",
    "    warmup_ratio=0.1,\n",
    "    logging_steps=10,\n",
    "    load_best_model_at_end=True,\n",
    "    metric_for_best_model='f1',\n",
    "    save_total_limit=1,\n",
    "    push_to_hub=False,\n",
    "    report_to='none'\n",
    ")"
   ]
  },
  {
   "cell_type": "code",
   "execution_count": 21,
   "metadata": {
    "execution": {
     "iopub.execute_input": "2023-03-06T19:40:38.069660Z",
     "iopub.status.busy": "2023-03-06T19:40:38.069085Z",
     "iopub.status.idle": "2023-03-06T19:40:38.077243Z",
     "shell.execute_reply": "2023-03-06T19:40:38.076060Z",
     "shell.execute_reply.started": "2023-03-06T19:40:38.069620Z"
    }
   },
   "outputs": [],
   "source": [
    "def compute_sensitivity(y_true_flat, y_pred_flat):\n",
    "    cm=confusion_matrix(y_true_flat, y_pred_flat)\n",
    "    FP = cm.sum(axis=0) - np.diag(cm)  \n",
    "    FN = cm.sum(axis=1) - np.diag(cm)\n",
    "    TP = np.diag(cm)\n",
    "    TN = cm.sum() - (FP + FN + TP)\n",
    "    Sensitivity = TP/(TP+FN)    \n",
    "    return np.mean(Sensitivity)\n",
    "\n",
    "def compute_specificity(y_true_flat, y_pred_flat):\n",
    "    cm=confusion_matrix(y_true_flat, y_pred_flat)\n",
    "    FP = cm.sum(axis=0) - np.diag(cm)  \n",
    "    FN = cm.sum(axis=1) - np.diag(cm)\n",
    "    TP = np.diag(cm)\n",
    "    TN = cm.sum() - (FP + FN + TP)\n",
    "    Specificity = TN/(TN+FP)    \n",
    "    return np.mean(Specificity)"
   ]
  },
  {
   "cell_type": "code",
   "execution_count": 22,
   "metadata": {
    "execution": {
     "iopub.execute_input": "2023-03-06T19:40:38.079781Z",
     "iopub.status.busy": "2023-03-06T19:40:38.079391Z",
     "iopub.status.idle": "2023-03-06T19:40:38.090831Z",
     "shell.execute_reply": "2023-03-06T19:40:38.089840Z",
     "shell.execute_reply.started": "2023-03-06T19:40:38.079740Z"
    }
   },
   "outputs": [],
   "source": [
    "def compute_metrics(eval_pred):\n",
    "    logits, y_true_flat = eval_pred\n",
    "    y_pred_flat = np.argmax(logits, axis=1)\n",
    "    \n",
    "    sensitivity = compute_sensitivity(y_true_flat, y_pred_flat)\n",
    "    specificity = compute_specificity(y_true_flat, y_pred_flat)\n",
    "    \n",
    "    precision = float('{0:.6f}'.format(precision_score(y_true_flat, y_pred_flat, average='macro')))\n",
    "    recall = float('{0:.6f}'.format(recall_score(y_true_flat, y_pred_flat, average='macro')))\n",
    "    f1 = float('{0:.6f}'.format(f1_score(y_true_flat, y_pred_flat, average='macro')))\n",
    "    accuracy = float('{0:.6f}'.format(accuracy_score(y_true_flat, y_pred_flat)))\n",
    "\n",
    "    return {'precision': precision, \n",
    "            'recall': recall, \n",
    "            'f1': f1, \n",
    "            'sensitivity': sensitivity, \n",
    "            'specificity': specificity,\n",
    "            'accuracy': accuracy\n",
    "           }\n",
    "\n",
    "def collate_fn(examples):\n",
    "    pixel_values = torch.stack([example[\"pixel_values\"] for example in examples])\n",
    "    labels = torch.tensor([example[\"label\"] for example in examples])\n",
    "    return {\"pixel_values\": pixel_values, \"labels\": labels}"
   ]
  },
  {
   "cell_type": "markdown",
   "metadata": {},
   "source": [
    "## Train"
   ]
  },
  {
   "cell_type": "code",
   "execution_count": 23,
   "metadata": {
    "execution": {
     "iopub.execute_input": "2023-03-06T19:40:38.092938Z",
     "iopub.status.busy": "2023-03-06T19:40:38.092434Z",
     "iopub.status.idle": "2023-03-06T19:40:40.166197Z",
     "shell.execute_reply": "2023-03-06T19:40:40.165123Z",
     "shell.execute_reply.started": "2023-03-06T19:40:38.092778Z"
    }
   },
   "outputs": [],
   "source": [
    "trainer = Trainer(\n",
    "    model=model,\n",
    "    args=args,\n",
    "    train_dataset=train_set,\n",
    "    eval_dataset=val_set,\n",
    "    tokenizer=feature_extractor,\n",
    "    compute_metrics=compute_metrics,\n",
    "    data_collator=collate_fn\n",
    ")"
   ]
  },
  {
   "cell_type": "code",
   "execution_count": 24,
   "metadata": {
    "execution": {
     "iopub.execute_input": "2023-03-06T19:40:40.168350Z",
     "iopub.status.busy": "2023-03-06T19:40:40.167868Z",
     "iopub.status.idle": "2023-03-06T19:40:40.174887Z",
     "shell.execute_reply": "2023-03-06T19:40:40.173782Z",
     "shell.execute_reply.started": "2023-03-06T19:40:40.168307Z"
    }
   },
   "outputs": [],
   "source": [
    "# # train model\n",
    "# trainer.train()\n",
    "\n",
    "# # creating downloads directory\n",
    "# downloads = '/kaggle/working/downloads'\n",
    "\n",
    "# if os.path.isdir(downloads):\n",
    "#     print('Folder already exists!')\n",
    "# else:\n",
    "#     os.makedirs(downloads)\n",
    "#     print('Folder created!')\n",
    "\n",
    "# # save best model\n",
    "# trainer.save_model(downloads)\n",
    "\n",
    "# # save training log\n",
    "# df = pd.DataFrame(trainer.state.log_history)\n",
    "# df.to_csv('/kaggle/working/downloads/training_log.csv')"
   ]
  },
  {
   "cell_type": "markdown",
   "metadata": {},
   "source": [
    "## Read CSV"
   ]
  },
  {
   "cell_type": "code",
   "execution_count": 25,
   "metadata": {
    "execution": {
     "iopub.execute_input": "2023-03-06T19:40:40.177284Z",
     "iopub.status.busy": "2023-03-06T19:40:40.176240Z",
     "iopub.status.idle": "2023-03-06T19:40:40.204058Z",
     "shell.execute_reply": "2023-03-06T19:40:40.203162Z",
     "shell.execute_reply.started": "2023-03-06T19:40:40.177239Z"
    }
   },
   "outputs": [
    {
     "data": {
      "text/html": [
       "<div>\n",
       "<style scoped>\n",
       "    .dataframe tbody tr th:only-of-type {\n",
       "        vertical-align: middle;\n",
       "    }\n",
       "\n",
       "    .dataframe tbody tr th {\n",
       "        vertical-align: top;\n",
       "    }\n",
       "\n",
       "    .dataframe thead th {\n",
       "        text-align: right;\n",
       "    }\n",
       "</style>\n",
       "<table border=\"1\" class=\"dataframe\">\n",
       "  <thead>\n",
       "    <tr style=\"text-align: right;\">\n",
       "      <th></th>\n",
       "      <th>Precision</th>\n",
       "      <th>Recall</th>\n",
       "      <th>F1-Score</th>\n",
       "      <th>Sensitivity</th>\n",
       "      <th>Specificity</th>\n",
       "      <th>Accuracy</th>\n",
       "    </tr>\n",
       "  </thead>\n",
       "  <tbody>\n",
       "    <tr>\n",
       "      <th>1</th>\n",
       "      <td>0.206077</td>\n",
       "      <td>0.194813</td>\n",
       "      <td>0.145663</td>\n",
       "      <td>0.194813</td>\n",
       "      <td>0.857998</td>\n",
       "      <td>0.439614</td>\n",
       "    </tr>\n",
       "    <tr>\n",
       "      <th>3</th>\n",
       "      <td>0.208079</td>\n",
       "      <td>0.199769</td>\n",
       "      <td>0.150656</td>\n",
       "      <td>0.199769</td>\n",
       "      <td>0.861379</td>\n",
       "      <td>0.467391</td>\n",
       "    </tr>\n",
       "    <tr>\n",
       "      <th>5</th>\n",
       "      <td>0.211121</td>\n",
       "      <td>0.209142</td>\n",
       "      <td>0.157214</td>\n",
       "      <td>0.209142</td>\n",
       "      <td>0.865768</td>\n",
       "      <td>0.497585</td>\n",
       "    </tr>\n",
       "    <tr>\n",
       "      <th>7</th>\n",
       "      <td>0.211725</td>\n",
       "      <td>0.207348</td>\n",
       "      <td>0.160475</td>\n",
       "      <td>0.207348</td>\n",
       "      <td>0.874583</td>\n",
       "      <td>0.543478</td>\n",
       "    </tr>\n",
       "    <tr>\n",
       "      <th>9</th>\n",
       "      <td>0.215771</td>\n",
       "      <td>0.210256</td>\n",
       "      <td>0.166901</td>\n",
       "      <td>0.210256</td>\n",
       "      <td>0.882399</td>\n",
       "      <td>0.582126</td>\n",
       "    </tr>\n",
       "    <tr>\n",
       "      <th>11</th>\n",
       "      <td>0.219579</td>\n",
       "      <td>0.234820</td>\n",
       "      <td>0.173076</td>\n",
       "      <td>0.234820</td>\n",
       "      <td>0.887873</td>\n",
       "      <td>0.609903</td>\n",
       "    </tr>\n",
       "    <tr>\n",
       "      <th>13</th>\n",
       "      <td>0.191191</td>\n",
       "      <td>0.240638</td>\n",
       "      <td>0.178548</td>\n",
       "      <td>0.240638</td>\n",
       "      <td>0.893395</td>\n",
       "      <td>0.642512</td>\n",
       "    </tr>\n",
       "    <tr>\n",
       "      <th>15</th>\n",
       "      <td>0.259441</td>\n",
       "      <td>0.293342</td>\n",
       "      <td>0.241768</td>\n",
       "      <td>0.293342</td>\n",
       "      <td>0.899218</td>\n",
       "      <td>0.721014</td>\n",
       "    </tr>\n",
       "    <tr>\n",
       "      <th>17</th>\n",
       "      <td>0.290083</td>\n",
       "      <td>0.276002</td>\n",
       "      <td>0.237078</td>\n",
       "      <td>0.276002</td>\n",
       "      <td>0.897116</td>\n",
       "      <td>0.758454</td>\n",
       "    </tr>\n",
       "    <tr>\n",
       "      <th>19</th>\n",
       "      <td>0.401278</td>\n",
       "      <td>0.288570</td>\n",
       "      <td>0.261886</td>\n",
       "      <td>0.288570</td>\n",
       "      <td>0.893732</td>\n",
       "      <td>0.772947</td>\n",
       "    </tr>\n",
       "  </tbody>\n",
       "</table>\n",
       "</div>"
      ],
      "text/plain": [
       "    Precision    Recall  F1-Score  Sensitivity  Specificity  Accuracy\n",
       "1    0.206077  0.194813  0.145663     0.194813     0.857998  0.439614\n",
       "3    0.208079  0.199769  0.150656     0.199769     0.861379  0.467391\n",
       "5    0.211121  0.209142  0.157214     0.209142     0.865768  0.497585\n",
       "7    0.211725  0.207348  0.160475     0.207348     0.874583  0.543478\n",
       "9    0.215771  0.210256  0.166901     0.210256     0.882399  0.582126\n",
       "11   0.219579  0.234820  0.173076     0.234820     0.887873  0.609903\n",
       "13   0.191191  0.240638  0.178548     0.240638     0.893395  0.642512\n",
       "15   0.259441  0.293342  0.241768     0.293342     0.899218  0.721014\n",
       "17   0.290083  0.276002  0.237078     0.276002     0.897116  0.758454\n",
       "19   0.401278  0.288570  0.261886     0.288570     0.893732  0.772947"
      ]
     },
     "execution_count": 25,
     "metadata": {},
     "output_type": "execute_result"
    }
   ],
   "source": [
    "######## kaggle ########\n",
    "# df = pd.read_csv('/kaggle/working/downloads/training_log.csv')\n",
    "\n",
    "######## desktop ########\n",
    "df = pd.read_csv(os.path.join(model_dir, 'training_log.csv'))\n",
    "df_backup = df\n",
    "\n",
    "# read training log\n",
    "df = df[['eval_precision', \n",
    "         'eval_recall', \n",
    "         'eval_f1', \n",
    "         'eval_sensitivity', \n",
    "         'eval_specificity',\n",
    "         'eval_accuracy'\n",
    "        ]].dropna()\n",
    "\n",
    "# rename columns\n",
    "df.rename(columns={'eval_precision':'Precision', \n",
    "                   'eval_recall':'Recall', \n",
    "                   'eval_f1':'F1-Score', \n",
    "                   'eval_sensitivity':'Sensitivity', \n",
    "                   'eval_specificity':'Specificity', \n",
    "                   'eval_accuracy':'Accuracy'\n",
    "                  }, inplace = True)\n",
    "\n",
    "df.head(10)"
   ]
  },
  {
   "cell_type": "code",
   "execution_count": 26,
   "metadata": {
    "execution": {
     "iopub.execute_input": "2023-03-06T19:40:40.207460Z",
     "iopub.status.busy": "2023-03-06T19:40:40.207198Z",
     "iopub.status.idle": "2023-03-06T19:40:40.223218Z",
     "shell.execute_reply": "2023-03-06T19:40:40.221915Z",
     "shell.execute_reply.started": "2023-03-06T19:40:40.207435Z"
    }
   },
   "outputs": [
    {
     "data": {
      "text/html": [
       "<div>\n",
       "<style scoped>\n",
       "    .dataframe tbody tr th:only-of-type {\n",
       "        vertical-align: middle;\n",
       "    }\n",
       "\n",
       "    .dataframe tbody tr th {\n",
       "        vertical-align: top;\n",
       "    }\n",
       "\n",
       "    .dataframe thead th {\n",
       "        text-align: right;\n",
       "    }\n",
       "</style>\n",
       "<table border=\"1\" class=\"dataframe\">\n",
       "  <thead>\n",
       "    <tr style=\"text-align: right;\">\n",
       "      <th></th>\n",
       "      <th>Precision</th>\n",
       "      <th>Recall</th>\n",
       "      <th>F1-Score</th>\n",
       "      <th>Sensitivity</th>\n",
       "      <th>Specificity</th>\n",
       "      <th>Accuracy</th>\n",
       "    </tr>\n",
       "  </thead>\n",
       "  <tbody>\n",
       "    <tr>\n",
       "      <th>591</th>\n",
       "      <td>0.868663</td>\n",
       "      <td>0.818013</td>\n",
       "      <td>0.840568</td>\n",
       "      <td>0.818013</td>\n",
       "      <td>0.983407</td>\n",
       "      <td>0.944444</td>\n",
       "    </tr>\n",
       "    <tr>\n",
       "      <th>589</th>\n",
       "      <td>0.868013</td>\n",
       "      <td>0.815848</td>\n",
       "      <td>0.839180</td>\n",
       "      <td>0.815848</td>\n",
       "      <td>0.982541</td>\n",
       "      <td>0.943237</td>\n",
       "    </tr>\n",
       "    <tr>\n",
       "      <th>495</th>\n",
       "      <td>0.871042</td>\n",
       "      <td>0.816413</td>\n",
       "      <td>0.839057</td>\n",
       "      <td>0.816413</td>\n",
       "      <td>0.983934</td>\n",
       "      <td>0.948068</td>\n",
       "    </tr>\n",
       "    <tr>\n",
       "      <th>567</th>\n",
       "      <td>0.857533</td>\n",
       "      <td>0.824291</td>\n",
       "      <td>0.838591</td>\n",
       "      <td>0.824291</td>\n",
       "      <td>0.985131</td>\n",
       "      <td>0.946860</td>\n",
       "    </tr>\n",
       "    <tr>\n",
       "      <th>553</th>\n",
       "      <td>0.850953</td>\n",
       "      <td>0.822342</td>\n",
       "      <td>0.834836</td>\n",
       "      <td>0.822342</td>\n",
       "      <td>0.985143</td>\n",
       "      <td>0.946860</td>\n",
       "    </tr>\n",
       "    <tr>\n",
       "      <th>559</th>\n",
       "      <td>0.849574</td>\n",
       "      <td>0.822215</td>\n",
       "      <td>0.834176</td>\n",
       "      <td>0.822215</td>\n",
       "      <td>0.983609</td>\n",
       "      <td>0.945652</td>\n",
       "    </tr>\n",
       "    <tr>\n",
       "      <th>557</th>\n",
       "      <td>0.849574</td>\n",
       "      <td>0.822215</td>\n",
       "      <td>0.834176</td>\n",
       "      <td>0.822215</td>\n",
       "      <td>0.983609</td>\n",
       "      <td>0.945652</td>\n",
       "    </tr>\n",
       "    <tr>\n",
       "      <th>555</th>\n",
       "      <td>0.850326</td>\n",
       "      <td>0.820177</td>\n",
       "      <td>0.833486</td>\n",
       "      <td>0.820177</td>\n",
       "      <td>0.984277</td>\n",
       "      <td>0.945652</td>\n",
       "    </tr>\n",
       "    <tr>\n",
       "      <th>659</th>\n",
       "      <td>0.847810</td>\n",
       "      <td>0.822342</td>\n",
       "      <td>0.833362</td>\n",
       "      <td>0.822342</td>\n",
       "      <td>0.985153</td>\n",
       "      <td>0.946860</td>\n",
       "    </tr>\n",
       "    <tr>\n",
       "      <th>657</th>\n",
       "      <td>0.847810</td>\n",
       "      <td>0.822342</td>\n",
       "      <td>0.833362</td>\n",
       "      <td>0.822342</td>\n",
       "      <td>0.985153</td>\n",
       "      <td>0.946860</td>\n",
       "    </tr>\n",
       "  </tbody>\n",
       "</table>\n",
       "</div>"
      ],
      "text/plain": [
       "     Precision    Recall  F1-Score  Sensitivity  Specificity  Accuracy\n",
       "591   0.868663  0.818013  0.840568     0.818013     0.983407  0.944444\n",
       "589   0.868013  0.815848  0.839180     0.815848     0.982541  0.943237\n",
       "495   0.871042  0.816413  0.839057     0.816413     0.983934  0.948068\n",
       "567   0.857533  0.824291  0.838591     0.824291     0.985131  0.946860\n",
       "553   0.850953  0.822342  0.834836     0.822342     0.985143  0.946860\n",
       "559   0.849574  0.822215  0.834176     0.822215     0.983609  0.945652\n",
       "557   0.849574  0.822215  0.834176     0.822215     0.983609  0.945652\n",
       "555   0.850326  0.820177  0.833486     0.820177     0.984277  0.945652\n",
       "659   0.847810  0.822342  0.833362     0.822342     0.985153  0.946860\n",
       "657   0.847810  0.822342  0.833362     0.822342     0.985153  0.946860"
      ]
     },
     "execution_count": 26,
     "metadata": {},
     "output_type": "execute_result"
    }
   ],
   "source": [
    "# sort training log\n",
    "df_sort = df.sort_values('F1-Score', ascending=False)\n",
    "df_sort.head(10)"
   ]
  },
  {
   "cell_type": "markdown",
   "metadata": {},
   "source": [
    "## Performance Index"
   ]
  },
  {
   "cell_type": "code",
   "execution_count": 27,
   "metadata": {
    "execution": {
     "iopub.execute_input": "2023-03-06T19:40:40.225649Z",
     "iopub.status.busy": "2023-03-06T19:40:40.225199Z",
     "iopub.status.idle": "2023-03-06T19:40:40.673387Z",
     "shell.execute_reply": "2023-03-06T19:40:40.672046Z",
     "shell.execute_reply.started": "2023-03-06T19:40:40.225612Z"
    }
   },
   "outputs": [
    {
     "data": {
      "image/png": "[encoded data removed]",
      "text/plain": [
       "<Figure size 600x400 with 1 Axes>"
      ]
     },
     "metadata": {},
     "output_type": "display_data"
    }
   ],
   "source": [
    "fig, ax = plt.subplots(figsize=(6, 4))\n",
    "\n",
    "x = df['F1-Score'].index.values.tolist()\n",
    "y = df['F1-Score'].values.tolist()\n",
    "\n",
    "plt.plot(x, y, lw=2)\n",
    "\n",
    "# Find the index and coordinates of the highest point\n",
    "idx = np.argmax(y)\n",
    "x_max = x[idx]\n",
    "y_max = y[idx]\n",
    "\n",
    "xlim, ylim = plt.xlim(), plt.ylim()\n",
    "plt.plot([x[idx], x[idx], xlim[0]], [xlim[0], y[idx], y[idx]], linestyle=\"--\")\n",
    "plt.xlim(xlim)\n",
    "plt.ylim(ylim)\n",
    "\n",
    "plt.annotate(\n",
    "    'F1-Score {0:.4f}'.format(max(y)), \n",
    "    xy=(x_max, y_max), \n",
    "    xytext=(x_max + 10, y_max - 0.02),  \n",
    "    bbox=dict(boxstyle=\"round4\", fc=\"w\"),\n",
    "    arrowprops=dict(arrowstyle=\"-|>\", connectionstyle=\"arc3, rad=-0.2\", fc=\"w\")\n",
    ")\n",
    "\n",
    "plt.title('ConvNeXt+FAGT+α=0.85')\n",
    "plt.legend(['F1-Score', 'X and Y'], loc='lower right')\n",
    "plt.xlabel('Steps')\n",
    "plt.ylabel('F1-Score')\n",
    "plt.show()"
   ]
  },
  {
   "cell_type": "markdown",
   "metadata": {},
   "source": [
    "## Training Time"
   ]
  },
  {
   "cell_type": "code",
   "execution_count": 28,
   "metadata": {},
   "outputs": [
    {
     "name": "stdout",
     "output_type": "stream",
     "text": [
      "Training Time: 2:13:42\n"
     ]
    }
   ],
   "source": [
    "# training time \n",
    "last_row = df_backup.iloc[-1]\n",
    "column_value = last_row['train_runtime']\n",
    "\n",
    "# convert seconds to hours, minutes, and seconds\n",
    "hours = int(column_value // 3600)\n",
    "seconds_remaining = column_value % 3600\n",
    "minutes = int(seconds_remaining // 60)\n",
    "seconds = int(seconds_remaining % 60)\n",
    "\n",
    "# print training time\n",
    "print(f\"Training Time: {hours}:{minutes}:{seconds}\")"
   ]
  },
  {
   "cell_type": "markdown",
   "metadata": {},
   "source": [
    "## Test"
   ]
  },
  {
   "cell_type": "code",
   "execution_count": 29,
   "metadata": {
    "execution": {
     "iopub.execute_input": "2023-03-06T19:40:40.676042Z",
     "iopub.status.busy": "2023-03-06T19:40:40.675207Z",
     "iopub.status.idle": "2023-03-06T19:40:40.683310Z",
     "shell.execute_reply": "2023-03-06T19:40:40.681746Z",
     "shell.execute_reply.started": "2023-03-06T19:40:40.676000Z"
    }
   },
   "outputs": [],
   "source": [
    "######## kaggle ########\n",
    "# save_path = '/kaggle/working/downloads'\n",
    "# load_model = save_path\n",
    "\n",
    "######## desktop ########\n",
    "save_path = os.path.join(model_dir, 'saved_model')\n",
    "load_model = save_path"
   ]
  },
  {
   "cell_type": "code",
   "execution_count": 30,
   "metadata": {
    "execution": {
     "iopub.execute_input": "2023-03-06T19:40:40.685841Z",
     "iopub.status.busy": "2023-03-06T19:40:40.685426Z",
     "iopub.status.idle": "2023-03-06T19:40:41.067985Z",
     "shell.execute_reply": "2023-03-06T19:40:41.067043Z",
     "shell.execute_reply.started": "2023-03-06T19:40:40.685801Z"
    },
    "scrolled": true
   },
   "outputs": [],
   "source": [
    "trained_model = AutoModelForImageClassification.from_pretrained(\n",
    "    load_model, \n",
    "    label2id=label2id,\n",
    "    id2label=id2label,\n",
    "    ignore_mismatched_sizes = True, \n",
    ")"
   ]
  },
  {
   "cell_type": "code",
   "execution_count": 31,
   "metadata": {
    "execution": {
     "iopub.execute_input": "2023-03-06T19:40:41.070175Z",
     "iopub.status.busy": "2023-03-06T19:40:41.069792Z",
     "iopub.status.idle": "2023-03-06T19:40:41.111940Z",
     "shell.execute_reply": "2023-03-06T19:40:41.110935Z",
     "shell.execute_reply.started": "2023-03-06T19:40:41.070134Z"
    }
   },
   "outputs": [],
   "source": [
    "tester = Trainer(\n",
    "    model=trained_model,\n",
    "    args=args,\n",
    "    train_dataset=train_set,\n",
    "    eval_dataset=val_set,\n",
    "    tokenizer=feature_extractor,\n",
    "    compute_metrics=compute_metrics,\n",
    "    data_collator=collate_fn\n",
    ")"
   ]
  },
  {
   "cell_type": "code",
   "execution_count": 32,
   "metadata": {
    "execution": {
     "iopub.execute_input": "2023-03-06T19:40:41.114006Z",
     "iopub.status.busy": "2023-03-06T19:40:41.113604Z",
     "iopub.status.idle": "2023-03-06T19:40:47.626742Z",
     "shell.execute_reply": "2023-03-06T19:40:47.625757Z",
     "shell.execute_reply.started": "2023-03-06T19:40:41.113968Z"
    },
    "scrolled": true
   },
   "outputs": [
    {
     "data": {
      "text/html": [],
      "text/plain": [
       "<IPython.core.display.HTML object>"
      ]
     },
     "metadata": {},
     "output_type": "display_data"
    },
    {
     "data": {
      "text/plain": [
       "{'eval_loss': 0.2788839042186737,\n",
       " 'eval_precision': 0.868663,\n",
       " 'eval_recall': 0.818013,\n",
       " 'eval_f1': 0.840568,\n",
       " 'eval_sensitivity': 0.8180129333582019,\n",
       " 'eval_specificity': 0.9834067726117492,\n",
       " 'eval_accuracy': 0.944444,\n",
       " 'eval_runtime': 6.6827,\n",
       " 'eval_samples_per_second': 123.902,\n",
       " 'eval_steps_per_second': 3.891}"
      ]
     },
     "execution_count": 32,
     "metadata": {},
     "output_type": "execute_result"
    }
   ],
   "source": [
    "tester.evaluate()"
   ]
  },
  {
   "cell_type": "code",
   "execution_count": 33,
   "metadata": {
    "execution": {
     "iopub.execute_input": "2023-03-06T19:40:47.629348Z",
     "iopub.status.busy": "2023-03-06T19:40:47.628542Z",
     "iopub.status.idle": "2023-03-06T19:40:53.151092Z",
     "shell.execute_reply": "2023-03-06T19:40:53.149769Z",
     "shell.execute_reply.started": "2023-03-06T19:40:47.629307Z"
    }
   },
   "outputs": [],
   "source": [
    "predictions = tester.predict(test_dataset=val_set).predictions"
   ]
  },
  {
   "cell_type": "code",
   "execution_count": 34,
   "metadata": {
    "execution": {
     "iopub.execute_input": "2023-03-06T19:40:53.153344Z",
     "iopub.status.busy": "2023-03-06T19:40:53.152508Z",
     "iopub.status.idle": "2023-03-06T19:40:53.162146Z",
     "shell.execute_reply": "2023-03-06T19:40:53.160849Z",
     "shell.execute_reply.started": "2023-03-06T19:40:53.153300Z"
    }
   },
   "outputs": [],
   "source": [
    "def to_categorical(y, num_classes):\n",
    "    \"\"\" 1-hot encoding \"\"\"\n",
    "    return np.eye(num_classes, dtype='uint8')[y]\n",
    "\n",
    "def test_set(val_set):\n",
    "    y = []\n",
    "    for i in range(val_set.num_rows):\n",
    "        y.append(val_set[i]['label'])\n",
    "    return np.array(y)"
   ]
  },
  {
   "cell_type": "code",
   "execution_count": 35,
   "metadata": {
    "execution": {
     "iopub.execute_input": "2023-03-06T19:40:53.164527Z",
     "iopub.status.busy": "2023-03-06T19:40:53.164089Z",
     "iopub.status.idle": "2023-03-06T19:40:55.918277Z",
     "shell.execute_reply": "2023-03-06T19:40:55.917226Z",
     "shell.execute_reply.started": "2023-03-06T19:40:53.164487Z"
    }
   },
   "outputs": [],
   "source": [
    "############## true ##############\n",
    "# y_true_flat\n",
    "y_true_flat = test_set(val_set)\n",
    "\n",
    "# y_true\n",
    "y_true = to_categorical(y_true_flat, 7)\n",
    "\n",
    "############## predicted ##############\n",
    "# y_pred_flat\n",
    "y_pred_flat = np.argmax(predictions, axis=-1)\n",
    "\n",
    "# y_pred\n",
    "y_pred = predictions"
   ]
  },
  {
   "cell_type": "code",
   "execution_count": 36,
   "metadata": {
    "execution": {
     "iopub.execute_input": "2023-03-06T19:40:55.920136Z",
     "iopub.status.busy": "2023-03-06T19:40:55.919757Z",
     "iopub.status.idle": "2023-03-06T19:40:55.942247Z",
     "shell.execute_reply": "2023-03-06T19:40:55.941165Z",
     "shell.execute_reply.started": "2023-03-06T19:40:55.920093Z"
    }
   },
   "outputs": [
    {
     "name": "stdout",
     "output_type": "stream",
     "text": [
      "akiec AUC:  0.9848\n",
      "bcc AUC:  0.9977\n",
      "bkl AUC:  0.9472\n",
      "df AUC:  0.9968\n",
      "mel AUC:  0.9095\n",
      "nv AUC:  0.9928\n",
      "vasc AUC:  0.9994\n"
     ]
    }
   ],
   "source": [
    "############## ROC AUC ##############\n",
    "classes = ['akiec', 'bcc', 'bkl', 'df', 'mel', 'nv', 'vasc']\n",
    "\n",
    "for i in range(7):\n",
    "    print(f\"{classes[i]} AUC: \", '{0:.4f}'.format(roc_auc_score(y_true[:, i], y_pred[:, i])))"
   ]
  },
  {
   "cell_type": "code",
   "execution_count": 37,
   "metadata": {},
   "outputs": [
    {
     "name": "stdout",
     "output_type": "stream",
     "text": [
      "Average AUC:  97.54%\n"
     ]
    }
   ],
   "source": [
    "print(\"Average AUC: \", '{0:.2f}%'.format(roc_auc_score(y_true, y_pred)*100))"
   ]
  },
  {
   "cell_type": "code",
   "execution_count": 38,
   "metadata": {
    "execution": {
     "iopub.execute_input": "2023-03-06T19:40:55.945278Z",
     "iopub.status.busy": "2023-03-06T19:40:55.944684Z",
     "iopub.status.idle": "2023-03-06T19:40:56.375038Z",
     "shell.execute_reply": "2023-03-06T19:40:56.374076Z",
     "shell.execute_reply.started": "2023-03-06T19:40:55.945239Z"
    }
   },
   "outputs": [
    {
     "data": {
      "image/png": "[encoded data removed]",
      "text/plain": [
       "<Figure size 700x500 with 1 Axes>"
      ]
     },
     "metadata": {},
     "output_type": "display_data"
    }
   ],
   "source": [
    "############## AUC ##############\n",
    "fig, ax = plt.subplots(figsize=(7, 5))\n",
    "\n",
    "classes = ['akiec', 'bcc', 'bkl', 'df', 'mel', 'nv', 'vasc']\n",
    "colours = ['mediumorchid', 'royalblue', 'deepskyblue', 'green', 'gold', 'red', 'hotpink']\n",
    "\n",
    "for i in range(7):\n",
    "    RocCurveDisplay.from_predictions(\n",
    "        y_true[:, i],\n",
    "        y_pred[:, i],\n",
    "        name=f'ROC curve of {classes[i]}',\n",
    "        color=colours[i],\n",
    "        ax=ax\n",
    "    )\n",
    "\n",
    "plt.plot([0, 1], [0, 1], \"k--\")\n",
    "plt.xlabel(\"False Positive Rate\")\n",
    "plt.ylabel(\"True Positive Rate\")\n",
    "plt.title(\"ConvNeXt+FAGT+α=0.85\")\n",
    "plt.legend()\n",
    "plt.show()"
   ]
  },
  {
   "cell_type": "code",
   "execution_count": 39,
   "metadata": {
    "execution": {
     "iopub.execute_input": "2023-03-06T19:40:56.376668Z",
     "iopub.status.busy": "2023-03-06T19:40:56.376321Z",
     "iopub.status.idle": "2023-03-06T19:40:56.389683Z",
     "shell.execute_reply": "2023-03-06T19:40:56.388492Z",
     "shell.execute_reply.started": "2023-03-06T19:40:56.376628Z"
    }
   },
   "outputs": [
    {
     "name": "stdout",
     "output_type": "stream",
     "text": [
      "\n",
      "Classification Report:\n",
      "              precision    recall  f1-score   support\n",
      "\n",
      "       akiec       0.77      0.74      0.76        23\n",
      "         bcc       0.85      0.85      0.85        26\n",
      "         bkl       0.79      0.82      0.81        66\n",
      "          df       1.00      0.83      0.91         6\n",
      "         mel       0.69      0.71      0.70        34\n",
      "          nv       0.98      0.98      0.98       663\n",
      "        vasc       1.00      0.80      0.89        10\n",
      "\n",
      "    accuracy                           0.94       828\n",
      "   macro avg       0.87      0.82      0.84       828\n",
      "weighted avg       0.95      0.94      0.94       828\n",
      "\n"
     ]
    }
   ],
   "source": [
    "classes = ['akiec', 'bcc', 'bkl', 'df', 'mel', 'nv', 'vasc']\n",
    "\n",
    "report = classification_report(y_true_flat, y_pred_flat, target_names=classes)\n",
    "\n",
    "print(\"\\nClassification Report:\")\n",
    "print(report)"
   ]
  },
  {
   "cell_type": "code",
   "execution_count": 40,
   "metadata": {
    "execution": {
     "iopub.execute_input": "2023-03-06T19:40:56.391496Z",
     "iopub.status.busy": "2023-03-06T19:40:56.391082Z",
     "iopub.status.idle": "2023-03-06T19:40:56.415874Z",
     "shell.execute_reply": "2023-03-06T19:40:56.415002Z",
     "shell.execute_reply.started": "2023-03-06T19:40:56.391459Z"
    }
   },
   "outputs": [
    {
     "data": {
      "text/html": [
       "<style type=\"text/css\">\n",
       "</style>\n",
       "<table id=\"T_aede3\">\n",
       "  <thead>\n",
       "    <tr>\n",
       "      <th id=\"T_aede3_level0_col0\" class=\"col_heading level0 col0\" >Precision (%)</th>\n",
       "      <th id=\"T_aede3_level0_col1\" class=\"col_heading level0 col1\" >Recall (%)</th>\n",
       "      <th id=\"T_aede3_level0_col2\" class=\"col_heading level0 col2\" >F1-Score (%)</th>\n",
       "      <th id=\"T_aede3_level0_col3\" class=\"col_heading level0 col3\" >Accuracy (%)</th>\n",
       "      <th id=\"T_aede3_level0_col4\" class=\"col_heading level0 col4\" >Sensitivity (%)</th>\n",
       "      <th id=\"T_aede3_level0_col5\" class=\"col_heading level0 col5\" >Specificity (%)</th>\n",
       "    </tr>\n",
       "  </thead>\n",
       "  <tbody>\n",
       "    <tr>\n",
       "      <td id=\"T_aede3_row0_col0\" class=\"data row0 col0\" >86.87</td>\n",
       "      <td id=\"T_aede3_row0_col1\" class=\"data row0 col1\" >81.80</td>\n",
       "      <td id=\"T_aede3_row0_col2\" class=\"data row0 col2\" >84.06</td>\n",
       "      <td id=\"T_aede3_row0_col3\" class=\"data row0 col3\" >94.44</td>\n",
       "      <td id=\"T_aede3_row0_col4\" class=\"data row0 col4\" >81.80</td>\n",
       "      <td id=\"T_aede3_row0_col5\" class=\"data row0 col5\" >98.34</td>\n",
       "    </tr>\n",
       "  </tbody>\n",
       "</table>\n"
      ],
      "text/plain": [
       "<pandas.io.formats.style.Styler at 0x25a5ed54a90>"
      ]
     },
     "execution_count": 40,
     "metadata": {},
     "output_type": "execute_result"
    }
   ],
   "source": [
    "sensitivity = '{0:.2f}'.format(compute_sensitivity(y_true_flat, y_pred_flat)*100)\n",
    "specificity = '{0:.2f}'.format(compute_specificity(y_true_flat, y_pred_flat)*100)\n",
    "    \n",
    "precision = '{0:.2f}'.format(precision_score(y_true_flat, y_pred_flat, average='macro')*100)\n",
    "recall = '{0:.2f}'.format(recall_score(y_true_flat, y_pred_flat, average='macro')*100)\n",
    "f1 = '{0:.2f}'.format(f1_score(y_true_flat, y_pred_flat, average='macro')*100)\n",
    "accuracy = '{0:.2f}'.format(accuracy_score(y_true_flat, y_pred_flat)*100)\n",
    "\n",
    "matrix_log = [[precision, recall, f1, accuracy, sensitivity, specificity]]\n",
    "df_result = pd.DataFrame(\n",
    "    matrix_log, \n",
    "    columns=[\n",
    "        'Precision (%)',\n",
    "        'Recall (%)', \n",
    "        'F1-Score (%)',\n",
    "        'Accuracy (%)', \n",
    "        'Sensitivity (%)', \n",
    "        'Specificity (%)'\n",
    "    ])\n",
    "\n",
    "df_result = df_result.style.hide(axis='index')\n",
    "df_result"
   ]
  },
  {
   "cell_type": "code",
   "execution_count": 41,
   "metadata": {
    "execution": {
     "iopub.execute_input": "2023-03-06T19:40:56.418193Z",
     "iopub.status.busy": "2023-03-06T19:40:56.417351Z",
     "iopub.status.idle": "2023-03-06T19:40:57.109594Z",
     "shell.execute_reply": "2023-03-06T19:40:57.108634Z",
     "shell.execute_reply.started": "2023-03-06T19:40:56.418158Z"
    }
   },
   "outputs": [
    {
     "data": {
      "image/png": "[encoded data removed]",
      "text/plain": [
       "<Figure size 640x480 with 2 Axes>"
      ]
     },
     "metadata": {},
     "output_type": "display_data"
    }
   ],
   "source": [
    "cnf_matrix = confusion_matrix(y_true_flat, y_pred_flat)\n",
    "\n",
    "group_counts = [\"{0:0.0f}\".format(value) for value in cnf_matrix.flatten()]\n",
    "\n",
    "labels = [f\"{v1}\" for v1 in group_counts]\n",
    "\n",
    "matrix_labels = np.asarray(labels).reshape(7,7)\n",
    "axis_labels = ['akiec', 'bcc', 'bkl', 'df', 'mel', 'nv', 'vasc']\n",
    "\n",
    "ax = sns.heatmap(\n",
    "    cnf_matrix, \n",
    "    annot=matrix_labels, \n",
    "    fmt='',  \n",
    "    cmap='PuRd', \n",
    "    linewidths=0.1, \n",
    "    linecolor=(191/255, 62/255, 98/255),\n",
    "    xticklabels=axis_labels, \n",
    "    yticklabels=axis_labels\n",
    ")\n",
    "\n",
    "sns_figure = ax.set(xlabel='Predicted label', ylabel='True label', title='ConvNeXt+FAGT+α=0.85')"
   ]
  },
  {
   "cell_type": "code",
   "execution_count": 42,
   "metadata": {
    "execution": {
     "iopub.execute_input": "2023-03-06T19:40:57.112077Z",
     "iopub.status.busy": "2023-03-06T19:40:57.110868Z",
     "iopub.status.idle": "2023-03-06T19:41:03.062563Z",
     "shell.execute_reply": "2023-03-06T19:41:03.061405Z",
     "shell.execute_reply.started": "2023-03-06T19:40:57.112035Z"
    }
   },
   "outputs": [],
   "source": [
    "######## kaggle ########\n",
    "# downloads = '/kaggle/working/downloads'\n",
    "\n",
    "# source = downloads\n",
    "# destination = downloads\n",
    "\n",
    "# shutil.make_archive(destination, 'zip', source)"
   ]
  },
  {
   "cell_type": "code",
   "execution_count": 43,
   "metadata": {},
   "outputs": [],
   "source": [
    "############################# kaggle ##############################\n",
    "# Download the script and folder named 'downloads'.               # \n",
    "#                                                                 #\n",
    "# The 'downloads' folder contains:                                #\n",
    "#  - the training log file (training_log.csv)                     #\n",
    "#  - the trained model (saved_model)                              #\n",
    "#                                                                 #\n",
    "# Rename the 'downloads' folder to the associated script name.    #\n",
    "#                                                                 # \n",
    "# Move the renamed folder and the script to the current workspace.#\n",
    "# ----------------------------------------------------------------#\n",
    "# - models                                                        #\n",
    "#  - HAM10000                                                     #\n",
    "#   - Swin-Transformer                                            #\n",
    "#    - ham10000-convnext-fagt-alpha-3                             #\n",
    "# ----------------------------------------------------------------#\n",
    "# - scripts                                                       #\n",
    "#  - HAM10000                                                     #\n",
    "#   - HAM10000_model_train                                        #\n",
    "#    - Swin-Transformer                                           #\n",
    "#     - ham10000-convnext-fagt-alpha-3.ipynb                      #\n",
    "###################################################################"
   ]
  }
 ],
 "metadata": {
  "kernelspec": {
   "display_name": "Python (csf-model)",
   "language": "python",
   "name": "csf-model"
  },
  "language_info": {
   "codemirror_mode": {
    "name": "ipython",
    "version": 3
   },
   "file_extension": ".py",
   "mimetype": "text/x-python",
   "name": "python",
   "nbconvert_exporter": "python",
   "pygments_lexer": "ipython3",
   "version": "3.10.9"
  }
 },
 "nbformat": 4,
 "nbformat_minor": 4
}
