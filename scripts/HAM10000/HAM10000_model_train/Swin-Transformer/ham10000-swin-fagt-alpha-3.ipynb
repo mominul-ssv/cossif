{
 "cells": [
  {
   "cell_type": "code",
   "execution_count": 1,
   "metadata": {},
   "outputs": [],
   "source": [
    "##############################\n",
    "# train with kaggle P100 GPU #\n",
    "##############################"
   ]
  },
  {
   "cell_type": "markdown",
   "metadata": {},
   "source": [
    "### Import Libraries"
   ]
  },
  {
   "cell_type": "code",
   "execution_count": 2,
   "metadata": {
    "execution": {
     "iopub.execute_input": "2023-02-27T11:45:04.764144Z",
     "iopub.status.busy": "2023-02-27T11:45:04.763616Z",
     "iopub.status.idle": "2023-02-27T11:45:13.582510Z",
     "shell.execute_reply": "2023-02-27T11:45:13.581485Z",
     "shell.execute_reply.started": "2023-02-27T11:45:04.764039Z"
    }
   },
   "outputs": [],
   "source": [
    "# general libraries\n",
    "import os\n",
    "import git\n",
    "import shutil\n",
    "import numpy as np\n",
    "import pandas as pd\n",
    "import seaborn as sns\n",
    "\n",
    "# hugging face libraries\n",
    "from datasets import load_dataset\n",
    "from transformers import (\n",
    "    AutoFeatureExtractor,\n",
    "    AutoModelForImageClassification, \n",
    "    TrainingArguments, \n",
    "    Trainer\n",
    ")\n",
    "\n",
    "# pytorch libraries\n",
    "import torch\n",
    "from torchvision.transforms import (\n",
    "    Compose, \n",
    "    Normalize,\n",
    "    Resize,\n",
    "    ToTensor\n",
    ")\n",
    "\n",
    "# scikit-learn libraries\n",
    "from sklearn.metrics import (\n",
    "    roc_auc_score,\n",
    "    precision_score,\n",
    "    recall_score,\n",
    "    f1_score,\n",
    "    accuracy_score,\n",
    "    classification_report,\n",
    "    confusion_matrix,\n",
    "    RocCurveDisplay\n",
    ")\n",
    "\n",
    "# plotting libraries\n",
    "from  matplotlib import pyplot as plt\n",
    "%matplotlib inline"
   ]
  },
  {
   "cell_type": "markdown",
   "metadata": {},
   "source": [
    "### Load Dataset"
   ]
  },
  {
   "cell_type": "code",
   "execution_count": 3,
   "metadata": {
    "execution": {
     "iopub.execute_input": "2023-02-27T11:45:13.585576Z",
     "iopub.status.busy": "2023-02-27T11:45:13.584481Z",
     "iopub.status.idle": "2023-02-27T11:45:13.592529Z",
     "shell.execute_reply": "2023-02-27T11:45:13.589769Z",
     "shell.execute_reply.started": "2023-02-27T11:45:13.585536Z"
    }
   },
   "outputs": [],
   "source": [
    "# dataset directory\n",
    "######## kaggle ########\n",
    "# train_dir = '/kaggle/input/ham10000-model-train-fagt-alpha-3'\n",
    "# test_dir = '/kaggle/input/ham10000-model-test'\n",
    "\n",
    "######## desktop ########\n",
    "dataset_dir = os.path.abspath('../../../../datasets/HAM10000')\n",
    "train_dir = os.path.join(dataset_dir, 'dataset-processed/dataset-models/ham10000-model-train-fagt-alpha-3')\n",
    "test_dir = os.path.join(dataset_dir, 'split/test')"
   ]
  },
  {
   "cell_type": "code",
   "execution_count": 4,
   "metadata": {
    "execution": {
     "iopub.execute_input": "2023-02-27T11:45:13.595411Z",
     "iopub.status.busy": "2023-02-27T11:45:13.594618Z",
     "iopub.status.idle": "2023-02-27T11:51:43.857350Z",
     "shell.execute_reply": "2023-02-27T11:51:43.856219Z",
     "shell.execute_reply.started": "2023-02-27T11:45:13.595376Z"
    }
   },
   "outputs": [
    {
     "data": {
      "application/vnd.jupyter.widget-view+json": {
       "model_id": "1102da03b773473a8752aaca705c0459",
       "version_major": 2,
       "version_minor": 0
      },
      "text/plain": [
       "Resolving data files:   0%|          | 0/42294 [00:00<?, ?it/s]"
      ]
     },
     "metadata": {},
     "output_type": "display_data"
    },
    {
     "name": "stderr",
     "output_type": "stream",
     "text": [
      "Found cached dataset imagefolder (C:/Users/Mominul Islam/.cache/huggingface/datasets/imagefolder/ham10000-model-train-fagt-alpha-3-ffbbd03344cbd479/0.0.0/37fbb85cc714a338bea574ac6c7d0b5be5aff46c1862c1989b20e0771199e93f)\n"
     ]
    },
    {
     "data": {
      "application/vnd.jupyter.widget-view+json": {
       "model_id": "1d74cd0a21cf4d81af8880a94eabe446",
       "version_major": 2,
       "version_minor": 0
      },
      "text/plain": [
       "  0%|          | 0/1 [00:00<?, ?it/s]"
      ]
     },
     "metadata": {},
     "output_type": "display_data"
    },
    {
     "data": {
      "application/vnd.jupyter.widget-view+json": {
       "model_id": "3b547836bcd5465eb8834df925776bff",
       "version_major": 2,
       "version_minor": 0
      },
      "text/plain": [
       "Resolving data files:   0%|          | 0/828 [00:00<?, ?it/s]"
      ]
     },
     "metadata": {},
     "output_type": "display_data"
    },
    {
     "name": "stderr",
     "output_type": "stream",
     "text": [
      "Found cached dataset imagefolder (C:/Users/Mominul Islam/.cache/huggingface/datasets/imagefolder/test-3bd1957c35eba2af/0.0.0/37fbb85cc714a338bea574ac6c7d0b5be5aff46c1862c1989b20e0771199e93f)\n"
     ]
    },
    {
     "data": {
      "application/vnd.jupyter.widget-view+json": {
       "model_id": "a3ee306b92154ed899783cb50d68e940",
       "version_major": 2,
       "version_minor": 0
      },
      "text/plain": [
       "  0%|          | 0/1 [00:00<?, ?it/s]"
      ]
     },
     "metadata": {},
     "output_type": "display_data"
    }
   ],
   "source": [
    "# load dataset\n",
    "train_ds = load_dataset(train_dir)\n",
    "val_ds = load_dataset(test_dir)"
   ]
  },
  {
   "cell_type": "code",
   "execution_count": 5,
   "metadata": {
    "execution": {
     "iopub.execute_input": "2023-02-27T11:51:43.861348Z",
     "iopub.status.busy": "2023-02-27T11:51:43.860381Z",
     "iopub.status.idle": "2023-02-27T11:51:43.868293Z",
     "shell.execute_reply": "2023-02-27T11:51:43.867085Z",
     "shell.execute_reply.started": "2023-02-27T11:51:43.861308Z"
    }
   },
   "outputs": [
    {
     "name": "stdout",
     "output_type": "stream",
     "text": [
      "train_ds:  DatasetDict({\n",
      "    train: Dataset({\n",
      "        features: ['image', 'label'],\n",
      "        num_rows: 42294\n",
      "    })\n",
      "})\n",
      "val_ds:  DatasetDict({\n",
      "    train: Dataset({\n",
      "        features: ['image', 'label'],\n",
      "        num_rows: 828\n",
      "    })\n",
      "})\n"
     ]
    }
   ],
   "source": [
    "# loaded dataset structure\n",
    "print('train_ds: ', train_ds)\n",
    "print('val_ds: ', val_ds)"
   ]
  },
  {
   "cell_type": "code",
   "execution_count": 6,
   "metadata": {
    "execution": {
     "iopub.execute_input": "2023-02-27T11:51:43.870728Z",
     "iopub.status.busy": "2023-02-27T11:51:43.870234Z",
     "iopub.status.idle": "2023-02-27T11:51:43.883744Z",
     "shell.execute_reply": "2023-02-27T11:51:43.882612Z",
     "shell.execute_reply.started": "2023-02-27T11:51:43.870692Z"
    }
   },
   "outputs": [
    {
     "name": "stdout",
     "output_type": "stream",
     "text": [
      "Training Samples:  42294\n",
      "Validation Samples:  828\n"
     ]
    }
   ],
   "source": [
    "# num of training and validation samples\n",
    "print('Training Samples: ', train_ds['train'].num_rows)\n",
    "print('Validation Samples: ', val_ds['train'].num_rows)"
   ]
  },
  {
   "cell_type": "code",
   "execution_count": 7,
   "metadata": {
    "execution": {
     "iopub.execute_input": "2023-02-27T11:51:43.885990Z",
     "iopub.status.busy": "2023-02-27T11:51:43.885613Z",
     "iopub.status.idle": "2023-02-27T11:51:43.897166Z",
     "shell.execute_reply": "2023-02-27T11:51:43.896218Z",
     "shell.execute_reply.started": "2023-02-27T11:51:43.885932Z"
    }
   },
   "outputs": [
    {
     "data": {
      "text/plain": [
       "ClassLabel(names=['akiec', 'bcc', 'bkl', 'df', 'mel', 'nv', 'vasc'], id=None)"
      ]
     },
     "execution_count": 7,
     "metadata": {},
     "output_type": "execute_result"
    }
   ],
   "source": [
    "# num of features\n",
    "train_ds['train'].features['label']"
   ]
  },
  {
   "cell_type": "code",
   "execution_count": 8,
   "metadata": {
    "execution": {
     "iopub.execute_input": "2023-02-27T11:51:43.899175Z",
     "iopub.status.busy": "2023-02-27T11:51:43.898638Z",
     "iopub.status.idle": "2023-02-27T11:51:43.950768Z",
     "shell.execute_reply": "2023-02-27T11:51:43.949887Z",
     "shell.execute_reply.started": "2023-02-27T11:51:43.899108Z"
    }
   },
   "outputs": [
    {
     "data": {
      "image/png": "[encoded data removed]",
      "text/plain": [
       "<PIL.JpegImagePlugin.JpegImageFile image mode=RGB size=256x256>"
      ]
     },
     "execution_count": 8,
     "metadata": {},
     "output_type": "execute_result"
    }
   ],
   "source": [
    "# show image\n",
    "train_ds['train'][42]['image']"
   ]
  },
  {
   "cell_type": "code",
   "execution_count": 9,
   "metadata": {
    "execution": {
     "iopub.execute_input": "2023-02-27T11:51:43.951955Z",
     "iopub.status.busy": "2023-02-27T11:51:43.951635Z",
     "iopub.status.idle": "2023-02-27T11:51:43.962408Z",
     "shell.execute_reply": "2023-02-27T11:51:43.961392Z",
     "shell.execute_reply.started": "2023-02-27T11:51:43.951921Z"
    }
   },
   "outputs": [
    {
     "data": {
      "text/plain": [
       "0"
      ]
     },
     "execution_count": 9,
     "metadata": {},
     "output_type": "execute_result"
    }
   ],
   "source": [
    "# show label\n",
    "train_ds['train'][42]['label']"
   ]
  },
  {
   "cell_type": "code",
   "execution_count": 10,
   "metadata": {
    "execution": {
     "iopub.execute_input": "2023-02-27T11:51:43.964670Z",
     "iopub.status.busy": "2023-02-27T11:51:43.964338Z",
     "iopub.status.idle": "2023-02-27T11:51:43.969892Z",
     "shell.execute_reply": "2023-02-27T11:51:43.968843Z",
     "shell.execute_reply.started": "2023-02-27T11:51:43.964637Z"
    }
   },
   "outputs": [],
   "source": [
    "# convert labels\n",
    "labels = train_ds['train'].features['label'].names\n",
    "label2id, id2label = dict(), dict()\n",
    "\n",
    "for i, label in enumerate(labels):\n",
    "    label2id[label] = i\n",
    "    id2label[i] = label"
   ]
  },
  {
   "cell_type": "code",
   "execution_count": 11,
   "metadata": {
    "execution": {
     "iopub.execute_input": "2023-02-27T11:51:43.975568Z",
     "iopub.status.busy": "2023-02-27T11:51:43.975204Z",
     "iopub.status.idle": "2023-02-27T11:51:43.983048Z",
     "shell.execute_reply": "2023-02-27T11:51:43.981815Z",
     "shell.execute_reply.started": "2023-02-27T11:51:43.975543Z"
    }
   },
   "outputs": [
    {
     "data": {
      "text/plain": [
       "{'akiec': 0, 'bcc': 1, 'bkl': 2, 'df': 3, 'mel': 4, 'nv': 5, 'vasc': 6}"
      ]
     },
     "execution_count": 11,
     "metadata": {},
     "output_type": "execute_result"
    }
   ],
   "source": [
    "label2id"
   ]
  },
  {
   "cell_type": "code",
   "execution_count": 12,
   "metadata": {
    "execution": {
     "iopub.execute_input": "2023-02-27T11:51:43.984917Z",
     "iopub.status.busy": "2023-02-27T11:51:43.984345Z",
     "iopub.status.idle": "2023-02-27T11:51:43.993951Z",
     "shell.execute_reply": "2023-02-27T11:51:43.992936Z",
     "shell.execute_reply.started": "2023-02-27T11:51:43.984883Z"
    }
   },
   "outputs": [
    {
     "data": {
      "text/plain": [
       "{0: 'akiec', 1: 'bcc', 2: 'bkl', 3: 'df', 4: 'mel', 5: 'nv', 6: 'vasc'}"
      ]
     },
     "execution_count": 12,
     "metadata": {},
     "output_type": "execute_result"
    }
   ],
   "source": [
    "id2label"
   ]
  },
  {
   "cell_type": "markdown",
   "metadata": {},
   "source": [
    "### Swin-Transformer "
   ]
  },
  {
   "cell_type": "code",
   "execution_count": 13,
   "metadata": {
    "execution": {
     "iopub.execute_input": "2023-02-27T11:51:43.996119Z",
     "iopub.status.busy": "2023-02-27T11:51:43.995465Z",
     "iopub.status.idle": "2023-02-27T11:51:54.957377Z",
     "shell.execute_reply": "2023-02-27T11:51:54.956213Z",
     "shell.execute_reply.started": "2023-02-27T11:51:43.996085Z"
    }
   },
   "outputs": [
    {
     "name": "stdout",
     "output_type": "stream",
     "text": [
      "Folder already exist!\n"
     ]
    }
   ],
   "source": [
    "# download pre-trained model for fine-tuning\n",
    "\n",
    "######## kaggle ########\n",
    "# path = '/kaggle/working/Swin-Transformer'\n",
    "\n",
    "######## desktop ########\n",
    "path = os.path.abspath('../../../../repository/Swin-Transformer')\n",
    "\n",
    "if os.path.exists(path):\n",
    "    print(\"Folder already exist!\")\n",
    "else:\n",
    "    os.makedirs(path)\n",
    "    print(\"Folder successfully created!\")\n",
    "    git.Git(path).clone('https://huggingface.co/microsoft/swin-tiny-patch4-window7-224')\n",
    "    print(\"Repository successfully cloned!\")"
   ]
  },
  {
   "cell_type": "code",
   "execution_count": 14,
   "metadata": {
    "execution": {
     "iopub.execute_input": "2023-02-27T11:51:54.962767Z",
     "iopub.status.busy": "2023-02-27T11:51:54.961207Z",
     "iopub.status.idle": "2023-02-27T11:51:55.500943Z",
     "shell.execute_reply": "2023-02-27T11:51:55.499776Z",
     "shell.execute_reply.started": "2023-02-27T11:51:54.962726Z"
    }
   },
   "outputs": [
    {
     "name": "stderr",
     "output_type": "stream",
     "text": [
      "C:\\Anaconda\\anaconda3\\envs\\csf-model\\lib\\site-packages\\transformers\\models\\vit\\feature_extraction_vit.py:28: FutureWarning: The class ViTFeatureExtractor is deprecated and will be removed in version 5 of Transformers. Please use ViTImageProcessor instead.\n",
      "  warnings.warn(\n",
      "Some weights of SwinForImageClassification were not initialized from the model checkpoint at D:\\Research\\Archive\\cossif\\repository\\Swin-Transformer\\swin-tiny-patch4-window7-224 and are newly initialized because the shapes did not match:\n",
      "- classifier.weight: found shape torch.Size([1000, 768]) in the checkpoint and torch.Size([7, 768]) in the model instantiated\n",
      "- classifier.bias: found shape torch.Size([1000]) in the checkpoint and torch.Size([7]) in the model instantiated\n",
      "You should probably TRAIN this model on a down-stream task to be able to use it for predictions and inference.\n"
     ]
    }
   ],
   "source": [
    "# load pre-trained model for fine-tuning\n",
    "\n",
    "######## kaggle ########\n",
    "# model_checkpoint = '/kaggle/working/Swin-Transformer/swin-tiny-patch4-window7-224'\n",
    "\n",
    "######## desktop ########\n",
    "model_checkpoint = os.path.abspath('../../../../repository/Swin-Transformer/swin-tiny-patch4-window7-224')\n",
    "\n",
    "# feature extractor\n",
    "feature_extractor = AutoFeatureExtractor.from_pretrained(model_checkpoint)\n",
    "\n",
    "# Swin Transformer model\n",
    "model = AutoModelForImageClassification.from_pretrained(\n",
    "    model_checkpoint, \n",
    "    label2id=label2id,\n",
    "    id2label=id2label,\n",
    "    ignore_mismatched_sizes=True, \n",
    ")"
   ]
  },
  {
   "cell_type": "code",
   "execution_count": 15,
   "metadata": {},
   "outputs": [
    {
     "name": "stdout",
     "output_type": "stream",
     "text": [
      "Number of trainable parameters for Swin Transformer model:  27.524737 million\n"
     ]
    }
   ],
   "source": [
    "# number of trainable parameters\n",
    "trainable_parameters = sum(p.numel() for p in model.parameters() if p.requires_grad)\n",
    "print('Number of trainable parameters for Swin Transformer model: ', '{0:.6f}'.format(trainable_parameters/1000000), 'million')"
   ]
  },
  {
   "cell_type": "code",
   "execution_count": 16,
   "metadata": {},
   "outputs": [
    {
     "data": {
      "text/plain": [
       "SwinForImageClassification(\n",
       "  (swin): SwinModel(\n",
       "    (embeddings): SwinEmbeddings(\n",
       "      (patch_embeddings): SwinPatchEmbeddings(\n",
       "        (projection): Conv2d(3, 96, kernel_size=(4, 4), stride=(4, 4))\n",
       "      )\n",
       "      (norm): LayerNorm((96,), eps=1e-05, elementwise_affine=True)\n",
       "      (dropout): Dropout(p=0.0, inplace=False)\n",
       "    )\n",
       "    (encoder): SwinEncoder(\n",
       "      (layers): ModuleList(\n",
       "        (0): SwinStage(\n",
       "          (blocks): ModuleList(\n",
       "            (0-1): 2 x SwinLayer(\n",
       "              (layernorm_before): LayerNorm((96,), eps=1e-05, elementwise_affine=True)\n",
       "              (attention): SwinAttention(\n",
       "                (self): SwinSelfAttention(\n",
       "                  (query): Linear(in_features=96, out_features=96, bias=True)\n",
       "                  (key): Linear(in_features=96, out_features=96, bias=True)\n",
       "                  (value): Linear(in_features=96, out_features=96, bias=True)\n",
       "                  (dropout): Dropout(p=0.0, inplace=False)\n",
       "                )\n",
       "                (output): SwinSelfOutput(\n",
       "                  (dense): Linear(in_features=96, out_features=96, bias=True)\n",
       "                  (dropout): Dropout(p=0.0, inplace=False)\n",
       "                )\n",
       "              )\n",
       "              (drop_path): SwinDropPath(p=0.1)\n",
       "              (layernorm_after): LayerNorm((96,), eps=1e-05, elementwise_affine=True)\n",
       "              (intermediate): SwinIntermediate(\n",
       "                (dense): Linear(in_features=96, out_features=384, bias=True)\n",
       "                (intermediate_act_fn): GELUActivation()\n",
       "              )\n",
       "              (output): SwinOutput(\n",
       "                (dense): Linear(in_features=384, out_features=96, bias=True)\n",
       "                (dropout): Dropout(p=0.0, inplace=False)\n",
       "              )\n",
       "            )\n",
       "          )\n",
       "          (downsample): SwinPatchMerging(\n",
       "            (reduction): Linear(in_features=384, out_features=192, bias=False)\n",
       "            (norm): LayerNorm((384,), eps=1e-05, elementwise_affine=True)\n",
       "          )\n",
       "        )\n",
       "        (1): SwinStage(\n",
       "          (blocks): ModuleList(\n",
       "            (0-1): 2 x SwinLayer(\n",
       "              (layernorm_before): LayerNorm((192,), eps=1e-05, elementwise_affine=True)\n",
       "              (attention): SwinAttention(\n",
       "                (self): SwinSelfAttention(\n",
       "                  (query): Linear(in_features=192, out_features=192, bias=True)\n",
       "                  (key): Linear(in_features=192, out_features=192, bias=True)\n",
       "                  (value): Linear(in_features=192, out_features=192, bias=True)\n",
       "                  (dropout): Dropout(p=0.0, inplace=False)\n",
       "                )\n",
       "                (output): SwinSelfOutput(\n",
       "                  (dense): Linear(in_features=192, out_features=192, bias=True)\n",
       "                  (dropout): Dropout(p=0.0, inplace=False)\n",
       "                )\n",
       "              )\n",
       "              (drop_path): SwinDropPath(p=0.1)\n",
       "              (layernorm_after): LayerNorm((192,), eps=1e-05, elementwise_affine=True)\n",
       "              (intermediate): SwinIntermediate(\n",
       "                (dense): Linear(in_features=192, out_features=768, bias=True)\n",
       "                (intermediate_act_fn): GELUActivation()\n",
       "              )\n",
       "              (output): SwinOutput(\n",
       "                (dense): Linear(in_features=768, out_features=192, bias=True)\n",
       "                (dropout): Dropout(p=0.0, inplace=False)\n",
       "              )\n",
       "            )\n",
       "          )\n",
       "          (downsample): SwinPatchMerging(\n",
       "            (reduction): Linear(in_features=768, out_features=384, bias=False)\n",
       "            (norm): LayerNorm((768,), eps=1e-05, elementwise_affine=True)\n",
       "          )\n",
       "        )\n",
       "        (2): SwinStage(\n",
       "          (blocks): ModuleList(\n",
       "            (0-5): 6 x SwinLayer(\n",
       "              (layernorm_before): LayerNorm((384,), eps=1e-05, elementwise_affine=True)\n",
       "              (attention): SwinAttention(\n",
       "                (self): SwinSelfAttention(\n",
       "                  (query): Linear(in_features=384, out_features=384, bias=True)\n",
       "                  (key): Linear(in_features=384, out_features=384, bias=True)\n",
       "                  (value): Linear(in_features=384, out_features=384, bias=True)\n",
       "                  (dropout): Dropout(p=0.0, inplace=False)\n",
       "                )\n",
       "                (output): SwinSelfOutput(\n",
       "                  (dense): Linear(in_features=384, out_features=384, bias=True)\n",
       "                  (dropout): Dropout(p=0.0, inplace=False)\n",
       "                )\n",
       "              )\n",
       "              (drop_path): SwinDropPath(p=0.1)\n",
       "              (layernorm_after): LayerNorm((384,), eps=1e-05, elementwise_affine=True)\n",
       "              (intermediate): SwinIntermediate(\n",
       "                (dense): Linear(in_features=384, out_features=1536, bias=True)\n",
       "                (intermediate_act_fn): GELUActivation()\n",
       "              )\n",
       "              (output): SwinOutput(\n",
       "                (dense): Linear(in_features=1536, out_features=384, bias=True)\n",
       "                (dropout): Dropout(p=0.0, inplace=False)\n",
       "              )\n",
       "            )\n",
       "          )\n",
       "          (downsample): SwinPatchMerging(\n",
       "            (reduction): Linear(in_features=1536, out_features=768, bias=False)\n",
       "            (norm): LayerNorm((1536,), eps=1e-05, elementwise_affine=True)\n",
       "          )\n",
       "        )\n",
       "        (3): SwinStage(\n",
       "          (blocks): ModuleList(\n",
       "            (0-1): 2 x SwinLayer(\n",
       "              (layernorm_before): LayerNorm((768,), eps=1e-05, elementwise_affine=True)\n",
       "              (attention): SwinAttention(\n",
       "                (self): SwinSelfAttention(\n",
       "                  (query): Linear(in_features=768, out_features=768, bias=True)\n",
       "                  (key): Linear(in_features=768, out_features=768, bias=True)\n",
       "                  (value): Linear(in_features=768, out_features=768, bias=True)\n",
       "                  (dropout): Dropout(p=0.0, inplace=False)\n",
       "                )\n",
       "                (output): SwinSelfOutput(\n",
       "                  (dense): Linear(in_features=768, out_features=768, bias=True)\n",
       "                  (dropout): Dropout(p=0.0, inplace=False)\n",
       "                )\n",
       "              )\n",
       "              (drop_path): SwinDropPath(p=0.1)\n",
       "              (layernorm_after): LayerNorm((768,), eps=1e-05, elementwise_affine=True)\n",
       "              (intermediate): SwinIntermediate(\n",
       "                (dense): Linear(in_features=768, out_features=3072, bias=True)\n",
       "                (intermediate_act_fn): GELUActivation()\n",
       "              )\n",
       "              (output): SwinOutput(\n",
       "                (dense): Linear(in_features=3072, out_features=768, bias=True)\n",
       "                (dropout): Dropout(p=0.0, inplace=False)\n",
       "              )\n",
       "            )\n",
       "          )\n",
       "        )\n",
       "      )\n",
       "    )\n",
       "    (layernorm): LayerNorm((768,), eps=1e-05, elementwise_affine=True)\n",
       "    (pooler): AdaptiveAvgPool1d(output_size=1)\n",
       "  )\n",
       "  (classifier): Linear(in_features=768, out_features=7, bias=True)\n",
       ")"
      ]
     },
     "execution_count": 16,
     "metadata": {},
     "output_type": "execute_result"
    }
   ],
   "source": [
    "# summary of the model\n",
    "model"
   ]
  },
  {
   "cell_type": "code",
   "execution_count": 17,
   "metadata": {
    "execution": {
     "iopub.execute_input": "2023-02-27T11:51:55.503438Z",
     "iopub.status.busy": "2023-02-27T11:51:55.502453Z",
     "iopub.status.idle": "2023-02-27T11:51:55.511584Z",
     "shell.execute_reply": "2023-02-27T11:51:55.510301Z",
     "shell.execute_reply.started": "2023-02-27T11:51:55.503391Z"
    }
   },
   "outputs": [],
   "source": [
    "normalize = Normalize(\n",
    "    mean=feature_extractor.image_mean, \n",
    "    std=feature_extractor.image_std\n",
    ")\n",
    "\n",
    "######## kaggle ########\n",
    "# size = feature_extractor.size\n",
    "\n",
    "######## desktop ########\n",
    "size = feature_extractor.size['height']\n",
    "\n",
    "train_transform = Compose([\n",
    "    Resize(size),\n",
    "    ToTensor(),\n",
    "    normalize,\n",
    "])\n",
    "\n",
    "val_transform = Compose([\n",
    "    Resize(size),\n",
    "    ToTensor(),\n",
    "    normalize,\n",
    "])\n",
    "\n",
    "def preprocess_train(example_batch):\n",
    "    example_batch[\"pixel_values\"] = [train_transform(image.convert(\"RGB\")) for image in example_batch[\"image\"]]\n",
    "    return example_batch\n",
    "\n",
    "def preprocess_val(example_batch):\n",
    "    example_batch[\"pixel_values\"] = [val_transform(image.convert(\"RGB\")) for image in example_batch[\"image\"]]\n",
    "    return example_batch"
   ]
  },
  {
   "cell_type": "code",
   "execution_count": 18,
   "metadata": {
    "execution": {
     "iopub.execute_input": "2023-02-27T11:51:55.513589Z",
     "iopub.status.busy": "2023-02-27T11:51:55.513223Z",
     "iopub.status.idle": "2023-02-27T11:51:55.526390Z",
     "shell.execute_reply": "2023-02-27T11:51:55.525392Z",
     "shell.execute_reply.started": "2023-02-27T11:51:55.513553Z"
    }
   },
   "outputs": [],
   "source": [
    "train_set = train_ds['train']\n",
    "val_set = val_ds['train']\n",
    "\n",
    "train_set.set_transform(preprocess_train)\n",
    "val_set.set_transform(preprocess_val)"
   ]
  },
  {
   "cell_type": "code",
   "execution_count": 19,
   "metadata": {},
   "outputs": [],
   "source": [
    "######## desktop ########\n",
    "model_dir = os.path.abspath('../../../../models/HAM10000/Swin-Transformer/ham10000-swin-fagt-alpha-3')"
   ]
  },
  {
   "cell_type": "code",
   "execution_count": 20,
   "metadata": {
    "execution": {
     "iopub.execute_input": "2023-02-27T11:51:55.529731Z",
     "iopub.status.busy": "2023-02-27T11:51:55.529230Z",
     "iopub.status.idle": "2023-02-27T11:51:55.616021Z",
     "shell.execute_reply": "2023-02-27T11:51:55.615012Z",
     "shell.execute_reply.started": "2023-02-27T11:51:55.529704Z"
    }
   },
   "outputs": [],
   "source": [
    "batch_size=32\n",
    "lr=5e-5\n",
    "epochs=10\n",
    "\n",
    "######## kaggle ########\n",
    "# output_dir = '/kaggle/working/saved_model'\n",
    "\n",
    "######## desktop ########\n",
    "output_dir = os.path.join(model_dir, 'saved_model')\n",
    "\n",
    "args = TrainingArguments(\n",
    "    output_dir=output_dir,\n",
    "    remove_unused_columns=False,\n",
    "    evaluation_strategy = 'steps',\n",
    "    eval_steps=10,\n",
    "    save_strategy = 'steps',\n",
    "    save_steps=10,\n",
    "    learning_rate=lr,\n",
    "    per_device_train_batch_size=batch_size,\n",
    "    per_device_eval_batch_size=batch_size,\n",
    "    gradient_accumulation_steps=4,\n",
    "    num_train_epochs=epochs,\n",
    "    optim='adamw_torch',\n",
    "    warmup_ratio=0.1,\n",
    "    logging_steps=10,\n",
    "    load_best_model_at_end=True,\n",
    "    metric_for_best_model='f1',\n",
    "    save_total_limit=1,\n",
    "    push_to_hub=False,\n",
    "    report_to='none'\n",
    ")"
   ]
  },
  {
   "cell_type": "code",
   "execution_count": 21,
   "metadata": {},
   "outputs": [],
   "source": [
    "def compute_sensitivity(y_true_flat, y_pred_flat):\n",
    "    cm=confusion_matrix(y_true_flat, y_pred_flat)\n",
    "    FP = cm.sum(axis=0) - np.diag(cm)  \n",
    "    FN = cm.sum(axis=1) - np.diag(cm)\n",
    "    TP = np.diag(cm)\n",
    "    TN = cm.sum() - (FP + FN + TP)\n",
    "    Sensitivity = TP/(TP+FN)    \n",
    "    return np.mean(Sensitivity)\n",
    "\n",
    "def compute_specificity(y_true_flat, y_pred_flat):\n",
    "    cm=confusion_matrix(y_true_flat, y_pred_flat)\n",
    "    FP = cm.sum(axis=0) - np.diag(cm)  \n",
    "    FN = cm.sum(axis=1) - np.diag(cm)\n",
    "    TP = np.diag(cm)\n",
    "    TN = cm.sum() - (FP + FN + TP)\n",
    "    Specificity = TN/(TN+FP)    \n",
    "    return np.mean(Specificity)"
   ]
  },
  {
   "cell_type": "code",
   "execution_count": 22,
   "metadata": {
    "execution": {
     "iopub.execute_input": "2023-02-27T11:51:55.617751Z",
     "iopub.status.busy": "2023-02-27T11:51:55.617379Z",
     "iopub.status.idle": "2023-02-27T11:51:55.635736Z",
     "shell.execute_reply": "2023-02-27T11:51:55.633122Z",
     "shell.execute_reply.started": "2023-02-27T11:51:55.617715Z"
    }
   },
   "outputs": [],
   "source": [
    "def compute_metrics(eval_pred):\n",
    "    logits, y_true_flat = eval_pred\n",
    "    y_pred_flat = np.argmax(logits, axis=1)\n",
    "    \n",
    "    sensitivity = compute_sensitivity(y_true_flat, y_pred_flat)\n",
    "    specificity = compute_specificity(y_true_flat, y_pred_flat)\n",
    "    \n",
    "    precision = float('{0:.6f}'.format(precision_score(y_true_flat, y_pred_flat, average='macro')))\n",
    "    recall = float('{0:.6f}'.format(recall_score(y_true_flat, y_pred_flat, average='macro')))\n",
    "    f1 = float('{0:.6f}'.format(f1_score(y_true_flat, y_pred_flat, average='macro')))\n",
    "    accuracy = float('{0:.6f}'.format(accuracy_score(y_true_flat, y_pred_flat)))\n",
    "\n",
    "    return {'precision': precision, \n",
    "            'recall': recall, \n",
    "            'f1': f1, \n",
    "            'sensitivity': sensitivity, \n",
    "            'specificity': specificity,\n",
    "            'accuracy': accuracy\n",
    "           }\n",
    "\n",
    "def collate_fn(examples):\n",
    "    pixel_values = torch.stack([example[\"pixel_values\"] for example in examples])\n",
    "    labels = torch.tensor([example[\"label\"] for example in examples])\n",
    "    return {\"pixel_values\": pixel_values, \"labels\": labels}"
   ]
  },
  {
   "cell_type": "markdown",
   "metadata": {},
   "source": [
    "## Train"
   ]
  },
  {
   "cell_type": "code",
   "execution_count": 23,
   "metadata": {
    "execution": {
     "iopub.execute_input": "2023-02-27T11:51:55.638452Z",
     "iopub.status.busy": "2023-02-27T11:51:55.637916Z",
     "iopub.status.idle": "2023-02-27T11:52:00.687526Z",
     "shell.execute_reply": "2023-02-27T11:52:00.686503Z",
     "shell.execute_reply.started": "2023-02-27T11:51:55.638413Z"
    }
   },
   "outputs": [],
   "source": [
    "trainer = Trainer(\n",
    "    model=model,\n",
    "    args=args,\n",
    "    train_dataset=train_set,\n",
    "    eval_dataset=val_set,\n",
    "    tokenizer=feature_extractor,\n",
    "    compute_metrics=compute_metrics,\n",
    "    data_collator=collate_fn\n",
    ")"
   ]
  },
  {
   "cell_type": "code",
   "execution_count": 24,
   "metadata": {
    "execution": {
     "iopub.execute_input": "2023-02-27T11:52:00.689541Z",
     "iopub.status.busy": "2023-02-27T11:52:00.689169Z",
     "iopub.status.idle": "2023-02-27T14:02:22.587731Z",
     "shell.execute_reply": "2023-02-27T14:02:22.586884Z",
     "shell.execute_reply.started": "2023-02-27T11:52:00.689504Z"
    }
   },
   "outputs": [],
   "source": [
    "# # train model\n",
    "# trainer.train()\n",
    "\n",
    "# # creating downloads directory\n",
    "# downloads = '/kaggle/working/downloads'\n",
    "\n",
    "# if os.path.isdir(downloads):\n",
    "#     print('Folder already exists!')\n",
    "# else:\n",
    "#     os.makedirs(downloads)\n",
    "#     print('Folder created!')\n",
    "\n",
    "# # save best model\n",
    "# trainer.save_model(downloads)\n",
    "\n",
    "# # save training log\n",
    "# df = pd.DataFrame(trainer.state.log_history)\n",
    "# df.to_csv('/kaggle/working/downloads/training_log.csv')"
   ]
  },
  {
   "cell_type": "markdown",
   "metadata": {},
   "source": [
    "## Read CSV"
   ]
  },
  {
   "cell_type": "code",
   "execution_count": 25,
   "metadata": {
    "execution": {
     "iopub.execute_input": "2023-02-27T14:02:22.595469Z",
     "iopub.status.busy": "2023-02-27T14:02:22.592468Z",
     "iopub.status.idle": "2023-02-27T14:02:22.663595Z",
     "shell.execute_reply": "2023-02-27T14:02:22.662763Z",
     "shell.execute_reply.started": "2023-02-27T14:02:22.595397Z"
    }
   },
   "outputs": [
    {
     "data": {
      "text/html": [
       "<div>\n",
       "<style scoped>\n",
       "    .dataframe tbody tr th:only-of-type {\n",
       "        vertical-align: middle;\n",
       "    }\n",
       "\n",
       "    .dataframe tbody tr th {\n",
       "        vertical-align: top;\n",
       "    }\n",
       "\n",
       "    .dataframe thead th {\n",
       "        text-align: right;\n",
       "    }\n",
       "</style>\n",
       "<table border=\"1\" class=\"dataframe\">\n",
       "  <thead>\n",
       "    <tr style=\"text-align: right;\">\n",
       "      <th></th>\n",
       "      <th>Precision</th>\n",
       "      <th>Recall</th>\n",
       "      <th>F1-Score</th>\n",
       "      <th>Sensitivity</th>\n",
       "      <th>Specificity</th>\n",
       "      <th>Accuracy</th>\n",
       "    </tr>\n",
       "  </thead>\n",
       "  <tbody>\n",
       "    <tr>\n",
       "      <th>1</th>\n",
       "      <td>0.114301</td>\n",
       "      <td>0.151887</td>\n",
       "      <td>0.058346</td>\n",
       "      <td>0.151887</td>\n",
       "      <td>0.845899</td>\n",
       "      <td>0.080918</td>\n",
       "    </tr>\n",
       "    <tr>\n",
       "      <th>3</th>\n",
       "      <td>0.133825</td>\n",
       "      <td>0.161691</td>\n",
       "      <td>0.065175</td>\n",
       "      <td>0.161691</td>\n",
       "      <td>0.854745</td>\n",
       "      <td>0.113527</td>\n",
       "    </tr>\n",
       "    <tr>\n",
       "      <th>5</th>\n",
       "      <td>0.149229</td>\n",
       "      <td>0.186470</td>\n",
       "      <td>0.076932</td>\n",
       "      <td>0.186470</td>\n",
       "      <td>0.866642</td>\n",
       "      <td>0.163043</td>\n",
       "    </tr>\n",
       "    <tr>\n",
       "      <th>7</th>\n",
       "      <td>0.192560</td>\n",
       "      <td>0.225868</td>\n",
       "      <td>0.134527</td>\n",
       "      <td>0.225868</td>\n",
       "      <td>0.883709</td>\n",
       "      <td>0.316425</td>\n",
       "    </tr>\n",
       "    <tr>\n",
       "      <th>9</th>\n",
       "      <td>0.240622</td>\n",
       "      <td>0.305816</td>\n",
       "      <td>0.216825</td>\n",
       "      <td>0.305816</td>\n",
       "      <td>0.902472</td>\n",
       "      <td>0.542271</td>\n",
       "    </tr>\n",
       "    <tr>\n",
       "      <th>11</th>\n",
       "      <td>0.349335</td>\n",
       "      <td>0.367169</td>\n",
       "      <td>0.304067</td>\n",
       "      <td>0.367169</td>\n",
       "      <td>0.912997</td>\n",
       "      <td>0.698068</td>\n",
       "    </tr>\n",
       "    <tr>\n",
       "      <th>13</th>\n",
       "      <td>0.576036</td>\n",
       "      <td>0.369504</td>\n",
       "      <td>0.363462</td>\n",
       "      <td>0.369504</td>\n",
       "      <td>0.911227</td>\n",
       "      <td>0.780193</td>\n",
       "    </tr>\n",
       "    <tr>\n",
       "      <th>15</th>\n",
       "      <td>0.651778</td>\n",
       "      <td>0.330864</td>\n",
       "      <td>0.374737</td>\n",
       "      <td>0.330864</td>\n",
       "      <td>0.894103</td>\n",
       "      <td>0.818841</td>\n",
       "    </tr>\n",
       "    <tr>\n",
       "      <th>17</th>\n",
       "      <td>0.591518</td>\n",
       "      <td>0.311776</td>\n",
       "      <td>0.347631</td>\n",
       "      <td>0.311776</td>\n",
       "      <td>0.892868</td>\n",
       "      <td>0.815217</td>\n",
       "    </tr>\n",
       "    <tr>\n",
       "      <th>19</th>\n",
       "      <td>0.642072</td>\n",
       "      <td>0.328436</td>\n",
       "      <td>0.385413</td>\n",
       "      <td>0.328436</td>\n",
       "      <td>0.900389</td>\n",
       "      <td>0.824879</td>\n",
       "    </tr>\n",
       "  </tbody>\n",
       "</table>\n",
       "</div>"
      ],
      "text/plain": [
       "    Precision    Recall  F1-Score  Sensitivity  Specificity  Accuracy\n",
       "1    0.114301  0.151887  0.058346     0.151887     0.845899  0.080918\n",
       "3    0.133825  0.161691  0.065175     0.161691     0.854745  0.113527\n",
       "5    0.149229  0.186470  0.076932     0.186470     0.866642  0.163043\n",
       "7    0.192560  0.225868  0.134527     0.225868     0.883709  0.316425\n",
       "9    0.240622  0.305816  0.216825     0.305816     0.902472  0.542271\n",
       "11   0.349335  0.367169  0.304067     0.367169     0.912997  0.698068\n",
       "13   0.576036  0.369504  0.363462     0.369504     0.911227  0.780193\n",
       "15   0.651778  0.330864  0.374737     0.330864     0.894103  0.818841\n",
       "17   0.591518  0.311776  0.347631     0.311776     0.892868  0.815217\n",
       "19   0.642072  0.328436  0.385413     0.328436     0.900389  0.824879"
      ]
     },
     "execution_count": 25,
     "metadata": {},
     "output_type": "execute_result"
    }
   ],
   "source": [
    "######## kaggle ########\n",
    "# df = pd.read_csv('/kaggle/working/downloads/training_log.csv')\n",
    "\n",
    "######## desktop ########\n",
    "df = pd.read_csv(os.path.join(model_dir, 'training_log.csv'))\n",
    "df_backup = df\n",
    "\n",
    "# read training log\n",
    "df = df[['eval_precision', \n",
    "         'eval_recall', \n",
    "         'eval_f1', \n",
    "         'eval_sensitivity', \n",
    "         'eval_specificity',\n",
    "         'eval_accuracy'\n",
    "        ]].dropna()\n",
    "\n",
    "# rename columns\n",
    "df.rename(columns={'eval_precision':'Precision', \n",
    "                   'eval_recall':'Recall', \n",
    "                   'eval_f1':'F1-Score', \n",
    "                   'eval_sensitivity':'Sensitivity', \n",
    "                   'eval_specificity':'Specificity', \n",
    "                   'eval_accuracy':'Accuracy'\n",
    "                  }, inplace = True)\n",
    "\n",
    "df.head(10)"
   ]
  },
  {
   "cell_type": "code",
   "execution_count": 26,
   "metadata": {
    "execution": {
     "iopub.execute_input": "2023-02-27T14:02:22.669732Z",
     "iopub.status.busy": "2023-02-27T14:02:22.667580Z",
     "iopub.status.idle": "2023-02-27T14:02:22.692398Z",
     "shell.execute_reply": "2023-02-27T14:02:22.691578Z",
     "shell.execute_reply.started": "2023-02-27T14:02:22.669686Z"
    }
   },
   "outputs": [
    {
     "data": {
      "text/html": [
       "<div>\n",
       "<style scoped>\n",
       "    .dataframe tbody tr th:only-of-type {\n",
       "        vertical-align: middle;\n",
       "    }\n",
       "\n",
       "    .dataframe tbody tr th {\n",
       "        vertical-align: top;\n",
       "    }\n",
       "\n",
       "    .dataframe thead th {\n",
       "        text-align: right;\n",
       "    }\n",
       "</style>\n",
       "<table border=\"1\" class=\"dataframe\">\n",
       "  <thead>\n",
       "    <tr style=\"text-align: right;\">\n",
       "      <th></th>\n",
       "      <th>Precision</th>\n",
       "      <th>Recall</th>\n",
       "      <th>F1-Score</th>\n",
       "      <th>Sensitivity</th>\n",
       "      <th>Specificity</th>\n",
       "      <th>Accuracy</th>\n",
       "    </tr>\n",
       "  </thead>\n",
       "  <tbody>\n",
       "    <tr>\n",
       "      <th>365</th>\n",
       "      <td>0.816303</td>\n",
       "      <td>0.824804</td>\n",
       "      <td>0.819029</td>\n",
       "      <td>0.824804</td>\n",
       "      <td>0.980865</td>\n",
       "      <td>0.940821</td>\n",
       "    </tr>\n",
       "    <tr>\n",
       "      <th>361</th>\n",
       "      <td>0.835797</td>\n",
       "      <td>0.807151</td>\n",
       "      <td>0.817542</td>\n",
       "      <td>0.807151</td>\n",
       "      <td>0.974845</td>\n",
       "      <td>0.937198</td>\n",
       "    </tr>\n",
       "    <tr>\n",
       "      <th>259</th>\n",
       "      <td>0.831870</td>\n",
       "      <td>0.801843</td>\n",
       "      <td>0.808491</td>\n",
       "      <td>0.801843</td>\n",
       "      <td>0.977906</td>\n",
       "      <td>0.939614</td>\n",
       "    </tr>\n",
       "    <tr>\n",
       "      <th>249</th>\n",
       "      <td>0.798323</td>\n",
       "      <td>0.823863</td>\n",
       "      <td>0.806777</td>\n",
       "      <td>0.823863</td>\n",
       "      <td>0.977750</td>\n",
       "      <td>0.933575</td>\n",
       "    </tr>\n",
       "    <tr>\n",
       "      <th>195</th>\n",
       "      <td>0.811255</td>\n",
       "      <td>0.800215</td>\n",
       "      <td>0.803177</td>\n",
       "      <td>0.800215</td>\n",
       "      <td>0.974957</td>\n",
       "      <td>0.928744</td>\n",
       "    </tr>\n",
       "    <tr>\n",
       "      <th>399</th>\n",
       "      <td>0.812232</td>\n",
       "      <td>0.795136</td>\n",
       "      <td>0.799702</td>\n",
       "      <td>0.795136</td>\n",
       "      <td>0.979995</td>\n",
       "      <td>0.939614</td>\n",
       "    </tr>\n",
       "    <tr>\n",
       "      <th>325</th>\n",
       "      <td>0.808339</td>\n",
       "      <td>0.802350</td>\n",
       "      <td>0.798184</td>\n",
       "      <td>0.802350</td>\n",
       "      <td>0.970715</td>\n",
       "      <td>0.932367</td>\n",
       "    </tr>\n",
       "    <tr>\n",
       "      <th>213</th>\n",
       "      <td>0.780312</td>\n",
       "      <td>0.819588</td>\n",
       "      <td>0.797705</td>\n",
       "      <td>0.819588</td>\n",
       "      <td>0.979611</td>\n",
       "      <td>0.932367</td>\n",
       "    </tr>\n",
       "    <tr>\n",
       "      <th>335</th>\n",
       "      <td>0.800327</td>\n",
       "      <td>0.805171</td>\n",
       "      <td>0.797519</td>\n",
       "      <td>0.805171</td>\n",
       "      <td>0.975876</td>\n",
       "      <td>0.934783</td>\n",
       "    </tr>\n",
       "    <tr>\n",
       "      <th>265</th>\n",
       "      <td>0.835856</td>\n",
       "      <td>0.767818</td>\n",
       "      <td>0.797094</td>\n",
       "      <td>0.767818</td>\n",
       "      <td>0.972659</td>\n",
       "      <td>0.927536</td>\n",
       "    </tr>\n",
       "  </tbody>\n",
       "</table>\n",
       "</div>"
      ],
      "text/plain": [
       "     Precision    Recall  F1-Score  Sensitivity  Specificity  Accuracy\n",
       "365   0.816303  0.824804  0.819029     0.824804     0.980865  0.940821\n",
       "361   0.835797  0.807151  0.817542     0.807151     0.974845  0.937198\n",
       "259   0.831870  0.801843  0.808491     0.801843     0.977906  0.939614\n",
       "249   0.798323  0.823863  0.806777     0.823863     0.977750  0.933575\n",
       "195   0.811255  0.800215  0.803177     0.800215     0.974957  0.928744\n",
       "399   0.812232  0.795136  0.799702     0.795136     0.979995  0.939614\n",
       "325   0.808339  0.802350  0.798184     0.802350     0.970715  0.932367\n",
       "213   0.780312  0.819588  0.797705     0.819588     0.979611  0.932367\n",
       "335   0.800327  0.805171  0.797519     0.805171     0.975876  0.934783\n",
       "265   0.835856  0.767818  0.797094     0.767818     0.972659  0.927536"
      ]
     },
     "execution_count": 26,
     "metadata": {},
     "output_type": "execute_result"
    }
   ],
   "source": [
    "# sort training log\n",
    "df_sort = df.sort_values('F1-Score', ascending=False)\n",
    "df_sort.head(10)"
   ]
  },
  {
   "cell_type": "markdown",
   "metadata": {},
   "source": [
    "## Performance Index"
   ]
  },
  {
   "cell_type": "code",
   "execution_count": 27,
   "metadata": {
    "execution": {
     "iopub.execute_input": "2023-02-27T14:02:22.694112Z",
     "iopub.status.busy": "2023-02-27T14:02:22.693612Z",
     "iopub.status.idle": "2023-02-27T14:02:23.217607Z",
     "shell.execute_reply": "2023-02-27T14:02:23.216631Z",
     "shell.execute_reply.started": "2023-02-27T14:02:22.694081Z"
    }
   },
   "outputs": [
    {
     "data": {
      "image/png": "[encoded data removed]",
      "text/plain": [
       "<Figure size 600x400 with 1 Axes>"
      ]
     },
     "metadata": {},
     "output_type": "display_data"
    }
   ],
   "source": [
    "fig, ax = plt.subplots(figsize=(6, 4))\n",
    "\n",
    "x = df['F1-Score'].index.values.tolist()\n",
    "y = df['F1-Score'].values.tolist()\n",
    "\n",
    "# plot AUC \n",
    "plt.plot(x, y, lw=2)\n",
    "\n",
    "# Find the index and coordinates of the highest point\n",
    "idx = np.argmax(y)\n",
    "x_max = x[idx]\n",
    "y_max = y[idx]\n",
    "\n",
    "xlim, ylim = plt.xlim(), plt.ylim()\n",
    "plt.plot([x[idx], x[idx], xlim[0]], [xlim[0], y[idx], y[idx]], linestyle=\"--\")\n",
    "plt.xlim(xlim)\n",
    "plt.ylim(ylim)\n",
    "\n",
    "plt.annotate(\n",
    "    'F1-Score {0:.4f}'.format(max(y)), \n",
    "    xy=(x_max, y_max), \n",
    "    xytext=(x_max + 10, y_max - 0.02),  \n",
    "    bbox=dict(boxstyle=\"round4\", fc=\"w\"),\n",
    "    arrowprops=dict(arrowstyle=\"-|>\", connectionstyle=\"arc3, rad=-0.2\", fc=\"w\")\n",
    ")\n",
    "\n",
    "plt.title('Swin Transformer+FAGT+α=0.85')\n",
    "plt.legend(['F1-Score', 'X and Y'], loc='lower right')\n",
    "plt.xlabel('Steps')\n",
    "plt.ylabel('F1-Score')\n",
    "plt.show()"
   ]
  },
  {
   "cell_type": "markdown",
   "metadata": {},
   "source": [
    "## Training Time"
   ]
  },
  {
   "cell_type": "code",
   "execution_count": 28,
   "metadata": {},
   "outputs": [
    {
     "name": "stdout",
     "output_type": "stream",
     "text": [
      "Training Time: 2:3:24\n"
     ]
    }
   ],
   "source": [
    "# training time \n",
    "last_row = df_backup.iloc[-1]\n",
    "column_value = last_row['train_runtime']\n",
    "\n",
    "# convert seconds to hours, minutes, and seconds\n",
    "hours = int(column_value // 3600)\n",
    "seconds_remaining = column_value % 3600\n",
    "minutes = int(seconds_remaining // 60)\n",
    "seconds = int(seconds_remaining % 60)\n",
    "\n",
    "# print training time\n",
    "print(f\"Training Time: {hours}:{minutes}:{seconds}\")"
   ]
  },
  {
   "cell_type": "markdown",
   "metadata": {},
   "source": [
    "## Test"
   ]
  },
  {
   "cell_type": "code",
   "execution_count": 29,
   "metadata": {
    "execution": {
     "iopub.execute_input": "2023-02-27T14:02:23.219969Z",
     "iopub.status.busy": "2023-02-27T14:02:23.219083Z",
     "iopub.status.idle": "2023-02-27T14:02:23.225392Z",
     "shell.execute_reply": "2023-02-27T14:02:23.224237Z",
     "shell.execute_reply.started": "2023-02-27T14:02:23.219927Z"
    }
   },
   "outputs": [],
   "source": [
    "######## kaggle ########\n",
    "# save_path = '/kaggle/working/downloads'\n",
    "# load_model = save_path\n",
    "\n",
    "######## desktop ########\n",
    "save_path = os.path.join(model_dir, 'saved_model')\n",
    "load_model = save_path"
   ]
  },
  {
   "cell_type": "code",
   "execution_count": 30,
   "metadata": {
    "execution": {
     "iopub.execute_input": "2023-02-27T14:02:23.229872Z",
     "iopub.status.busy": "2023-02-27T14:02:23.228713Z",
     "iopub.status.idle": "2023-02-27T14:02:23.695856Z",
     "shell.execute_reply": "2023-02-27T14:02:23.694939Z",
     "shell.execute_reply.started": "2023-02-27T14:02:23.229816Z"
    },
    "scrolled": true
   },
   "outputs": [],
   "source": [
    "trained_model = AutoModelForImageClassification.from_pretrained(\n",
    "    load_model, \n",
    "    label2id=label2id,\n",
    "    id2label=id2label,\n",
    "    ignore_mismatched_sizes = True, \n",
    ")"
   ]
  },
  {
   "cell_type": "code",
   "execution_count": 31,
   "metadata": {
    "execution": {
     "iopub.execute_input": "2023-02-27T14:02:23.701851Z",
     "iopub.status.busy": "2023-02-27T14:02:23.699719Z",
     "iopub.status.idle": "2023-02-27T14:02:23.766103Z",
     "shell.execute_reply": "2023-02-27T14:02:23.765229Z",
     "shell.execute_reply.started": "2023-02-27T14:02:23.701798Z"
    }
   },
   "outputs": [],
   "source": [
    "tester = Trainer(\n",
    "    model=trained_model,\n",
    "    args=args,\n",
    "    train_dataset=train_set,\n",
    "    eval_dataset=val_set,\n",
    "    tokenizer=feature_extractor,\n",
    "    compute_metrics=compute_metrics,\n",
    "    data_collator=collate_fn\n",
    ")"
   ]
  },
  {
   "cell_type": "code",
   "execution_count": 32,
   "metadata": {
    "execution": {
     "iopub.execute_input": "2023-02-27T14:02:23.772872Z",
     "iopub.status.busy": "2023-02-27T14:02:23.770609Z",
     "iopub.status.idle": "2023-02-27T14:02:29.609697Z",
     "shell.execute_reply": "2023-02-27T14:02:29.608741Z",
     "shell.execute_reply.started": "2023-02-27T14:02:23.772823Z"
    },
    "scrolled": true
   },
   "outputs": [
    {
     "data": {
      "text/html": [],
      "text/plain": [
       "<IPython.core.display.HTML object>"
      ]
     },
     "metadata": {},
     "output_type": "display_data"
    },
    {
     "data": {
      "text/plain": [
       "{'eval_loss': 0.2459072470664978,\n",
       " 'eval_precision': 0.816303,\n",
       " 'eval_recall': 0.824804,\n",
       " 'eval_f1': 0.819029,\n",
       " 'eval_sensitivity': 0.824803670327967,\n",
       " 'eval_specificity': 0.9808653487227295,\n",
       " 'eval_accuracy': 0.940821,\n",
       " 'eval_runtime': 23.4115,\n",
       " 'eval_samples_per_second': 35.367,\n",
       " 'eval_steps_per_second': 1.111}"
      ]
     },
     "execution_count": 32,
     "metadata": {},
     "output_type": "execute_result"
    }
   ],
   "source": [
    "tester.evaluate()"
   ]
  },
  {
   "cell_type": "code",
   "execution_count": 33,
   "metadata": {
    "execution": {
     "iopub.execute_input": "2023-02-27T14:02:29.612519Z",
     "iopub.status.busy": "2023-02-27T14:02:29.611854Z",
     "iopub.status.idle": "2023-02-27T14:02:35.616447Z",
     "shell.execute_reply": "2023-02-27T14:02:35.615410Z",
     "shell.execute_reply.started": "2023-02-27T14:02:29.612480Z"
    }
   },
   "outputs": [],
   "source": [
    "predictions = tester.predict(test_dataset=val_set).predictions"
   ]
  },
  {
   "cell_type": "code",
   "execution_count": 34,
   "metadata": {},
   "outputs": [],
   "source": [
    "def to_categorical(y, num_classes):\n",
    "    \"\"\" 1-hot encoding \"\"\"\n",
    "    return np.eye(num_classes, dtype='uint8')[y]\n",
    "\n",
    "def test_set(val_set):\n",
    "    y = []\n",
    "    for i in range(val_set.num_rows):\n",
    "        y.append(val_set[i]['label'])\n",
    "    return np.array(y)"
   ]
  },
  {
   "cell_type": "code",
   "execution_count": 35,
   "metadata": {},
   "outputs": [],
   "source": [
    "############## true ##############\n",
    "# y_true_flat\n",
    "y_true_flat = test_set(val_set)\n",
    "\n",
    "# y_true\n",
    "y_true = to_categorical(y_true_flat, 7)\n",
    "\n",
    "############## predicted ##############\n",
    "# y_pred_flat\n",
    "y_pred_flat = np.argmax(predictions, axis=-1)\n",
    "\n",
    "# y_pred\n",
    "y_pred = predictions"
   ]
  },
  {
   "cell_type": "code",
   "execution_count": 36,
   "metadata": {},
   "outputs": [
    {
     "name": "stdout",
     "output_type": "stream",
     "text": [
      "akiec AUC:  0.9903\n",
      "bcc AUC:  0.9983\n",
      "bkl AUC:  0.9731\n",
      "df AUC:  0.9866\n",
      "mel AUC:  0.8722\n",
      "nv AUC:  0.9871\n",
      "vasc AUC:  0.9984\n"
     ]
    }
   ],
   "source": [
    "############## ROC AUC ##############\n",
    "classes = ['akiec', 'bcc', 'bkl', 'df', 'mel', 'nv', 'vasc']\n",
    "\n",
    "for i in range(7):\n",
    "    print(f\"{classes[i]} AUC: \", '{0:.4f}'.format(roc_auc_score(y_true[:, i], y_pred[:, i])))"
   ]
  },
  {
   "cell_type": "code",
   "execution_count": 37,
   "metadata": {},
   "outputs": [
    {
     "name": "stdout",
     "output_type": "stream",
     "text": [
      "Average AUC:  97.23%\n"
     ]
    }
   ],
   "source": [
    "print(\"Average AUC: \", '{0:.2f}%'.format(roc_auc_score(y_true, y_pred)*100))"
   ]
  },
  {
   "cell_type": "code",
   "execution_count": 38,
   "metadata": {},
   "outputs": [
    {
     "data": {
      "image/png": "[encoded data removed]",
      "text/plain": [
       "<Figure size 700x500 with 1 Axes>"
      ]
     },
     "metadata": {},
     "output_type": "display_data"
    }
   ],
   "source": [
    "############## AUC ##############\n",
    "fig, ax = plt.subplots(figsize=(7, 5))\n",
    "\n",
    "classes = ['akiec', 'bcc', 'bkl', 'df', 'mel', 'nv', 'vasc']\n",
    "colours = ['mediumorchid', 'royalblue', 'deepskyblue', 'green', 'gold', 'red', 'hotpink']\n",
    "\n",
    "for i in range(7):\n",
    "    RocCurveDisplay.from_predictions(\n",
    "        y_true[:, i],\n",
    "        y_pred[:, i],\n",
    "        name=f'ROC curve of {classes[i]}',\n",
    "        color=colours[i],\n",
    "        ax=ax\n",
    "    )\n",
    "\n",
    "plt.plot([0, 1], [0, 1], \"k--\")\n",
    "plt.xlabel(\"False Positive Rate\")\n",
    "plt.ylabel(\"True Positive Rate\")\n",
    "plt.title(\"Swin Transformer+FAGT+α=0.85\")\n",
    "plt.legend()\n",
    "plt.show()"
   ]
  },
  {
   "cell_type": "code",
   "execution_count": 39,
   "metadata": {
    "execution": {
     "iopub.execute_input": "2023-02-27T14:02:39.052246Z",
     "iopub.status.busy": "2023-02-27T14:02:39.051048Z",
     "iopub.status.idle": "2023-02-27T14:02:39.067340Z",
     "shell.execute_reply": "2023-02-27T14:02:39.066153Z",
     "shell.execute_reply.started": "2023-02-27T14:02:39.052202Z"
    }
   },
   "outputs": [
    {
     "name": "stdout",
     "output_type": "stream",
     "text": [
      "\n",
      "Classification Report:\n",
      "              precision    recall  f1-score   support\n",
      "\n",
      "       akiec       0.76      0.83      0.79        23\n",
      "         bcc       0.88      0.88      0.88        26\n",
      "         bkl       0.85      0.77      0.81        66\n",
      "          df       0.71      0.83      0.77         6\n",
      "         mel       0.64      0.68      0.66        34\n",
      "          nv       0.98      0.98      0.98       663\n",
      "        vasc       0.89      0.80      0.84        10\n",
      "\n",
      "    accuracy                           0.94       828\n",
      "   macro avg       0.82      0.82      0.82       828\n",
      "weighted avg       0.94      0.94      0.94       828\n",
      "\n"
     ]
    }
   ],
   "source": [
    "classes = ['akiec', 'bcc', 'bkl', 'df', 'mel', 'nv', 'vasc']\n",
    "\n",
    "report = classification_report(y_true_flat, y_pred_flat, target_names=classes)\n",
    "\n",
    "print(\"\\nClassification Report:\")\n",
    "print(report)"
   ]
  },
  {
   "cell_type": "code",
   "execution_count": 40,
   "metadata": {
    "execution": {
     "iopub.execute_input": "2023-02-27T14:02:39.089940Z",
     "iopub.status.busy": "2023-02-27T14:02:39.089573Z",
     "iopub.status.idle": "2023-02-27T14:02:39.122983Z",
     "shell.execute_reply": "2023-02-27T14:02:39.121885Z",
     "shell.execute_reply.started": "2023-02-27T14:02:39.089906Z"
    }
   },
   "outputs": [
    {
     "data": {
      "text/html": [
       "<style type=\"text/css\">\n",
       "</style>\n",
       "<table id=\"T_97d1c\">\n",
       "  <thead>\n",
       "    <tr>\n",
       "      <th id=\"T_97d1c_level0_col0\" class=\"col_heading level0 col0\" >Precision (%)</th>\n",
       "      <th id=\"T_97d1c_level0_col1\" class=\"col_heading level0 col1\" >Recall (%)</th>\n",
       "      <th id=\"T_97d1c_level0_col2\" class=\"col_heading level0 col2\" >F1-Score (%)</th>\n",
       "      <th id=\"T_97d1c_level0_col3\" class=\"col_heading level0 col3\" >Accuracy (%)</th>\n",
       "      <th id=\"T_97d1c_level0_col4\" class=\"col_heading level0 col4\" >Sensitivity (%)</th>\n",
       "      <th id=\"T_97d1c_level0_col5\" class=\"col_heading level0 col5\" >Specificity (%)</th>\n",
       "    </tr>\n",
       "  </thead>\n",
       "  <tbody>\n",
       "    <tr>\n",
       "      <td id=\"T_97d1c_row0_col0\" class=\"data row0 col0\" >81.63</td>\n",
       "      <td id=\"T_97d1c_row0_col1\" class=\"data row0 col1\" >82.48</td>\n",
       "      <td id=\"T_97d1c_row0_col2\" class=\"data row0 col2\" >81.90</td>\n",
       "      <td id=\"T_97d1c_row0_col3\" class=\"data row0 col3\" >94.08</td>\n",
       "      <td id=\"T_97d1c_row0_col4\" class=\"data row0 col4\" >82.48</td>\n",
       "      <td id=\"T_97d1c_row0_col5\" class=\"data row0 col5\" >98.09</td>\n",
       "    </tr>\n",
       "  </tbody>\n",
       "</table>\n"
      ],
      "text/plain": [
       "<pandas.io.formats.style.Styler at 0x212239f14b0>"
      ]
     },
     "execution_count": 40,
     "metadata": {},
     "output_type": "execute_result"
    }
   ],
   "source": [
    "sensitivity = '{0:.2f}'.format(compute_sensitivity(y_true_flat, y_pred_flat)*100)\n",
    "specificity = '{0:.2f}'.format(compute_specificity(y_true_flat, y_pred_flat)*100)\n",
    "    \n",
    "precision = '{0:.2f}'.format(precision_score(y_true_flat, y_pred_flat, average='macro')*100)\n",
    "recall = '{0:.2f}'.format(recall_score(y_true_flat, y_pred_flat, average='macro')*100)\n",
    "f1 = '{0:.2f}'.format(f1_score(y_true_flat, y_pred_flat, average='macro')*100)\n",
    "accuracy = '{0:.2f}'.format(accuracy_score(y_true_flat, y_pred_flat)*100)\n",
    "\n",
    "matrix_log = [[precision, recall, f1, accuracy, sensitivity, specificity]]\n",
    "df_result = pd.DataFrame(\n",
    "    matrix_log, \n",
    "    columns=[\n",
    "        'Precision (%)',\n",
    "        'Recall (%)', \n",
    "        'F1-Score (%)',\n",
    "        'Accuracy (%)', \n",
    "        'Sensitivity (%)', \n",
    "        'Specificity (%)'\n",
    "    ])\n",
    "\n",
    "df_result = df_result.style.hide(axis='index')\n",
    "df_result"
   ]
  },
  {
   "cell_type": "code",
   "execution_count": 41,
   "metadata": {
    "execution": {
     "iopub.execute_input": "2023-02-27T14:02:39.125521Z",
     "iopub.status.busy": "2023-02-27T14:02:39.124611Z",
     "iopub.status.idle": "2023-02-27T14:02:39.685247Z",
     "shell.execute_reply": "2023-02-27T14:02:39.684128Z",
     "shell.execute_reply.started": "2023-02-27T14:02:39.125484Z"
    }
   },
   "outputs": [
    {
     "data": {
      "image/png": "[encoded data removed]",
      "text/plain": [
       "<Figure size 640x480 with 2 Axes>"
      ]
     },
     "metadata": {},
     "output_type": "display_data"
    }
   ],
   "source": [
    "cnf_matrix = confusion_matrix(y_true_flat, y_pred_flat)\n",
    "\n",
    "group_counts = [\"{0:0.0f}\".format(value) for value in cnf_matrix.flatten()]\n",
    "\n",
    "labels = [f\"{v1}\" for v1 in group_counts]\n",
    "\n",
    "matrix_labels = np.asarray(labels).reshape(7,7)\n",
    "axis_labels = ['akiec', 'bcc', 'bkl', 'df', 'mel', 'nv', 'vasc']\n",
    "\n",
    "ax = sns.heatmap(\n",
    "    cnf_matrix, \n",
    "    annot=matrix_labels, \n",
    "    fmt='',  \n",
    "    cmap='PuRd', \n",
    "    linewidths=0.1, \n",
    "    linecolor=(191/255, 62/255, 98/255),\n",
    "    xticklabels=axis_labels, \n",
    "    yticklabels=axis_labels\n",
    ")\n",
    "\n",
    "sns_figure = ax.set(xlabel='Predicted label', ylabel='True label', title='Swin Transformer+FAGT+α=0.85')"
   ]
  },
  {
   "cell_type": "code",
   "execution_count": 42,
   "metadata": {
    "execution": {
     "iopub.execute_input": "2023-02-27T14:02:39.687564Z",
     "iopub.status.busy": "2023-02-27T14:02:39.686935Z",
     "iopub.status.idle": "2023-02-27T14:02:45.933128Z",
     "shell.execute_reply": "2023-02-27T14:02:45.932201Z",
     "shell.execute_reply.started": "2023-02-27T14:02:39.687524Z"
    }
   },
   "outputs": [],
   "source": [
    "######## kaggle ########\n",
    "# downloads = '/kaggle/working/downloads'\n",
    "\n",
    "# source = downloads\n",
    "# destination = downloads\n",
    "\n",
    "# shutil.make_archive(destination, 'zip', source)"
   ]
  },
  {
   "cell_type": "code",
   "execution_count": 43,
   "metadata": {},
   "outputs": [],
   "source": [
    "###################################################################\n",
    "# Download the script and folder named 'downloads'.               # \n",
    "#                                                                 #\n",
    "# The 'downloads' folder contains:                                #\n",
    "#  - the training log file (training_log.csv)                     #\n",
    "#  - the trained model (saved_model)                              #\n",
    "#                                                                 #\n",
    "# Rename the 'downloads' folder to the associated script name.    #\n",
    "#                                                                 # \n",
    "# Move the renamed folder and the script to the current workspace.#\n",
    "# ----------------------------------------------------------------#\n",
    "# - models                                                        #\n",
    "#  - HAM10000                                                     #\n",
    "#   - Swin-Transformer                                            #\n",
    "#    - ham10000-swin-fagt-alpha-3                                 #\n",
    "# ----------------------------------------------------------------#\n",
    "# - scripts                                                       #\n",
    "#  - HAM10000                                                     #\n",
    "#   - HAM10000_model_train                                        #\n",
    "#    - Swin-Transformer                                           #\n",
    "#     - ham10000-swin-fagt-alpha-3.ipynb                          #\n",
    "###################################################################"
   ]
  }
 ],
 "metadata": {
  "kernelspec": {
   "display_name": "Python (csf-model)",
   "language": "python",
   "name": "csf-model"
  },
  "language_info": {
   "codemirror_mode": {
    "name": "ipython",
    "version": 3
   },
   "file_extension": ".py",
   "mimetype": "text/x-python",
   "name": "python",
   "nbconvert_exporter": "python",
   "pygments_lexer": "ipython3",
   "version": "3.10.9"
  }
 },
 "nbformat": 4,
 "nbformat_minor": 4
}
